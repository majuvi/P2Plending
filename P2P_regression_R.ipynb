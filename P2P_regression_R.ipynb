{
 "cells": [
  {
   "cell_type": "markdown",
   "metadata": {},
   "source": [
    "# P2P Lending Profit (in R)\n",
    "<i> Authors: Markus Viljanen </i>"
   ]
  },
  {
   "cell_type": "markdown",
   "metadata": {},
   "source": [
    "In this notebook, we give an R version of the regression models. See the Python notebook 'P2P Lending Models Python.ipynb' for a thorough tutorial. There are two reasons why the R version might be used:\n",
    "\n",
    "1. Interpretation: The Tikhonov regularization can increase predictive accuracy but introduces a small bias to the coefficients.\n",
    "2. Log-link: if one wishes to restrict the recovery rates to be positive, one can use the log-link not available in scikit-learn.\n",
    "\n",
    "The R model therefore implements an exact version of the previous model formulations for the default rate and recovery rate:\n",
    "\n",
    "$$ \\frac{P(Y_{i,t} = 1)}{1 - P(Y_{i,t} = 1)} = \\text{exp}(\\alpha^T e_t + \\beta^T x_i) $$ \n",
    "\n",
    "$$ E[Y_{i,t}] = \\text{exp}(\\alpha^T e_t + \\beta^T x_i) $$ \n",
    "\n"
   ]
  },
  {
   "cell_type": "code",
   "execution_count": 11,
   "metadata": {},
   "outputs": [],
   "source": [
    "options(repr.plot.width=4, repr.plot.height=3)"
   ]
  },
  {
   "cell_type": "markdown",
   "metadata": {},
   "source": [
    "## Imports"
   ]
  },
  {
   "cell_type": "code",
   "execution_count": 16,
   "metadata": {},
   "outputs": [
    {
     "name": "stderr",
     "output_type": "stream",
     "text": [
      "Loading required package: ROCR\n",
      "Loading required package: gplots\n",
      "\n",
      "Attaching package: 'gplots'\n",
      "\n",
      "The following object is masked from 'package:stats':\n",
      "\n",
      "    lowess\n",
      "\n"
     ]
    }
   ],
   "source": [
    "require(biglm)\n",
    "require(caret)\n",
    "require(ROCR)"
   ]
  },
  {
   "cell_type": "code",
   "execution_count": 41,
   "metadata": {},
   "outputs": [],
   "source": [
    "source(\"utilities.R\")"
   ]
  },
  {
   "cell_type": "markdown",
   "metadata": {},
   "source": [
    "## Load Data"
   ]
  },
  {
   "cell_type": "markdown",
   "metadata": {},
   "source": [
    "We load the same data set as in the Python tutorial:"
   ]
  },
  {
   "cell_type": "code",
   "execution_count": 2,
   "metadata": {},
   "outputs": [],
   "source": [
    "df_loan = read.table('datas/LoanData2.csv', sep=',', header=T, stringsAsFactors=T)\n",
    "df_loan <- subset(df_loan, (df_loan$Year > 2009))"
   ]
  },
  {
   "cell_type": "markdown",
   "metadata": {},
   "source": [
    "The numeric columns are processed into quantiles, and categorical columns into contrast coded factors where the baseline is the most common category. "
   ]
  },
  {
   "cell_type": "code",
   "execution_count": 3,
   "metadata": {},
   "outputs": [],
   "source": [
    "col_numeric = c('Age', 'ApplicationSignedHour', 'ApplicationSignedWeekday', 'LoanDuration', 'Amount',\n",
    "                'IncomeTotal', 'LiabilitiesTotal', 'LiabilitiesToIncome', 'LoansToIncome', 'PaymentToIncome',\n",
    "                'ExistingLiabilities', 'PreviousNumber_Intervals', 'PreviousNumber', 'PreviousNumber_Current',\n",
    "                'PreviousNumber_Default', 'PreviousNumber_Repaid', 'PreviousNumber_Rescheduled')\n",
    "for (col in col_numeric) {\n",
    "  df_loan[[col]] <- rank(df_loan[[col]]) / length(df_loan[[col]])\n",
    "}\n",
    "\n",
    "col_classes = c('Year', 'Rating', 'Rating2', 'Gender', 'Education', 'HomeOwnershipType',\n",
    "                'EmploymentDurationCurrentEmployer', 'VerificationType', 'LiabilitiesToIncomeUnknown', 'NoHistory')\n",
    "for (col in col_classes) {\n",
    "  ref <- names(which.max(table(df_loan[[col]])))\n",
    "  df_loan[[col]] <- factor(df_loan[[col]])\n",
    "  contrasts(df_loan[[col]]) <- contr.treatment(levels(df_loan[[col]]), base=which(levels(df_loan[[col]])==ref))\n",
    "}"
   ]
  },
  {
   "cell_type": "markdown",
   "metadata": {},
   "source": [
    "This data set describes the loan features:"
   ]
  },
  {
   "cell_type": "code",
   "execution_count": 4,
   "metadata": {},
   "outputs": [
    {
     "data": {
      "text/html": [
       "<table>\n",
       "<thead><tr><th scope=col>LoanId</th><th scope=col>Interest</th><th scope=col>Year</th><th scope=col>Rating</th><th scope=col>Rating2</th><th scope=col>Gender</th><th scope=col>Age</th><th scope=col>Education</th><th scope=col>HomeOwnershipType</th><th scope=col>ApplicationSignedHour</th><th scope=col>...</th><th scope=col>LoansToIncome</th><th scope=col>PaymentToIncome</th><th scope=col>ExistingLiabilities</th><th scope=col>PreviousNumber_Intervals</th><th scope=col>NoHistory</th><th scope=col>PreviousNumber</th><th scope=col>PreviousNumber_Current</th><th scope=col>PreviousNumber_Default</th><th scope=col>PreviousNumber_Repaid</th><th scope=col>PreviousNumber_Rescheduled</th></tr></thead>\n",
       "<tbody>\n",
       "\t<tr><td>66AE108B-532B-4BB3-BAB7-0019A46412C1</td><td>20.97                               </td><td>2016                                </td><td>C                                   </td><td>EE:1000.0                           </td><td>Female                              </td><td>0.8116931                           </td><td>Secondary education                 </td><td>Owner                               </td><td>0.6962071                           </td><td>...                                 </td><td>0.5944602                           </td><td>0.8836594                           </td><td>0.9138590                           </td><td>0.8182927                           </td><td>False                               </td><td>0.5838987                           </td><td>0.6403428                           </td><td>0.4962192                           </td><td>0.4207                              </td><td>0.4445547                           </td></tr>\n",
       "\t<tr><td>D152382E-A50D-46ED-8FF2-0053E0C86A70</td><td>17.12                               </td><td>2015                                </td><td>B                                   </td><td>EE:1000.0                           </td><td>Female                              </td><td>0.7538277                           </td><td>Higher education                    </td><td>Owner                               </td><td>0.2576790                           </td><td>...                                 </td><td>0.6471470                           </td><td>0.6215225                           </td><td>0.7168541                           </td><td>0.6798504                           </td><td>False                               </td><td>0.5838987                           </td><td>0.6403428                           </td><td>0.4962192                           </td><td>0.4207                              </td><td>0.4445547                           </td></tr>\n",
       "\t<tr><td>87342E13-66CB-483F-833A-007953E50C78</td><td>13.67                               </td><td>2016                                </td><td>A                                   </td><td>EE:1000.0                           </td><td>Male                                </td><td>0.6178322                           </td><td>Secondary education                 </td><td>Mortgage                            </td><td>0.9103530                           </td><td>...                                 </td><td>0.2420294                           </td><td>0.9020138                           </td><td>0.8841655                           </td><td>0.2479085                           </td><td>True                                </td><td>0.2420797                           </td><td>0.2687063                           </td><td>0.4962192                           </td><td>0.4207                              </td><td>0.4445547                           </td></tr>\n",
       "\t<tr><td>87227056-6BF9-410C-98D1-008F788E122A</td><td>40.40                               </td><td>2015                                </td><td>F                                   </td><td>ES:B                                </td><td>Male                                </td><td>0.5650214                           </td><td>Basic education                     </td><td>Living with parents                 </td><td>0.5638851                           </td><td>...                                 </td><td>0.2420294                           </td><td>0.5307058                           </td><td>0.2984032                           </td><td>0.2479085                           </td><td>True                                </td><td>0.2420797                           </td><td>0.2687063                           </td><td>0.4962192                           </td><td>0.4207                              </td><td>0.4445547                           </td></tr>\n",
       "\t<tr><td>2DDE6336-E466-4624-A337-00A0ED1A1468</td><td>68.39                               </td><td>2015                                </td><td>HR                                  </td><td>ES:C                                </td><td>Female                              </td><td>0.3390537                           </td><td>Secondary education                 </td><td>Tenant                              </td><td>0.8449897                           </td><td>...                                 </td><td>0.2420294                           </td><td>0.6861853                           </td><td>0.7899634                           </td><td>0.2479085                           </td><td>True                                </td><td>0.2420797                           </td><td>0.2687063                           </td><td>0.4962192                           </td><td>0.4207                              </td><td>0.4445547                           </td></tr>\n",
       "\t<tr><td>BA1FC89D-44B5-4481-9FCD-00C4BBC174B0</td><td>73.73                               </td><td>2015                                </td><td>HR                                  </td><td>ES:C                                </td><td>Female                              </td><td>0.2516960                           </td><td>Secondary education                 </td><td>Tenant                              </td><td>0.9535978                           </td><td>...                                 </td><td>0.2420294                           </td><td>0.4036628                           </td><td>0.7899634                           </td><td>0.2479085                           </td><td>True                                </td><td>0.2420797                           </td><td>0.2687063                           </td><td>0.4962192                           </td><td>0.4207                              </td><td>0.9263411                           </td></tr>\n",
       "</tbody>\n",
       "</table>\n"
      ],
      "text/latex": [
       "\\begin{tabular}{r|lllllllllllllllllllllllllllll}\n",
       " LoanId & Interest & Year & Rating & Rating2 & Gender & Age & Education & HomeOwnershipType & ApplicationSignedHour & ... & LoansToIncome & PaymentToIncome & ExistingLiabilities & PreviousNumber\\_Intervals & NoHistory & PreviousNumber & PreviousNumber\\_Current & PreviousNumber\\_Default & PreviousNumber\\_Repaid & PreviousNumber\\_Rescheduled\\\\\n",
       "\\hline\n",
       "\t 66AE108B-532B-4BB3-BAB7-0019A46412C1 & 20.97                                & 2016                                 & C                                    & EE:1000.0                            & Female                               & 0.8116931                            & Secondary education                  & Owner                                & 0.6962071                            & ...                                  & 0.5944602                            & 0.8836594                            & 0.9138590                            & 0.8182927                            & False                                & 0.5838987                            & 0.6403428                            & 0.4962192                            & 0.4207                               & 0.4445547                           \\\\\n",
       "\t D152382E-A50D-46ED-8FF2-0053E0C86A70 & 17.12                                & 2015                                 & B                                    & EE:1000.0                            & Female                               & 0.7538277                            & Higher education                     & Owner                                & 0.2576790                            & ...                                  & 0.6471470                            & 0.6215225                            & 0.7168541                            & 0.6798504                            & False                                & 0.5838987                            & 0.6403428                            & 0.4962192                            & 0.4207                               & 0.4445547                           \\\\\n",
       "\t 87342E13-66CB-483F-833A-007953E50C78 & 13.67                                & 2016                                 & A                                    & EE:1000.0                            & Male                                 & 0.6178322                            & Secondary education                  & Mortgage                             & 0.9103530                            & ...                                  & 0.2420294                            & 0.9020138                            & 0.8841655                            & 0.2479085                            & True                                 & 0.2420797                            & 0.2687063                            & 0.4962192                            & 0.4207                               & 0.4445547                           \\\\\n",
       "\t 87227056-6BF9-410C-98D1-008F788E122A & 40.40                                & 2015                                 & F                                    & ES:B                                 & Male                                 & 0.5650214                            & Basic education                      & Living with parents                  & 0.5638851                            & ...                                  & 0.2420294                            & 0.5307058                            & 0.2984032                            & 0.2479085                            & True                                 & 0.2420797                            & 0.2687063                            & 0.4962192                            & 0.4207                               & 0.4445547                           \\\\\n",
       "\t 2DDE6336-E466-4624-A337-00A0ED1A1468 & 68.39                                & 2015                                 & HR                                   & ES:C                                 & Female                               & 0.3390537                            & Secondary education                  & Tenant                               & 0.8449897                            & ...                                  & 0.2420294                            & 0.6861853                            & 0.7899634                            & 0.2479085                            & True                                 & 0.2420797                            & 0.2687063                            & 0.4962192                            & 0.4207                               & 0.4445547                           \\\\\n",
       "\t BA1FC89D-44B5-4481-9FCD-00C4BBC174B0 & 73.73                                & 2015                                 & HR                                   & ES:C                                 & Female                               & 0.2516960                            & Secondary education                  & Tenant                               & 0.9535978                            & ...                                  & 0.2420294                            & 0.4036628                            & 0.7899634                            & 0.2479085                            & True                                 & 0.2420797                            & 0.2687063                            & 0.4962192                            & 0.4207                               & 0.9263411                           \\\\\n",
       "\\end{tabular}\n"
      ],
      "text/markdown": [
       "\n",
       "| LoanId | Interest | Year | Rating | Rating2 | Gender | Age | Education | HomeOwnershipType | ApplicationSignedHour | ... | LoansToIncome | PaymentToIncome | ExistingLiabilities | PreviousNumber_Intervals | NoHistory | PreviousNumber | PreviousNumber_Current | PreviousNumber_Default | PreviousNumber_Repaid | PreviousNumber_Rescheduled |\n",
       "|---|---|---|---|---|---|---|---|---|---|---|---|---|---|---|---|---|---|---|---|---|\n",
       "| 66AE108B-532B-4BB3-BAB7-0019A46412C1 | 20.97                                | 2016                                 | C                                    | EE:1000.0                            | Female                               | 0.8116931                            | Secondary education                  | Owner                                | 0.6962071                            | ...                                  | 0.5944602                            | 0.8836594                            | 0.9138590                            | 0.8182927                            | False                                | 0.5838987                            | 0.6403428                            | 0.4962192                            | 0.4207                               | 0.4445547                            |\n",
       "| D152382E-A50D-46ED-8FF2-0053E0C86A70 | 17.12                                | 2015                                 | B                                    | EE:1000.0                            | Female                               | 0.7538277                            | Higher education                     | Owner                                | 0.2576790                            | ...                                  | 0.6471470                            | 0.6215225                            | 0.7168541                            | 0.6798504                            | False                                | 0.5838987                            | 0.6403428                            | 0.4962192                            | 0.4207                               | 0.4445547                            |\n",
       "| 87342E13-66CB-483F-833A-007953E50C78 | 13.67                                | 2016                                 | A                                    | EE:1000.0                            | Male                                 | 0.6178322                            | Secondary education                  | Mortgage                             | 0.9103530                            | ...                                  | 0.2420294                            | 0.9020138                            | 0.8841655                            | 0.2479085                            | True                                 | 0.2420797                            | 0.2687063                            | 0.4962192                            | 0.4207                               | 0.4445547                            |\n",
       "| 87227056-6BF9-410C-98D1-008F788E122A | 40.40                                | 2015                                 | F                                    | ES:B                                 | Male                                 | 0.5650214                            | Basic education                      | Living with parents                  | 0.5638851                            | ...                                  | 0.2420294                            | 0.5307058                            | 0.2984032                            | 0.2479085                            | True                                 | 0.2420797                            | 0.2687063                            | 0.4962192                            | 0.4207                               | 0.4445547                            |\n",
       "| 2DDE6336-E466-4624-A337-00A0ED1A1468 | 68.39                                | 2015                                 | HR                                   | ES:C                                 | Female                               | 0.3390537                            | Secondary education                  | Tenant                               | 0.8449897                            | ...                                  | 0.2420294                            | 0.6861853                            | 0.7899634                            | 0.2479085                            | True                                 | 0.2420797                            | 0.2687063                            | 0.4962192                            | 0.4207                               | 0.4445547                            |\n",
       "| BA1FC89D-44B5-4481-9FCD-00C4BBC174B0 | 73.73                                | 2015                                 | HR                                   | ES:C                                 | Female                               | 0.2516960                            | Secondary education                  | Tenant                               | 0.9535978                            | ...                                  | 0.2420294                            | 0.4036628                            | 0.7899634                            | 0.2479085                            | True                                 | 0.2420797                            | 0.2687063                            | 0.4962192                            | 0.4207                               | 0.9263411                            |\n",
       "\n"
      ],
      "text/plain": [
       "  LoanId                               Interest Year Rating Rating2   Gender\n",
       "1 66AE108B-532B-4BB3-BAB7-0019A46412C1 20.97    2016 C      EE:1000.0 Female\n",
       "2 D152382E-A50D-46ED-8FF2-0053E0C86A70 17.12    2015 B      EE:1000.0 Female\n",
       "3 87342E13-66CB-483F-833A-007953E50C78 13.67    2016 A      EE:1000.0 Male  \n",
       "4 87227056-6BF9-410C-98D1-008F788E122A 40.40    2015 F      ES:B      Male  \n",
       "5 2DDE6336-E466-4624-A337-00A0ED1A1468 68.39    2015 HR     ES:C      Female\n",
       "6 BA1FC89D-44B5-4481-9FCD-00C4BBC174B0 73.73    2015 HR     ES:C      Female\n",
       "  Age       Education           HomeOwnershipType   ApplicationSignedHour ...\n",
       "1 0.8116931 Secondary education Owner               0.6962071             ...\n",
       "2 0.7538277 Higher education    Owner               0.2576790             ...\n",
       "3 0.6178322 Secondary education Mortgage            0.9103530             ...\n",
       "4 0.5650214 Basic education     Living with parents 0.5638851             ...\n",
       "5 0.3390537 Secondary education Tenant              0.8449897             ...\n",
       "6 0.2516960 Secondary education Tenant              0.9535978             ...\n",
       "  LoansToIncome PaymentToIncome ExistingLiabilities PreviousNumber_Intervals\n",
       "1 0.5944602     0.8836594       0.9138590           0.8182927               \n",
       "2 0.6471470     0.6215225       0.7168541           0.6798504               \n",
       "3 0.2420294     0.9020138       0.8841655           0.2479085               \n",
       "4 0.2420294     0.5307058       0.2984032           0.2479085               \n",
       "5 0.2420294     0.6861853       0.7899634           0.2479085               \n",
       "6 0.2420294     0.4036628       0.7899634           0.2479085               \n",
       "  NoHistory PreviousNumber PreviousNumber_Current PreviousNumber_Default\n",
       "1 False     0.5838987      0.6403428              0.4962192             \n",
       "2 False     0.5838987      0.6403428              0.4962192             \n",
       "3 True      0.2420797      0.2687063              0.4962192             \n",
       "4 True      0.2420797      0.2687063              0.4962192             \n",
       "5 True      0.2420797      0.2687063              0.4962192             \n",
       "6 True      0.2420797      0.2687063              0.4962192             \n",
       "  PreviousNumber_Repaid PreviousNumber_Rescheduled\n",
       "1 0.4207                0.4445547                 \n",
       "2 0.4207                0.4445547                 \n",
       "3 0.4207                0.4445547                 \n",
       "4 0.4207                0.4445547                 \n",
       "5 0.4207                0.4445547                 \n",
       "6 0.4207                0.9263411                 "
      ]
     },
     "metadata": {},
     "output_type": "display_data"
    }
   ],
   "source": [
    "head(df_loan)"
   ]
  },
  {
   "cell_type": "markdown",
   "metadata": {},
   "source": [
    "The df_Y dataframe describes the monthly default events:"
   ]
  },
  {
   "cell_type": "code",
   "execution_count": 5,
   "metadata": {},
   "outputs": [
    {
     "data": {
      "text/html": [
       "<table>\n",
       "<thead><tr><th scope=col>LoanId</th><th scope=col>T</th><th scope=col>Y</th></tr></thead>\n",
       "<tbody>\n",
       "\t<tr><td>66AE108B-532B-4BB3-BAB7-0019A46412C1</td><td>1                                   </td><td>0                                   </td></tr>\n",
       "\t<tr><td>66AE108B-532B-4BB3-BAB7-0019A46412C1</td><td>2                                   </td><td>0                                   </td></tr>\n",
       "\t<tr><td>66AE108B-532B-4BB3-BAB7-0019A46412C1</td><td>3                                   </td><td>0                                   </td></tr>\n",
       "\t<tr><td>66AE108B-532B-4BB3-BAB7-0019A46412C1</td><td>4                                   </td><td>0                                   </td></tr>\n",
       "\t<tr><td>66AE108B-532B-4BB3-BAB7-0019A46412C1</td><td>5                                   </td><td>0                                   </td></tr>\n",
       "\t<tr><td>66AE108B-532B-4BB3-BAB7-0019A46412C1</td><td>6                                   </td><td>0                                   </td></tr>\n",
       "</tbody>\n",
       "</table>\n"
      ],
      "text/latex": [
       "\\begin{tabular}{r|lll}\n",
       " LoanId & T & Y\\\\\n",
       "\\hline\n",
       "\t 66AE108B-532B-4BB3-BAB7-0019A46412C1 & 1                                    & 0                                   \\\\\n",
       "\t 66AE108B-532B-4BB3-BAB7-0019A46412C1 & 2                                    & 0                                   \\\\\n",
       "\t 66AE108B-532B-4BB3-BAB7-0019A46412C1 & 3                                    & 0                                   \\\\\n",
       "\t 66AE108B-532B-4BB3-BAB7-0019A46412C1 & 4                                    & 0                                   \\\\\n",
       "\t 66AE108B-532B-4BB3-BAB7-0019A46412C1 & 5                                    & 0                                   \\\\\n",
       "\t 66AE108B-532B-4BB3-BAB7-0019A46412C1 & 6                                    & 0                                   \\\\\n",
       "\\end{tabular}\n"
      ],
      "text/markdown": [
       "\n",
       "| LoanId | T | Y |\n",
       "|---|---|---|\n",
       "| 66AE108B-532B-4BB3-BAB7-0019A46412C1 | 1                                    | 0                                    |\n",
       "| 66AE108B-532B-4BB3-BAB7-0019A46412C1 | 2                                    | 0                                    |\n",
       "| 66AE108B-532B-4BB3-BAB7-0019A46412C1 | 3                                    | 0                                    |\n",
       "| 66AE108B-532B-4BB3-BAB7-0019A46412C1 | 4                                    | 0                                    |\n",
       "| 66AE108B-532B-4BB3-BAB7-0019A46412C1 | 5                                    | 0                                    |\n",
       "| 66AE108B-532B-4BB3-BAB7-0019A46412C1 | 6                                    | 0                                    |\n",
       "\n"
      ],
      "text/plain": [
       "  LoanId                               T Y\n",
       "1 66AE108B-532B-4BB3-BAB7-0019A46412C1 1 0\n",
       "2 66AE108B-532B-4BB3-BAB7-0019A46412C1 2 0\n",
       "3 66AE108B-532B-4BB3-BAB7-0019A46412C1 3 0\n",
       "4 66AE108B-532B-4BB3-BAB7-0019A46412C1 4 0\n",
       "5 66AE108B-532B-4BB3-BAB7-0019A46412C1 5 0\n",
       "6 66AE108B-532B-4BB3-BAB7-0019A46412C1 6 0"
      ]
     },
     "metadata": {},
     "output_type": "display_data"
    }
   ],
   "source": [
    "df_Y = read.table('datas/df_Y.csv', sep=',', header=T, stringsAsFactors=T)\n",
    "df_Y <- subset(df_Y, (df_Y$T <= 60))\n",
    "df_Y$T <- factor(df_Y$T)\n",
    "head(df_Y)"
   ]
  },
  {
   "cell_type": "markdown",
   "metadata": {},
   "source": [
    "The df_R dataframe describes the monthly recoveries:"
   ]
  },
  {
   "cell_type": "code",
   "execution_count": 65,
   "metadata": {},
   "outputs": [
    {
     "data": {
      "text/html": [
       "<table>\n",
       "<thead><tr><th scope=col>LoanId</th><th scope=col>T</th><th scope=col>Y</th></tr></thead>\n",
       "<tbody>\n",
       "\t<tr><td>66AE108B-532B-4BB3-BAB7-0019A46412C1</td><td>1                                   </td><td>0.00000000                          </td></tr>\n",
       "\t<tr><td>66AE108B-532B-4BB3-BAB7-0019A46412C1</td><td>2                                   </td><td>0.00000000                          </td></tr>\n",
       "\t<tr><td>66AE108B-532B-4BB3-BAB7-0019A46412C1</td><td>3                                   </td><td>0.00000000                          </td></tr>\n",
       "\t<tr><td>66AE108B-532B-4BB3-BAB7-0019A46412C1</td><td>4                                   </td><td>0.04660618                          </td></tr>\n",
       "\t<tr><td>66AE108B-532B-4BB3-BAB7-0019A46412C1</td><td>5                                   </td><td>0.00000000                          </td></tr>\n",
       "\t<tr><td>66AE108B-532B-4BB3-BAB7-0019A46412C1</td><td>6                                   </td><td>0.00000000                          </td></tr>\n",
       "</tbody>\n",
       "</table>\n"
      ],
      "text/latex": [
       "\\begin{tabular}{r|lll}\n",
       " LoanId & T & Y\\\\\n",
       "\\hline\n",
       "\t 66AE108B-532B-4BB3-BAB7-0019A46412C1 & 1                                    & 0.00000000                          \\\\\n",
       "\t 66AE108B-532B-4BB3-BAB7-0019A46412C1 & 2                                    & 0.00000000                          \\\\\n",
       "\t 66AE108B-532B-4BB3-BAB7-0019A46412C1 & 3                                    & 0.00000000                          \\\\\n",
       "\t 66AE108B-532B-4BB3-BAB7-0019A46412C1 & 4                                    & 0.04660618                          \\\\\n",
       "\t 66AE108B-532B-4BB3-BAB7-0019A46412C1 & 5                                    & 0.00000000                          \\\\\n",
       "\t 66AE108B-532B-4BB3-BAB7-0019A46412C1 & 6                                    & 0.00000000                          \\\\\n",
       "\\end{tabular}\n"
      ],
      "text/markdown": [
       "\n",
       "| LoanId | T | Y |\n",
       "|---|---|---|\n",
       "| 66AE108B-532B-4BB3-BAB7-0019A46412C1 | 1                                    | 0.00000000                           |\n",
       "| 66AE108B-532B-4BB3-BAB7-0019A46412C1 | 2                                    | 0.00000000                           |\n",
       "| 66AE108B-532B-4BB3-BAB7-0019A46412C1 | 3                                    | 0.00000000                           |\n",
       "| 66AE108B-532B-4BB3-BAB7-0019A46412C1 | 4                                    | 0.04660618                           |\n",
       "| 66AE108B-532B-4BB3-BAB7-0019A46412C1 | 5                                    | 0.00000000                           |\n",
       "| 66AE108B-532B-4BB3-BAB7-0019A46412C1 | 6                                    | 0.00000000                           |\n",
       "\n"
      ],
      "text/plain": [
       "  LoanId                               T Y         \n",
       "1 66AE108B-532B-4BB3-BAB7-0019A46412C1 1 0.00000000\n",
       "2 66AE108B-532B-4BB3-BAB7-0019A46412C1 2 0.00000000\n",
       "3 66AE108B-532B-4BB3-BAB7-0019A46412C1 3 0.00000000\n",
       "4 66AE108B-532B-4BB3-BAB7-0019A46412C1 4 0.04660618\n",
       "5 66AE108B-532B-4BB3-BAB7-0019A46412C1 5 0.00000000\n",
       "6 66AE108B-532B-4BB3-BAB7-0019A46412C1 6 0.00000000"
      ]
     },
     "metadata": {},
     "output_type": "display_data"
    }
   ],
   "source": [
    "df_R = read.table('datas/df_R.csv', sep=',', header=T)\n",
    "df_R <- subset(df_R, (df_R$T <= 60))\n",
    "df_R$T <- factor(df_R$T)\n",
    "head(df_R)"
   ]
  },
  {
   "cell_type": "markdown",
   "metadata": {},
   "source": [
    "## Default model"
   ]
  },
  {
   "cell_type": "markdown",
   "metadata": {},
   "source": [
    "We first combine the dataframes to attach features to each default event:"
   ]
  },
  {
   "cell_type": "code",
   "execution_count": 6,
   "metadata": {},
   "outputs": [],
   "source": [
    "df <- merge(df_loan, df_Y)"
   ]
  },
  {
   "cell_type": "markdown",
   "metadata": {},
   "source": [
    "The overall default rate in the data set sees to be highest in the first month and then decreases as the loan survives:"
   ]
  },
  {
   "cell_type": "code",
   "execution_count": 12,
   "metadata": {},
   "outputs": [
    {
     "data": {
      "image/png": "[encoded data removed]",
      "text/plain": [
       "plot without title"
      ]
     },
     "metadata": {},
     "output_type": "display_data"
    }
   ],
   "source": [
    "haz <- table(df$Y, df$T)\n",
    "haz <- haz[2,]/(haz[1,]+haz[2,])\n",
    "plot(haz)"
   ]
  },
  {
   "cell_type": "markdown",
   "metadata": {},
   "source": [
    "The overall default rate also depends on the credit rating, as is to be expected:"
   ]
  },
  {
   "cell_type": "code",
   "execution_count": 13,
   "metadata": {},
   "outputs": [
    {
     "data": {
      "text/html": [
       "<dl class=dl-horizontal>\n",
       "\t<dt>-</dt>\n",
       "\t\t<dd>2.37</dd>\n",
       "\t<dt>A</dt>\n",
       "\t\t<dd>1.14</dd>\n",
       "\t<dt>B</dt>\n",
       "\t\t<dd>1.53</dd>\n",
       "\t<dt>C</dt>\n",
       "\t\t<dd>2</dd>\n",
       "\t<dt>D</dt>\n",
       "\t\t<dd>2.94</dd>\n",
       "\t<dt>E</dt>\n",
       "\t\t<dd>3.77</dd>\n",
       "\t<dt>F</dt>\n",
       "\t\t<dd>7.37</dd>\n",
       "\t<dt>HR</dt>\n",
       "\t\t<dd>9.32</dd>\n",
       "</dl>\n"
      ],
      "text/latex": [
       "\\begin{description*}\n",
       "\\item[-] 2.37\n",
       "\\item[A] 1.14\n",
       "\\item[B] 1.53\n",
       "\\item[C] 2\n",
       "\\item[D] 2.94\n",
       "\\item[E] 3.77\n",
       "\\item[F] 7.37\n",
       "\\item[HR] 9.32\n",
       "\\end{description*}\n"
      ],
      "text/markdown": [
       "-\n",
       ":   2.37A\n",
       ":   1.14B\n",
       ":   1.53C\n",
       ":   2D\n",
       ":   2.94E\n",
       ":   3.77F\n",
       ":   7.37HR\n",
       ":   9.32\n",
       "\n"
      ],
      "text/plain": [
       "   -    A    B    C    D    E    F   HR \n",
       "2.37 1.14 1.53 2.00 2.94 3.77 7.37 9.32 "
      ]
     },
     "metadata": {},
     "output_type": "display_data"
    }
   ],
   "source": [
    "haz <- table(df$Y, df$Rating)\n",
    "haz <- haz[2,]/(haz[1,]+haz[2,])\n",
    "round(haz*100,2)"
   ]
  },
  {
   "cell_type": "markdown",
   "metadata": {},
   "source": [
    "Lets try some models.\n",
    "\n",
    "The simplest model uses only Bondora credit rating to predict the defaults:"
   ]
  },
  {
   "cell_type": "code",
   "execution_count": 17,
   "metadata": {},
   "outputs": [
    {
     "name": "stdout",
     "output_type": "stream",
     "text": [
      "[1] 0.7023972\n"
     ]
    }
   ],
   "source": [
    "formula1 <- Y~T-1+Rating\n",
    "fit <- bigglm(formula1, data=df, family=binomial(link='logit'), chunksize=100000, maxint=1000)\n",
    "P <- as.vector(predict(fit, df, type=\"response\"))\n",
    "auc.tmp <- performance(prediction(P, df$Y),\"auc\")\n",
    "print(auc.tmp@y.values[[1]])"
   ]
  },
  {
   "cell_type": "markdown",
   "metadata": {},
   "source": [
    "Pretty good. But lets see if we can drop the Bondora credit rating and develop a better model.\n",
    "\n",
    "The following model uses only borrower features:"
   ]
  },
  {
   "cell_type": "code",
   "execution_count": 18,
   "metadata": {},
   "outputs": [
    {
     "name": "stderr",
     "output_type": "stream",
     "text": [
      "Warning message in bigglm.function(formula = formula, data = datafun, ...):\n",
      "\"ran out of iterations and failed to converge\""
     ]
    },
    {
     "name": "stdout",
     "output_type": "stream",
     "text": [
      "[1] 0.7151727\n"
     ]
    }
   ],
   "source": [
    "formula2 <- Y~T-1+Rating2+Gender+Age+Education+HomeOwnershipType+ApplicationSignedHour+ApplicationSignedWeekday+EmploymentDurationCurrentEmployer\n",
    "fit <- bigglm(formula2, data=df, family=binomial(link='logit'), chunksize=100000, maxint=1000)\n",
    "P <- as.vector(predict(fit, df, type=\"response\"))\n",
    "auc.tmp <- performance(prediction(P, df$Y),\"auc\")\n",
    "print(auc.tmp@y.values[[1]])"
   ]
  },
  {
   "cell_type": "markdown",
   "metadata": {},
   "source": [
    "The second model uses only loan features:"
   ]
  },
  {
   "cell_type": "code",
   "execution_count": 19,
   "metadata": {},
   "outputs": [
    {
     "name": "stderr",
     "output_type": "stream",
     "text": [
      "Warning message in bigglm.function(formula = formula, data = datafun, ...):\n",
      "\"ran out of iterations and failed to converge\""
     ]
    },
    {
     "name": "stdout",
     "output_type": "stream",
     "text": [
      "[1] 0.6823929\n"
     ]
    }
   ],
   "source": [
    "formula3 <- Y~T-1+Year+LoanDuration+Amount+VerificationType+IncomeTotal+LiabilitiesTotal+LiabilitiesToIncome+LiabilitiesToIncomeUnknown+LoansToIncome+PaymentToIncome+ExistingLiabilities\n",
    "fit <- bigglm(formula3, data=df, family=binomial(link='logit'), chunksize=100000, maxint=1000)\n",
    "P <- as.vector(predict(fit, df, type=\"response\"))\n",
    "auc.tmp <- performance(prediction(P, df$Y),\"auc\")\n",
    "print(auc.tmp@y.values[[1]])"
   ]
  },
  {
   "cell_type": "markdown",
   "metadata": {},
   "source": [
    "The third model uses only the information of past lending history in the Bondora platform (so useless for new customers):"
   ]
  },
  {
   "cell_type": "code",
   "execution_count": 20,
   "metadata": {},
   "outputs": [
    {
     "name": "stderr",
     "output_type": "stream",
     "text": [
      "Warning message in bigglm.function(formula = formula, data = datafun, ...):\n",
      "\"ran out of iterations and failed to converge\""
     ]
    },
    {
     "name": "stdout",
     "output_type": "stream",
     "text": [
      "[1] 0.6550988\n"
     ]
    }
   ],
   "source": [
    "formula4 <- Y~T-1+PreviousNumber_Intervals+NoHistory+PreviousNumber+PreviousNumber_Current+PreviousNumber_Default+PreviousNumber_Repaid+PreviousNumber_Rescheduled\n",
    "fit <- bigglm(formula4, data=df, family=binomial(link='logit'), chunksize=100000, maxint=1000)\n",
    "P <- as.vector(predict(fit, df, type=\"response\"))\n",
    "auc.tmp <- performance(prediction(P, df$Y),\"auc\")\n",
    "print(auc.tmp@y.values[[1]])"
   ]
  },
  {
   "cell_type": "markdown",
   "metadata": {},
   "source": [
    "Lets put all three sources of information (borrower, loan, past loans) together and develop a full model:"
   ]
  },
  {
   "cell_type": "code",
   "execution_count": 21,
   "metadata": {},
   "outputs": [
    {
     "name": "stderr",
     "output_type": "stream",
     "text": [
      "Warning message in bigglm.function(formula = formula, data = datafun, ...):\n",
      "\"ran out of iterations and failed to converge\""
     ]
    },
    {
     "name": "stdout",
     "output_type": "stream",
     "text": [
      "[1] 0.7341629\n"
     ]
    }
   ],
   "source": [
    "formula <- Y~T-1+Year+Rating2+Gender+Age+Education+HomeOwnershipType+ApplicationSignedHour+ApplicationSignedWeekday+EmploymentDurationCurrentEmployer+LoanDuration+Amount+VerificationType+IncomeTotal+LiabilitiesTotal+LiabilitiesToIncome+LiabilitiesToIncomeUnknown+LoansToIncome+PaymentToIncome+ExistingLiabilities+PreviousNumber_Intervals+NoHistory+PreviousNumber+PreviousNumber_Current+PreviousNumber_Default+PreviousNumber_Repaid+PreviousNumber_Rescheduled\n",
    "fit <- bigglm(formula, data=df, family=binomial(link='logit'), chunksize=100000, maxint=1000)\n",
    "P <- as.vector(predict(fit, df, type=\"response\"))\n",
    "auc.tmp <- performance(prediction(P, df$Y),\"auc\")\n",
    "print(auc.tmp@y.values[[1]])"
   ]
  },
  {
   "cell_type": "markdown",
   "metadata": {},
   "source": [
    "Not bad!\n",
    "\n",
    "Now that we have a model we can predict the credit risk. Since month is simply an intercept term (T-1), we can predict the log-odds of default probability in the first month to obtain the relative credit risk in each loan:"
   ]
  },
  {
   "cell_type": "code",
   "execution_count": 48,
   "metadata": {},
   "outputs": [
    {
     "data": {
      "image/png": "[encoded data removed]",
      "text/plain": [
       "Plot with title \"Histogram of credit_risk\""
      ]
     },
     "metadata": {},
     "output_type": "display_data"
    }
   ],
   "source": [
    "df_X <- df_loan[c('LoanId')]\n",
    "df_X$Y <- 0\n",
    "df_X$T <- factor(rep(1, nrow(df_X)), levels=levels(df_Y$T))\n",
    "df_test <- merge(df_X, df_loan)\n",
    "credit_risk <- as.vector(predict(fit, df_test))\n",
    "hist(credit_risk)"
   ]
  },
  {
   "cell_type": "markdown",
   "metadata": {},
   "source": [
    "The effect of different features can be interpreted from the coefficients, though there are quite many:"
   ]
  },
  {
   "cell_type": "code",
   "execution_count": 29,
   "metadata": {},
   "outputs": [
    {
     "data": {
      "text/html": [
       "<table>\n",
       "<thead><tr><th></th><th scope=col>Coef</th><th scope=col>(95%</th><th scope=col>CI)</th><th scope=col>SE</th><th scope=col>p</th></tr></thead>\n",
       "<tbody>\n",
       "\t<tr><th scope=row>Year2010</th><td> 0.66910808  </td><td> 0.53881694  </td><td> 0.79939922  </td><td>0.06514557   </td><td> 9.524411e-25</td></tr>\n",
       "\t<tr><th scope=row>Year2011</th><td> 0.37432705  </td><td> 0.17964282  </td><td> 0.56901128  </td><td>0.09734211   </td><td> 1.203172e-04</td></tr>\n",
       "\t<tr><th scope=row>Year2012</th><td> 0.04414352  </td><td>-0.17575213  </td><td> 0.26403917  </td><td>0.10994783   </td><td> 6.880556e-01</td></tr>\n",
       "\t<tr><th scope=row>Year2013</th><td> 0.16207878  </td><td> 0.07895227  </td><td> 0.24520528  </td><td>0.04156325   </td><td> 9.636400e-05</td></tr>\n",
       "\t<tr><th scope=row>Year2014</th><td> 0.14089611  </td><td> 0.08658820  </td><td> 0.19520403  </td><td>0.02715396   </td><td> 2.116676e-07</td></tr>\n",
       "\t<tr><th scope=row>Year2015</th><td> 0.29669582  </td><td> 0.24537037  </td><td> 0.34802127  </td><td>0.02566273   </td><td> 6.468175e-31</td></tr>\n",
       "\t<tr><th scope=row>Year2016</th><td> 0.62126526  </td><td> 0.57624903  </td><td> 0.66628149  </td><td>0.02250812   </td><td>1.057747e-167</td></tr>\n",
       "\t<tr><th scope=row>Year2017</th><td> 0.70189737  </td><td> 0.66869557  </td><td> 0.73509917  </td><td>0.01660090   </td><td> 0.000000e+00</td></tr>\n",
       "\t<tr><th scope=row>Year2018</th><td> 0.42346513  </td><td> 0.39417497  </td><td> 0.45275529  </td><td>0.01464508   </td><td>7.694909e-184</td></tr>\n",
       "\t<tr><th scope=row>Year2020</th><td>-0.84371612  </td><td>-0.90605942  </td><td>-0.78137282  </td><td>0.03117165   </td><td>2.424300e-161</td></tr>\n",
       "\t<tr><th scope=row>Rating2EE:600.0</th><td> 0.68298831  </td><td> 0.61838477  </td><td> 0.74759186  </td><td>0.03230177   </td><td> 3.134322e-99</td></tr>\n",
       "\t<tr><th scope=row>Rating2EE:700.0</th><td> 0.42630825  </td><td> 0.35861660  </td><td> 0.49399990  </td><td>0.03384583   </td><td> 2.232766e-36</td></tr>\n",
       "\t<tr><th scope=row>Rating2EE:800.0</th><td> 0.40447444  </td><td> 0.35763444  </td><td> 0.45131444  </td><td>0.02342000   </td><td> 7.849917e-67</td></tr>\n",
       "\t<tr><th scope=row>Rating2EE:900.0</th><td> 0.30865729  </td><td> 0.25693466  </td><td> 0.36037992  </td><td>0.02586132   </td><td> 7.766957e-33</td></tr>\n",
       "\t<tr><th scope=row>Rating2ES:A</th><td> 1.49144368  </td><td> 1.44771229  </td><td> 1.53517508  </td><td>0.02186570   </td><td> 0.000000e+00</td></tr>\n",
       "\t<tr><th scope=row>Rating2ES:B</th><td> 1.42606712  </td><td> 1.38225089  </td><td> 1.46988336  </td><td>0.02190812   </td><td> 0.000000e+00</td></tr>\n",
       "\t<tr><th scope=row>Rating2ES:C</th><td> 1.65507447  </td><td> 1.60066575  </td><td> 1.70948319  </td><td>0.02720436   </td><td> 0.000000e+00</td></tr>\n",
       "\t<tr><th scope=row>Rating2ES:D</th><td> 1.96104036  </td><td> 1.78874149  </td><td> 2.13333924  </td><td>0.08614944   </td><td>1.061077e-114</td></tr>\n",
       "\t<tr><th scope=row>Rating2FI:RL1</th><td> 0.91356901  </td><td> 0.84238407  </td><td> 0.98475395  </td><td>0.03559247   </td><td>2.698061e-145</td></tr>\n",
       "\t<tr><th scope=row>Rating2FI:RL1x</th><td> 0.75208531  </td><td> 0.61438900  </td><td> 0.88978161  </td><td>0.06884815   </td><td> 8.867868e-28</td></tr>\n",
       "\t<tr><th scope=row>Rating2FI:RL2</th><td> 0.90621318  </td><td> 0.85383961  </td><td> 0.95858675  </td><td>0.02618678   </td><td>2.070679e-262</td></tr>\n",
       "\t<tr><th scope=row>Rating2FI:RL2x</th><td> 0.97891330  </td><td> 0.91526876  </td><td> 1.04255783  </td><td>0.03182227   </td><td>8.477508e-208</td></tr>\n",
       "\t<tr><th scope=row>Rating2FI:RL3</th><td> 1.02528911  </td><td> 0.90502413  </td><td> 1.14555410  </td><td>0.06013249   </td><td> 3.465500e-65</td></tr>\n",
       "\t<tr><th scope=row>Rating2FI:RL3x</th><td> 1.08177697  </td><td> 1.03841610  </td><td> 1.12513783  </td><td>0.02168043   </td><td> 0.000000e+00</td></tr>\n",
       "\t<tr><th scope=row>Rating2FI:RL4</th><td> 1.58804912  </td><td> 1.43698083  </td><td> 1.73911741  </td><td>0.07553415   </td><td> 3.935272e-98</td></tr>\n",
       "\t<tr><th scope=row>Rating2FI:RL4x</th><td> 1.23267505  </td><td> 1.18479099  </td><td> 1.28055911  </td><td>0.02394203   </td><td> 0.000000e+00</td></tr>\n",
       "\t<tr><th scope=row>Rating2FI:RL5x</th><td> 1.31260312  </td><td> 1.25239243  </td><td> 1.37281382  </td><td>0.03010535   </td><td> 0.000000e+00</td></tr>\n",
       "\t<tr><th scope=row>Rating2SK:-</th><td> 2.00953773  </td><td> 1.86906696  </td><td> 2.15000850  </td><td>0.07023538   </td><td>4.837184e-180</td></tr>\n",
       "\t<tr><th scope=row>Gender-</th><td>-0.06544928  </td><td>-0.10415860  </td><td>-0.02673997  </td><td>0.01935466   </td><td> 7.207082e-04</td></tr>\n",
       "\t<tr><th scope=row>GenderFemale</th><td>-0.21629735  </td><td>-0.23877557  </td><td>-0.19381914  </td><td>0.01123911   </td><td> 1.552802e-82</td></tr>\n",
       "\t<tr><th scope=row>...</th><td>...</td><td>...</td><td>...</td><td>...</td><td>...</td></tr>\n",
       "\t<tr><th scope=row>HomeOwnershipTypeLiving with parents</th><td> 0.1126649937</td><td> 0.0830027980</td><td> 0.142327189 </td><td>0.01483110   </td><td> 3.041588e-14</td></tr>\n",
       "\t<tr><th scope=row>HomeOwnershipTypeMortgage</th><td>-0.1366441743</td><td>-0.1690177431</td><td>-0.104270606 </td><td>0.01618678   </td><td> 3.127227e-17</td></tr>\n",
       "\t<tr><th scope=row>HomeOwnershipTypeOther</th><td> 0.0883154743</td><td> 0.0452077913</td><td> 0.131423157 </td><td>0.02155384   </td><td> 4.177526e-05</td></tr>\n",
       "\t<tr><th scope=row>HomeOwnershipTypeTenant</th><td> 0.1398941126</td><td> 0.1160381757</td><td> 0.163750049 </td><td>0.01192797   </td><td> 9.133484e-32</td></tr>\n",
       "\t<tr><th scope=row>ApplicationSignedHour</th><td> 0.0007902923</td><td>-0.0311108328</td><td> 0.032691417 </td><td>0.01595056   </td><td> 9.604839e-01</td></tr>\n",
       "\t<tr><th scope=row>ApplicationSignedWeekday</th><td> 0.0215754148</td><td>-0.0101927339</td><td> 0.053343563 </td><td>0.01588407   </td><td> 1.743670e-01</td></tr>\n",
       "\t<tr><th scope=row>EmploymentDurationCurrentEmployer-</th><td>-0.1294145328</td><td>-0.2687373869</td><td> 0.009908321 </td><td>0.06966143   </td><td> 6.320245e-02</td></tr>\n",
       "\t<tr><th scope=row>EmploymentDurationCurrentEmployer1-</th><td> 0.0860263558</td><td> 0.0585740170</td><td> 0.113478695 </td><td>0.01372617   </td><td> 3.673046e-10</td></tr>\n",
       "\t<tr><th scope=row>EmploymentDurationCurrentEmployer1-5,</th><td> 0.0676911488</td><td> 0.0451771952</td><td> 0.090205102 </td><td>0.01125698   </td><td> 1.818270e-09</td></tr>\n",
       "\t<tr><th scope=row>EmploymentDurationCurrentEmployerOther</th><td>-0.0617231508</td><td>-0.1148312961</td><td>-0.008615005 </td><td>0.02655407   </td><td> 2.010232e-02</td></tr>\n",
       "\t<tr><th scope=row>EmploymentDurationCurrentEmployerRetiree</th><td> 0.1886168350</td><td> 0.1453592474</td><td> 0.231874423 </td><td>0.02162879   </td><td> 2.766438e-18</td></tr>\n",
       "\t<tr><th scope=row>EmploymentDurationCurrentEmployerTrialPeriod</th><td> 0.1135002175</td><td> 0.0044305706</td><td> 0.222569864 </td><td>0.05453482   </td><td> 3.741167e-02</td></tr>\n",
       "\t<tr><th scope=row>LoanDuration</th><td> 0.4415277455</td><td> 0.3981740535</td><td> 0.484881437 </td><td>0.02167685   </td><td> 3.174075e-92</td></tr>\n",
       "\t<tr><th scope=row>Amount</th><td>-1.1479176877</td><td>-1.2336488669</td><td>-1.062186508 </td><td>0.04286559   </td><td>5.605080e-158</td></tr>\n",
       "\t<tr><th scope=row>VerificationTypeIncome unverified</th><td> 0.0985490619</td><td> 0.0768176343</td><td> 0.120280489 </td><td>0.01086571   </td><td> 1.193152e-19</td></tr>\n",
       "\t<tr><th scope=row>VerificationTypeIncome verified</th><td> 0.0850412362</td><td> 0.0493821917</td><td> 0.120700281 </td><td>0.01782952   </td><td> 1.845126e-06</td></tr>\n",
       "\t<tr><th scope=row>IncomeTotal</th><td> 0.9361965563</td><td> 0.8587372866</td><td> 1.013655826 </td><td>0.03872963   </td><td>4.319330e-129</td></tr>\n",
       "\t<tr><th scope=row>LiabilitiesTotal</th><td>-0.0958854336</td><td>-0.1682823234</td><td>-0.023488544 </td><td>0.03619844   </td><td> 8.075836e-03</td></tr>\n",
       "\t<tr><th scope=row>LiabilitiesToIncome</th><td> 0.1171672655</td><td> 0.0506701185</td><td> 0.183664412 </td><td>0.03324857   </td><td> 4.251184e-04</td></tr>\n",
       "\t<tr><th scope=row>LiabilitiesToIncomeUnknownTrue</th><td> 0.0503148525</td><td> 0.0003342775</td><td> 0.100295427 </td><td>0.02499029   </td><td> 4.407506e-02</td></tr>\n",
       "\t<tr><th scope=row>LoansToIncome</th><td> 1.1331264556</td><td> 0.9869707889</td><td> 1.279282122 </td><td>0.07307783   </td><td> 3.172018e-54</td></tr>\n",
       "\t<tr><th scope=row>PaymentToIncome</th><td> 1.3685676134</td><td> 1.2834497906</td><td> 1.453685436 </td><td>0.04255891   </td><td>7.046814e-227</td></tr>\n",
       "\t<tr><th scope=row>ExistingLiabilities</th><td>-0.2469353925</td><td>-0.3246496046</td><td>-0.169221180 </td><td>0.03885711   </td><td> 2.084796e-10</td></tr>\n",
       "\t<tr><th scope=row>PreviousNumber_Intervals</th><td>-2.5778611378</td><td>-2.7203941887</td><td>-2.435328087 </td><td>0.07126653   </td><td>1.671044e-286</td></tr>\n",
       "\t<tr><th scope=row>NoHistoryTrue</th><td> 0.3472379517</td><td> 0.2855451342</td><td> 0.408930769 </td><td>0.03084641   </td><td> 2.139231e-29</td></tr>\n",
       "\t<tr><th scope=row>PreviousNumber</th><td> 1.0811833123</td><td> 0.8143901925</td><td> 1.347976432 </td><td>0.13339656   </td><td> 5.273188e-16</td></tr>\n",
       "\t<tr><th scope=row>PreviousNumber_Current</th><td> 1.0390555226</td><td> 0.8552079025</td><td> 1.222903143 </td><td>0.09192381   </td><td> 1.261727e-29</td></tr>\n",
       "\t<tr><th scope=row>PreviousNumber_Default</th><td> 0.3838019657</td><td> 0.1113527357</td><td> 0.656251196 </td><td>0.13622462   </td><td> 4.841116e-03</td></tr>\n",
       "\t<tr><th scope=row>PreviousNumber_Repaid</th><td>-0.5813487515</td><td>-0.6929337270</td><td>-0.469763776 </td><td>0.05579249   </td><td> 2.012932e-25</td></tr>\n",
       "\t<tr><th scope=row>PreviousNumber_Rescheduled</th><td> 0.7158085766</td><td> 0.6543619647</td><td> 0.777255188 </td><td>0.03072331   </td><td>4.585528e-120</td></tr>\n",
       "</tbody>\n",
       "</table>\n"
      ],
      "text/latex": [
       "\\begin{tabular}{r|lllll}\n",
       "  & Coef & (95\\% & CI) & SE & p\\\\\n",
       "\\hline\n",
       "\tYear2010 &  0.66910808   &  0.53881694   &  0.79939922   & 0.06514557    &  9.524411e-25\\\\\n",
       "\tYear2011 &  0.37432705   &  0.17964282   &  0.56901128   & 0.09734211    &  1.203172e-04\\\\\n",
       "\tYear2012 &  0.04414352   & -0.17575213   &  0.26403917   & 0.10994783    &  6.880556e-01\\\\\n",
       "\tYear2013 &  0.16207878   &  0.07895227   &  0.24520528   & 0.04156325    &  9.636400e-05\\\\\n",
       "\tYear2014 &  0.14089611   &  0.08658820   &  0.19520403   & 0.02715396    &  2.116676e-07\\\\\n",
       "\tYear2015 &  0.29669582   &  0.24537037   &  0.34802127   & 0.02566273    &  6.468175e-31\\\\\n",
       "\tYear2016 &  0.62126526   &  0.57624903   &  0.66628149   & 0.02250812    & 1.057747e-167\\\\\n",
       "\tYear2017 &  0.70189737   &  0.66869557   &  0.73509917   & 0.01660090    &  0.000000e+00\\\\\n",
       "\tYear2018 &  0.42346513   &  0.39417497   &  0.45275529   & 0.01464508    & 7.694909e-184\\\\\n",
       "\tYear2020 & -0.84371612   & -0.90605942   & -0.78137282   & 0.03117165    & 2.424300e-161\\\\\n",
       "\tRating2EE:600.0 &  0.68298831   &  0.61838477   &  0.74759186   & 0.03230177    &  3.134322e-99\\\\\n",
       "\tRating2EE:700.0 &  0.42630825   &  0.35861660   &  0.49399990   & 0.03384583    &  2.232766e-36\\\\\n",
       "\tRating2EE:800.0 &  0.40447444   &  0.35763444   &  0.45131444   & 0.02342000    &  7.849917e-67\\\\\n",
       "\tRating2EE:900.0 &  0.30865729   &  0.25693466   &  0.36037992   & 0.02586132    &  7.766957e-33\\\\\n",
       "\tRating2ES:A &  1.49144368   &  1.44771229   &  1.53517508   & 0.02186570    &  0.000000e+00\\\\\n",
       "\tRating2ES:B &  1.42606712   &  1.38225089   &  1.46988336   & 0.02190812    &  0.000000e+00\\\\\n",
       "\tRating2ES:C &  1.65507447   &  1.60066575   &  1.70948319   & 0.02720436    &  0.000000e+00\\\\\n",
       "\tRating2ES:D &  1.96104036   &  1.78874149   &  2.13333924   & 0.08614944    & 1.061077e-114\\\\\n",
       "\tRating2FI:RL1 &  0.91356901   &  0.84238407   &  0.98475395   & 0.03559247    & 2.698061e-145\\\\\n",
       "\tRating2FI:RL1x &  0.75208531   &  0.61438900   &  0.88978161   & 0.06884815    &  8.867868e-28\\\\\n",
       "\tRating2FI:RL2 &  0.90621318   &  0.85383961   &  0.95858675   & 0.02618678    & 2.070679e-262\\\\\n",
       "\tRating2FI:RL2x &  0.97891330   &  0.91526876   &  1.04255783   & 0.03182227    & 8.477508e-208\\\\\n",
       "\tRating2FI:RL3 &  1.02528911   &  0.90502413   &  1.14555410   & 0.06013249    &  3.465500e-65\\\\\n",
       "\tRating2FI:RL3x &  1.08177697   &  1.03841610   &  1.12513783   & 0.02168043    &  0.000000e+00\\\\\n",
       "\tRating2FI:RL4 &  1.58804912   &  1.43698083   &  1.73911741   & 0.07553415    &  3.935272e-98\\\\\n",
       "\tRating2FI:RL4x &  1.23267505   &  1.18479099   &  1.28055911   & 0.02394203    &  0.000000e+00\\\\\n",
       "\tRating2FI:RL5x &  1.31260312   &  1.25239243   &  1.37281382   & 0.03010535    &  0.000000e+00\\\\\n",
       "\tRating2SK:- &  2.00953773   &  1.86906696   &  2.15000850   & 0.07023538    & 4.837184e-180\\\\\n",
       "\tGender- & -0.06544928   & -0.10415860   & -0.02673997   & 0.01935466    &  7.207082e-04\\\\\n",
       "\tGenderFemale & -0.21629735   & -0.23877557   & -0.19381914   & 0.01123911    &  1.552802e-82\\\\\n",
       "\t... & ... & ... & ... & ... & ...\\\\\n",
       "\tHomeOwnershipTypeLiving with parents &  0.1126649937 &  0.0830027980 &  0.142327189  & 0.01483110    &  3.041588e-14\\\\\n",
       "\tHomeOwnershipTypeMortgage & -0.1366441743 & -0.1690177431 & -0.104270606  & 0.01618678    &  3.127227e-17\\\\\n",
       "\tHomeOwnershipTypeOther &  0.0883154743 &  0.0452077913 &  0.131423157  & 0.02155384    &  4.177526e-05\\\\\n",
       "\tHomeOwnershipTypeTenant &  0.1398941126 &  0.1160381757 &  0.163750049  & 0.01192797    &  9.133484e-32\\\\\n",
       "\tApplicationSignedHour &  0.0007902923 & -0.0311108328 &  0.032691417  & 0.01595056    &  9.604839e-01\\\\\n",
       "\tApplicationSignedWeekday &  0.0215754148 & -0.0101927339 &  0.053343563  & 0.01588407    &  1.743670e-01\\\\\n",
       "\tEmploymentDurationCurrentEmployer- & -0.1294145328 & -0.2687373869 &  0.009908321  & 0.06966143    &  6.320245e-02\\\\\n",
       "\tEmploymentDurationCurrentEmployer1- &  0.0860263558 &  0.0585740170 &  0.113478695  & 0.01372617    &  3.673046e-10\\\\\n",
       "\tEmploymentDurationCurrentEmployer1-5, &  0.0676911488 &  0.0451771952 &  0.090205102  & 0.01125698    &  1.818270e-09\\\\\n",
       "\tEmploymentDurationCurrentEmployerOther & -0.0617231508 & -0.1148312961 & -0.008615005  & 0.02655407    &  2.010232e-02\\\\\n",
       "\tEmploymentDurationCurrentEmployerRetiree &  0.1886168350 &  0.1453592474 &  0.231874423  & 0.02162879    &  2.766438e-18\\\\\n",
       "\tEmploymentDurationCurrentEmployerTrialPeriod &  0.1135002175 &  0.0044305706 &  0.222569864  & 0.05453482    &  3.741167e-02\\\\\n",
       "\tLoanDuration &  0.4415277455 &  0.3981740535 &  0.484881437  & 0.02167685    &  3.174075e-92\\\\\n",
       "\tAmount & -1.1479176877 & -1.2336488669 & -1.062186508  & 0.04286559    & 5.605080e-158\\\\\n",
       "\tVerificationTypeIncome unverified &  0.0985490619 &  0.0768176343 &  0.120280489  & 0.01086571    &  1.193152e-19\\\\\n",
       "\tVerificationTypeIncome verified &  0.0850412362 &  0.0493821917 &  0.120700281  & 0.01782952    &  1.845126e-06\\\\\n",
       "\tIncomeTotal &  0.9361965563 &  0.8587372866 &  1.013655826  & 0.03872963    & 4.319330e-129\\\\\n",
       "\tLiabilitiesTotal & -0.0958854336 & -0.1682823234 & -0.023488544  & 0.03619844    &  8.075836e-03\\\\\n",
       "\tLiabilitiesToIncome &  0.1171672655 &  0.0506701185 &  0.183664412  & 0.03324857    &  4.251184e-04\\\\\n",
       "\tLiabilitiesToIncomeUnknownTrue &  0.0503148525 &  0.0003342775 &  0.100295427  & 0.02499029    &  4.407506e-02\\\\\n",
       "\tLoansToIncome &  1.1331264556 &  0.9869707889 &  1.279282122  & 0.07307783    &  3.172018e-54\\\\\n",
       "\tPaymentToIncome &  1.3685676134 &  1.2834497906 &  1.453685436  & 0.04255891    & 7.046814e-227\\\\\n",
       "\tExistingLiabilities & -0.2469353925 & -0.3246496046 & -0.169221180  & 0.03885711    &  2.084796e-10\\\\\n",
       "\tPreviousNumber\\_Intervals & -2.5778611378 & -2.7203941887 & -2.435328087  & 0.07126653    & 1.671044e-286\\\\\n",
       "\tNoHistoryTrue &  0.3472379517 &  0.2855451342 &  0.408930769  & 0.03084641    &  2.139231e-29\\\\\n",
       "\tPreviousNumber &  1.0811833123 &  0.8143901925 &  1.347976432  & 0.13339656    &  5.273188e-16\\\\\n",
       "\tPreviousNumber\\_Current &  1.0390555226 &  0.8552079025 &  1.222903143  & 0.09192381    &  1.261727e-29\\\\\n",
       "\tPreviousNumber\\_Default &  0.3838019657 &  0.1113527357 &  0.656251196  & 0.13622462    &  4.841116e-03\\\\\n",
       "\tPreviousNumber\\_Repaid & -0.5813487515 & -0.6929337270 & -0.469763776  & 0.05579249    &  2.012932e-25\\\\\n",
       "\tPreviousNumber\\_Rescheduled &  0.7158085766 &  0.6543619647 &  0.777255188  & 0.03072331    & 4.585528e-120\\\\\n",
       "\\end{tabular}\n"
      ],
      "text/markdown": [
       "\n",
       "| <!--/--> | Coef | (95% | CI) | SE | p |\n",
       "|---|---|---|---|---|---|\n",
       "| Year2010 |  0.66910808   |  0.53881694   |  0.79939922   | 0.06514557    |  9.524411e-25 |\n",
       "| Year2011 |  0.37432705   |  0.17964282   |  0.56901128   | 0.09734211    |  1.203172e-04 |\n",
       "| Year2012 |  0.04414352   | -0.17575213   |  0.26403917   | 0.10994783    |  6.880556e-01 |\n",
       "| Year2013 |  0.16207878   |  0.07895227   |  0.24520528   | 0.04156325    |  9.636400e-05 |\n",
       "| Year2014 |  0.14089611   |  0.08658820   |  0.19520403   | 0.02715396    |  2.116676e-07 |\n",
       "| Year2015 |  0.29669582   |  0.24537037   |  0.34802127   | 0.02566273    |  6.468175e-31 |\n",
       "| Year2016 |  0.62126526   |  0.57624903   |  0.66628149   | 0.02250812    | 1.057747e-167 |\n",
       "| Year2017 |  0.70189737   |  0.66869557   |  0.73509917   | 0.01660090    |  0.000000e+00 |\n",
       "| Year2018 |  0.42346513   |  0.39417497   |  0.45275529   | 0.01464508    | 7.694909e-184 |\n",
       "| Year2020 | -0.84371612   | -0.90605942   | -0.78137282   | 0.03117165    | 2.424300e-161 |\n",
       "| Rating2EE:600.0 |  0.68298831   |  0.61838477   |  0.74759186   | 0.03230177    |  3.134322e-99 |\n",
       "| Rating2EE:700.0 |  0.42630825   |  0.35861660   |  0.49399990   | 0.03384583    |  2.232766e-36 |\n",
       "| Rating2EE:800.0 |  0.40447444   |  0.35763444   |  0.45131444   | 0.02342000    |  7.849917e-67 |\n",
       "| Rating2EE:900.0 |  0.30865729   |  0.25693466   |  0.36037992   | 0.02586132    |  7.766957e-33 |\n",
       "| Rating2ES:A |  1.49144368   |  1.44771229   |  1.53517508   | 0.02186570    |  0.000000e+00 |\n",
       "| Rating2ES:B |  1.42606712   |  1.38225089   |  1.46988336   | 0.02190812    |  0.000000e+00 |\n",
       "| Rating2ES:C |  1.65507447   |  1.60066575   |  1.70948319   | 0.02720436    |  0.000000e+00 |\n",
       "| Rating2ES:D |  1.96104036   |  1.78874149   |  2.13333924   | 0.08614944    | 1.061077e-114 |\n",
       "| Rating2FI:RL1 |  0.91356901   |  0.84238407   |  0.98475395   | 0.03559247    | 2.698061e-145 |\n",
       "| Rating2FI:RL1x |  0.75208531   |  0.61438900   |  0.88978161   | 0.06884815    |  8.867868e-28 |\n",
       "| Rating2FI:RL2 |  0.90621318   |  0.85383961   |  0.95858675   | 0.02618678    | 2.070679e-262 |\n",
       "| Rating2FI:RL2x |  0.97891330   |  0.91526876   |  1.04255783   | 0.03182227    | 8.477508e-208 |\n",
       "| Rating2FI:RL3 |  1.02528911   |  0.90502413   |  1.14555410   | 0.06013249    |  3.465500e-65 |\n",
       "| Rating2FI:RL3x |  1.08177697   |  1.03841610   |  1.12513783   | 0.02168043    |  0.000000e+00 |\n",
       "| Rating2FI:RL4 |  1.58804912   |  1.43698083   |  1.73911741   | 0.07553415    |  3.935272e-98 |\n",
       "| Rating2FI:RL4x |  1.23267505   |  1.18479099   |  1.28055911   | 0.02394203    |  0.000000e+00 |\n",
       "| Rating2FI:RL5x |  1.31260312   |  1.25239243   |  1.37281382   | 0.03010535    |  0.000000e+00 |\n",
       "| Rating2SK:- |  2.00953773   |  1.86906696   |  2.15000850   | 0.07023538    | 4.837184e-180 |\n",
       "| Gender- | -0.06544928   | -0.10415860   | -0.02673997   | 0.01935466    |  7.207082e-04 |\n",
       "| GenderFemale | -0.21629735   | -0.23877557   | -0.19381914   | 0.01123911    |  1.552802e-82 |\n",
       "| ... | ... | ... | ... | ... | ... |\n",
       "| HomeOwnershipTypeLiving with parents |  0.1126649937 |  0.0830027980 |  0.142327189  | 0.01483110    |  3.041588e-14 |\n",
       "| HomeOwnershipTypeMortgage | -0.1366441743 | -0.1690177431 | -0.104270606  | 0.01618678    |  3.127227e-17 |\n",
       "| HomeOwnershipTypeOther |  0.0883154743 |  0.0452077913 |  0.131423157  | 0.02155384    |  4.177526e-05 |\n",
       "| HomeOwnershipTypeTenant |  0.1398941126 |  0.1160381757 |  0.163750049  | 0.01192797    |  9.133484e-32 |\n",
       "| ApplicationSignedHour |  0.0007902923 | -0.0311108328 |  0.032691417  | 0.01595056    |  9.604839e-01 |\n",
       "| ApplicationSignedWeekday |  0.0215754148 | -0.0101927339 |  0.053343563  | 0.01588407    |  1.743670e-01 |\n",
       "| EmploymentDurationCurrentEmployer- | -0.1294145328 | -0.2687373869 |  0.009908321  | 0.06966143    |  6.320245e-02 |\n",
       "| EmploymentDurationCurrentEmployer1- |  0.0860263558 |  0.0585740170 |  0.113478695  | 0.01372617    |  3.673046e-10 |\n",
       "| EmploymentDurationCurrentEmployer1-5, |  0.0676911488 |  0.0451771952 |  0.090205102  | 0.01125698    |  1.818270e-09 |\n",
       "| EmploymentDurationCurrentEmployerOther | -0.0617231508 | -0.1148312961 | -0.008615005  | 0.02655407    |  2.010232e-02 |\n",
       "| EmploymentDurationCurrentEmployerRetiree |  0.1886168350 |  0.1453592474 |  0.231874423  | 0.02162879    |  2.766438e-18 |\n",
       "| EmploymentDurationCurrentEmployerTrialPeriod |  0.1135002175 |  0.0044305706 |  0.222569864  | 0.05453482    |  3.741167e-02 |\n",
       "| LoanDuration |  0.4415277455 |  0.3981740535 |  0.484881437  | 0.02167685    |  3.174075e-92 |\n",
       "| Amount | -1.1479176877 | -1.2336488669 | -1.062186508  | 0.04286559    | 5.605080e-158 |\n",
       "| VerificationTypeIncome unverified |  0.0985490619 |  0.0768176343 |  0.120280489  | 0.01086571    |  1.193152e-19 |\n",
       "| VerificationTypeIncome verified |  0.0850412362 |  0.0493821917 |  0.120700281  | 0.01782952    |  1.845126e-06 |\n",
       "| IncomeTotal |  0.9361965563 |  0.8587372866 |  1.013655826  | 0.03872963    | 4.319330e-129 |\n",
       "| LiabilitiesTotal | -0.0958854336 | -0.1682823234 | -0.023488544  | 0.03619844    |  8.075836e-03 |\n",
       "| LiabilitiesToIncome |  0.1171672655 |  0.0506701185 |  0.183664412  | 0.03324857    |  4.251184e-04 |\n",
       "| LiabilitiesToIncomeUnknownTrue |  0.0503148525 |  0.0003342775 |  0.100295427  | 0.02499029    |  4.407506e-02 |\n",
       "| LoansToIncome |  1.1331264556 |  0.9869707889 |  1.279282122  | 0.07307783    |  3.172018e-54 |\n",
       "| PaymentToIncome |  1.3685676134 |  1.2834497906 |  1.453685436  | 0.04255891    | 7.046814e-227 |\n",
       "| ExistingLiabilities | -0.2469353925 | -0.3246496046 | -0.169221180  | 0.03885711    |  2.084796e-10 |\n",
       "| PreviousNumber_Intervals | -2.5778611378 | -2.7203941887 | -2.435328087  | 0.07126653    | 1.671044e-286 |\n",
       "| NoHistoryTrue |  0.3472379517 |  0.2855451342 |  0.408930769  | 0.03084641    |  2.139231e-29 |\n",
       "| PreviousNumber |  1.0811833123 |  0.8143901925 |  1.347976432  | 0.13339656    |  5.273188e-16 |\n",
       "| PreviousNumber_Current |  1.0390555226 |  0.8552079025 |  1.222903143  | 0.09192381    |  1.261727e-29 |\n",
       "| PreviousNumber_Default |  0.3838019657 |  0.1113527357 |  0.656251196  | 0.13622462    |  4.841116e-03 |\n",
       "| PreviousNumber_Repaid | -0.5813487515 | -0.6929337270 | -0.469763776  | 0.05579249    |  2.012932e-25 |\n",
       "| PreviousNumber_Rescheduled |  0.7158085766 |  0.6543619647 |  0.777255188  | 0.03072331    | 4.585528e-120 |\n",
       "\n"
      ],
      "text/plain": [
       "                                             Coef          (95%         \n",
       "Year2010                                      0.66910808    0.53881694  \n",
       "Year2011                                      0.37432705    0.17964282  \n",
       "Year2012                                      0.04414352   -0.17575213  \n",
       "Year2013                                      0.16207878    0.07895227  \n",
       "Year2014                                      0.14089611    0.08658820  \n",
       "Year2015                                      0.29669582    0.24537037  \n",
       "Year2016                                      0.62126526    0.57624903  \n",
       "Year2017                                      0.70189737    0.66869557  \n",
       "Year2018                                      0.42346513    0.39417497  \n",
       "Year2020                                     -0.84371612   -0.90605942  \n",
       "Rating2EE:600.0                               0.68298831    0.61838477  \n",
       "Rating2EE:700.0                               0.42630825    0.35861660  \n",
       "Rating2EE:800.0                               0.40447444    0.35763444  \n",
       "Rating2EE:900.0                               0.30865729    0.25693466  \n",
       "Rating2ES:A                                   1.49144368    1.44771229  \n",
       "Rating2ES:B                                   1.42606712    1.38225089  \n",
       "Rating2ES:C                                   1.65507447    1.60066575  \n",
       "Rating2ES:D                                   1.96104036    1.78874149  \n",
       "Rating2FI:RL1                                 0.91356901    0.84238407  \n",
       "Rating2FI:RL1x                                0.75208531    0.61438900  \n",
       "Rating2FI:RL2                                 0.90621318    0.85383961  \n",
       "Rating2FI:RL2x                                0.97891330    0.91526876  \n",
       "Rating2FI:RL3                                 1.02528911    0.90502413  \n",
       "Rating2FI:RL3x                                1.08177697    1.03841610  \n",
       "Rating2FI:RL4                                 1.58804912    1.43698083  \n",
       "Rating2FI:RL4x                                1.23267505    1.18479099  \n",
       "Rating2FI:RL5x                                1.31260312    1.25239243  \n",
       "Rating2SK:-                                   2.00953773    1.86906696  \n",
       "Gender-                                      -0.06544928   -0.10415860  \n",
       "GenderFemale                                 -0.21629735   -0.23877557  \n",
       "...                                          ...           ...          \n",
       "HomeOwnershipTypeLiving with parents          0.1126649937  0.0830027980\n",
       "HomeOwnershipTypeMortgage                    -0.1366441743 -0.1690177431\n",
       "HomeOwnershipTypeOther                        0.0883154743  0.0452077913\n",
       "HomeOwnershipTypeTenant                       0.1398941126  0.1160381757\n",
       "ApplicationSignedHour                         0.0007902923 -0.0311108328\n",
       "ApplicationSignedWeekday                      0.0215754148 -0.0101927339\n",
       "EmploymentDurationCurrentEmployer-           -0.1294145328 -0.2687373869\n",
       "EmploymentDurationCurrentEmployer1-           0.0860263558  0.0585740170\n",
       "EmploymentDurationCurrentEmployer1-5,         0.0676911488  0.0451771952\n",
       "EmploymentDurationCurrentEmployerOther       -0.0617231508 -0.1148312961\n",
       "EmploymentDurationCurrentEmployerRetiree      0.1886168350  0.1453592474\n",
       "EmploymentDurationCurrentEmployerTrialPeriod  0.1135002175  0.0044305706\n",
       "LoanDuration                                  0.4415277455  0.3981740535\n",
       "Amount                                       -1.1479176877 -1.2336488669\n",
       "VerificationTypeIncome unverified             0.0985490619  0.0768176343\n",
       "VerificationTypeIncome verified               0.0850412362  0.0493821917\n",
       "IncomeTotal                                   0.9361965563  0.8587372866\n",
       "LiabilitiesTotal                             -0.0958854336 -0.1682823234\n",
       "LiabilitiesToIncome                           0.1171672655  0.0506701185\n",
       "LiabilitiesToIncomeUnknownTrue                0.0503148525  0.0003342775\n",
       "LoansToIncome                                 1.1331264556  0.9869707889\n",
       "PaymentToIncome                               1.3685676134  1.2834497906\n",
       "ExistingLiabilities                          -0.2469353925 -0.3246496046\n",
       "PreviousNumber_Intervals                     -2.5778611378 -2.7203941887\n",
       "NoHistoryTrue                                 0.3472379517  0.2855451342\n",
       "PreviousNumber                                1.0811833123  0.8143901925\n",
       "PreviousNumber_Current                        1.0390555226  0.8552079025\n",
       "PreviousNumber_Default                        0.3838019657  0.1113527357\n",
       "PreviousNumber_Repaid                        -0.5813487515 -0.6929337270\n",
       "PreviousNumber_Rescheduled                    0.7158085766  0.6543619647\n",
       "                                             CI)          SE        \n",
       "Year2010                                      0.79939922  0.06514557\n",
       "Year2011                                      0.56901128  0.09734211\n",
       "Year2012                                      0.26403917  0.10994783\n",
       "Year2013                                      0.24520528  0.04156325\n",
       "Year2014                                      0.19520403  0.02715396\n",
       "Year2015                                      0.34802127  0.02566273\n",
       "Year2016                                      0.66628149  0.02250812\n",
       "Year2017                                      0.73509917  0.01660090\n",
       "Year2018                                      0.45275529  0.01464508\n",
       "Year2020                                     -0.78137282  0.03117165\n",
       "Rating2EE:600.0                               0.74759186  0.03230177\n",
       "Rating2EE:700.0                               0.49399990  0.03384583\n",
       "Rating2EE:800.0                               0.45131444  0.02342000\n",
       "Rating2EE:900.0                               0.36037992  0.02586132\n",
       "Rating2ES:A                                   1.53517508  0.02186570\n",
       "Rating2ES:B                                   1.46988336  0.02190812\n",
       "Rating2ES:C                                   1.70948319  0.02720436\n",
       "Rating2ES:D                                   2.13333924  0.08614944\n",
       "Rating2FI:RL1                                 0.98475395  0.03559247\n",
       "Rating2FI:RL1x                                0.88978161  0.06884815\n",
       "Rating2FI:RL2                                 0.95858675  0.02618678\n",
       "Rating2FI:RL2x                                1.04255783  0.03182227\n",
       "Rating2FI:RL3                                 1.14555410  0.06013249\n",
       "Rating2FI:RL3x                                1.12513783  0.02168043\n",
       "Rating2FI:RL4                                 1.73911741  0.07553415\n",
       "Rating2FI:RL4x                                1.28055911  0.02394203\n",
       "Rating2FI:RL5x                                1.37281382  0.03010535\n",
       "Rating2SK:-                                   2.15000850  0.07023538\n",
       "Gender-                                      -0.02673997  0.01935466\n",
       "GenderFemale                                 -0.19381914  0.01123911\n",
       "...                                          ...          ...       \n",
       "HomeOwnershipTypeLiving with parents          0.142327189 0.01483110\n",
       "HomeOwnershipTypeMortgage                    -0.104270606 0.01618678\n",
       "HomeOwnershipTypeOther                        0.131423157 0.02155384\n",
       "HomeOwnershipTypeTenant                       0.163750049 0.01192797\n",
       "ApplicationSignedHour                         0.032691417 0.01595056\n",
       "ApplicationSignedWeekday                      0.053343563 0.01588407\n",
       "EmploymentDurationCurrentEmployer-            0.009908321 0.06966143\n",
       "EmploymentDurationCurrentEmployer1-           0.113478695 0.01372617\n",
       "EmploymentDurationCurrentEmployer1-5,         0.090205102 0.01125698\n",
       "EmploymentDurationCurrentEmployerOther       -0.008615005 0.02655407\n",
       "EmploymentDurationCurrentEmployerRetiree      0.231874423 0.02162879\n",
       "EmploymentDurationCurrentEmployerTrialPeriod  0.222569864 0.05453482\n",
       "LoanDuration                                  0.484881437 0.02167685\n",
       "Amount                                       -1.062186508 0.04286559\n",
       "VerificationTypeIncome unverified             0.120280489 0.01086571\n",
       "VerificationTypeIncome verified               0.120700281 0.01782952\n",
       "IncomeTotal                                   1.013655826 0.03872963\n",
       "LiabilitiesTotal                             -0.023488544 0.03619844\n",
       "LiabilitiesToIncome                           0.183664412 0.03324857\n",
       "LiabilitiesToIncomeUnknownTrue                0.100295427 0.02499029\n",
       "LoansToIncome                                 1.279282122 0.07307783\n",
       "PaymentToIncome                               1.453685436 0.04255891\n",
       "ExistingLiabilities                          -0.169221180 0.03885711\n",
       "PreviousNumber_Intervals                     -2.435328087 0.07126653\n",
       "NoHistoryTrue                                 0.408930769 0.03084641\n",
       "PreviousNumber                                1.347976432 0.13339656\n",
       "PreviousNumber_Current                        1.222903143 0.09192381\n",
       "PreviousNumber_Default                        0.656251196 0.13622462\n",
       "PreviousNumber_Repaid                        -0.469763776 0.05579249\n",
       "PreviousNumber_Rescheduled                    0.777255188 0.03072331\n",
       "                                             p            \n",
       "Year2010                                      9.524411e-25\n",
       "Year2011                                      1.203172e-04\n",
       "Year2012                                      6.880556e-01\n",
       "Year2013                                      9.636400e-05\n",
       "Year2014                                      2.116676e-07\n",
       "Year2015                                      6.468175e-31\n",
       "Year2016                                     1.057747e-167\n",
       "Year2017                                      0.000000e+00\n",
       "Year2018                                     7.694909e-184\n",
       "Year2020                                     2.424300e-161\n",
       "Rating2EE:600.0                               3.134322e-99\n",
       "Rating2EE:700.0                               2.232766e-36\n",
       "Rating2EE:800.0                               7.849917e-67\n",
       "Rating2EE:900.0                               7.766957e-33\n",
       "Rating2ES:A                                   0.000000e+00\n",
       "Rating2ES:B                                   0.000000e+00\n",
       "Rating2ES:C                                   0.000000e+00\n",
       "Rating2ES:D                                  1.061077e-114\n",
       "Rating2FI:RL1                                2.698061e-145\n",
       "Rating2FI:RL1x                                8.867868e-28\n",
       "Rating2FI:RL2                                2.070679e-262\n",
       "Rating2FI:RL2x                               8.477508e-208\n",
       "Rating2FI:RL3                                 3.465500e-65\n",
       "Rating2FI:RL3x                                0.000000e+00\n",
       "Rating2FI:RL4                                 3.935272e-98\n",
       "Rating2FI:RL4x                                0.000000e+00\n",
       "Rating2FI:RL5x                                0.000000e+00\n",
       "Rating2SK:-                                  4.837184e-180\n",
       "Gender-                                       7.207082e-04\n",
       "GenderFemale                                  1.552802e-82\n",
       "...                                          ...          \n",
       "HomeOwnershipTypeLiving with parents          3.041588e-14\n",
       "HomeOwnershipTypeMortgage                     3.127227e-17\n",
       "HomeOwnershipTypeOther                        4.177526e-05\n",
       "HomeOwnershipTypeTenant                       9.133484e-32\n",
       "ApplicationSignedHour                         9.604839e-01\n",
       "ApplicationSignedWeekday                      1.743670e-01\n",
       "EmploymentDurationCurrentEmployer-            6.320245e-02\n",
       "EmploymentDurationCurrentEmployer1-           3.673046e-10\n",
       "EmploymentDurationCurrentEmployer1-5,         1.818270e-09\n",
       "EmploymentDurationCurrentEmployerOther        2.010232e-02\n",
       "EmploymentDurationCurrentEmployerRetiree      2.766438e-18\n",
       "EmploymentDurationCurrentEmployerTrialPeriod  3.741167e-02\n",
       "LoanDuration                                  3.174075e-92\n",
       "Amount                                       5.605080e-158\n",
       "VerificationTypeIncome unverified             1.193152e-19\n",
       "VerificationTypeIncome verified               1.845126e-06\n",
       "IncomeTotal                                  4.319330e-129\n",
       "LiabilitiesTotal                              8.075836e-03\n",
       "LiabilitiesToIncome                           4.251184e-04\n",
       "LiabilitiesToIncomeUnknownTrue                4.407506e-02\n",
       "LoansToIncome                                 3.172018e-54\n",
       "PaymentToIncome                              7.046814e-227\n",
       "ExistingLiabilities                           2.084796e-10\n",
       "PreviousNumber_Intervals                     1.671044e-286\n",
       "NoHistoryTrue                                 2.139231e-29\n",
       "PreviousNumber                                5.273188e-16\n",
       "PreviousNumber_Current                        1.261727e-29\n",
       "PreviousNumber_Default                        4.841116e-03\n",
       "PreviousNumber_Repaid                         2.012932e-25\n",
       "PreviousNumber_Rescheduled                   4.585528e-120"
      ]
     },
     "metadata": {},
     "output_type": "display_data"
    }
   ],
   "source": [
    "coefs = summary(fit)$mat\n",
    "coefs[61:nrow(coefs),]"
   ]
  },
  {
   "cell_type": "markdown",
   "metadata": {},
   "source": [
    "There is an accessory function I wrote to visualize the results"
   ]
  },
  {
   "cell_type": "code",
   "execution_count": 30,
   "metadata": {},
   "outputs": [],
   "source": [
    "coef <- add_label(fit)\n",
    "coef <- add_levels(df, coef)\n",
    "coef.list <- split(coef, coef$Term)"
   ]
  },
  {
   "cell_type": "markdown",
   "metadata": {},
   "source": [
    "For example, the effect of 'Year' is quite interesting, where some years had almost double the odds of default:"
   ]
  },
  {
   "cell_type": "code",
   "execution_count": 42,
   "metadata": {},
   "outputs": [
    {
     "name": "stderr",
     "output_type": "stream",
     "text": [
      "Warning message:\n",
      "\"Removed 1 rows containing missing values (geom_errorbar).\""
     ]
    },
    {
     "data": {
      "image/png": "[encoded data removed]",
      "text/plain": [
       "plot without title"
      ]
     },
     "metadata": {},
     "output_type": "display_data"
    }
   ],
   "source": [
    "plot_oddsratio(coef.list[['Year']])"
   ]
  },
  {
   "cell_type": "markdown",
   "metadata": {},
   "source": [
    "For example, 'Rating2' combines countries and their specific credit rating system into a 'Country':'Credit Rating' feature. It looks like some countries are a lot riskier, and the credit rating has a smaller but significant effect:"
   ]
  },
  {
   "cell_type": "code",
   "execution_count": 43,
   "metadata": {},
   "outputs": [
    {
     "name": "stderr",
     "output_type": "stream",
     "text": [
      "Warning message:\n",
      "\"Removed 1 rows containing missing values (geom_errorbar).\""
     ]
    },
    {
     "data": {
      "image/png": "[encoded data removed]",
      "text/plain": [
       "plot without title"
      ]
     },
     "metadata": {},
     "output_type": "display_data"
    }
   ],
   "source": [
    "plot_oddsratio(coef.list[['Rating2']])"
   ]
  },
  {
   "cell_type": "markdown",
   "metadata": {},
   "source": [
    "## Loss Given Default model"
   ]
  },
  {
   "cell_type": "markdown",
   "metadata": {},
   "source": [
    "In the second model we combine the dataframes to attach features to each recovery:"
   ]
  },
  {
   "cell_type": "code",
   "execution_count": 50,
   "metadata": {},
   "outputs": [],
   "source": [
    "df <- merge(df_loan, df_R)"
   ]
  },
  {
   "cell_type": "markdown",
   "metadata": {},
   "source": [
    "It looks like the mean recovery in the data set approaches zero over time almost linearly:"
   ]
  },
  {
   "cell_type": "code",
   "execution_count": 51,
   "metadata": {},
   "outputs": [
    {
     "data": {
      "image/png": "[encoded data removed]",
      "text/plain": [
       "plot without title"
      ]
     },
     "metadata": {},
     "output_type": "display_data"
    }
   ],
   "source": [
    "dc <- aggregate(Y ~T, df, mean)\n",
    "plot(dc$T, dc$Y, ylim=c(0.00, 0.02))"
   ]
  },
  {
   "cell_type": "markdown",
   "metadata": {},
   "source": [
    "By a quick analysis the mean recovery also depends on the credit rating, with higher risk loans recovering less principal:"
   ]
  },
  {
   "cell_type": "code",
   "execution_count": 54,
   "metadata": {},
   "outputs": [
    {
     "data": {
      "text/html": [
       "<table>\n",
       "<thead><tr><th scope=col>Rating</th><th scope=col>Y</th></tr></thead>\n",
       "<tbody>\n",
       "\t<tr><td>-          </td><td>0.018831359</td></tr>\n",
       "\t<tr><td>A          </td><td>0.009803446</td></tr>\n",
       "\t<tr><td>B          </td><td>0.008917001</td></tr>\n",
       "\t<tr><td>C          </td><td>0.008868636</td></tr>\n",
       "\t<tr><td>D          </td><td>0.008594854</td></tr>\n",
       "\t<tr><td>E          </td><td>0.007985837</td></tr>\n",
       "\t<tr><td>F          </td><td>0.006654166</td></tr>\n",
       "\t<tr><td>HR         </td><td>0.005886286</td></tr>\n",
       "</tbody>\n",
       "</table>\n"
      ],
      "text/latex": [
       "\\begin{tabular}{r|ll}\n",
       " Rating & Y\\\\\n",
       "\\hline\n",
       "\t -           & 0.018831359\\\\\n",
       "\t A           & 0.009803446\\\\\n",
       "\t B           & 0.008917001\\\\\n",
       "\t C           & 0.008868636\\\\\n",
       "\t D           & 0.008594854\\\\\n",
       "\t E           & 0.007985837\\\\\n",
       "\t F           & 0.006654166\\\\\n",
       "\t HR          & 0.005886286\\\\\n",
       "\\end{tabular}\n"
      ],
      "text/markdown": [
       "\n",
       "| Rating | Y |\n",
       "|---|---|\n",
       "| -           | 0.018831359 |\n",
       "| A           | 0.009803446 |\n",
       "| B           | 0.008917001 |\n",
       "| C           | 0.008868636 |\n",
       "| D           | 0.008594854 |\n",
       "| E           | 0.007985837 |\n",
       "| F           | 0.006654166 |\n",
       "| HR          | 0.005886286 |\n",
       "\n"
      ],
      "text/plain": [
       "  Rating Y          \n",
       "1 -      0.018831359\n",
       "2 A      0.009803446\n",
       "3 B      0.008917001\n",
       "4 C      0.008868636\n",
       "5 D      0.008594854\n",
       "6 E      0.007985837\n",
       "7 F      0.006654166\n",
       "8 HR     0.005886286"
      ]
     },
     "metadata": {},
     "output_type": "display_data"
    }
   ],
   "source": [
    "lgd <- aggregate(Y ~ Rating, df, mean)\n",
    "lgd"
   ]
  },
  {
   "cell_type": "markdown",
   "metadata": {},
   "source": [
    "Lets try some models.\n",
    "\n",
    "The simplest model uses only Bondora credit rating to predict the defaults:"
   ]
  },
  {
   "cell_type": "code",
   "execution_count": 55,
   "metadata": {},
   "outputs": [
    {
     "name": "stderr",
     "output_type": "stream",
     "text": [
      "Warning message in bigglm.function(formula = formula, data = datafun, ...):\n",
      "\"ran out of iterations and failed to converge\""
     ]
    },
    {
     "data": {
      "text/html": [
       "0.0029874174918483"
      ],
      "text/latex": [
       "0.0029874174918483"
      ],
      "text/markdown": [
       "0.0029874174918483"
      ],
      "text/plain": [
       "[1] 0.002987417"
      ]
     },
     "metadata": {},
     "output_type": "display_data"
    }
   ],
   "source": [
    "formula1 <- Y~T-1+Rating\n",
    "fit <- bigglm(formula1, data=df, family=gaussian(link='log'), chunksize=100000, maxint=1000)\n",
    "r <- as.vector(predict(fit, df, type=\"response\"))\n",
    "mean((df$Y - r)**2)"
   ]
  },
  {
   "cell_type": "markdown",
   "metadata": {},
   "source": [
    "Lets again see if we can drop the Bondora credit rating and develop a better model.\n",
    "\n",
    "The following model uses only borrower features:\n"
   ]
  },
  {
   "cell_type": "code",
   "execution_count": 56,
   "metadata": {},
   "outputs": [
    {
     "data": {
      "text/html": [
       "0.00298101450777951"
      ],
      "text/latex": [
       "0.00298101450777951"
      ],
      "text/markdown": [
       "0.00298101450777951"
      ],
      "text/plain": [
       "[1] 0.002981015"
      ]
     },
     "metadata": {},
     "output_type": "display_data"
    }
   ],
   "source": [
    "formula2 <- Y~T-1+Rating2+Gender+Age+Education+HomeOwnershipType+ApplicationSignedHour+ApplicationSignedWeekday+EmploymentDurationCurrentEmployer\n",
    "fit <- bigglm(formula2, data=df, family=gaussian(link='identity'), chunksize=100000, maxint=1000)\n",
    "r <- as.vector(predict(fit, df, type=\"response\"))\n",
    "mean((df$Y - r)**2)"
   ]
  },
  {
   "cell_type": "markdown",
   "metadata": {},
   "source": [
    "The second model uses only loan features:\n"
   ]
  },
  {
   "cell_type": "code",
   "execution_count": 57,
   "metadata": {},
   "outputs": [
    {
     "data": {
      "text/html": [
       "0.00298280827575264"
      ],
      "text/latex": [
       "0.00298280827575264"
      ],
      "text/markdown": [
       "0.00298280827575264"
      ],
      "text/plain": [
       "[1] 0.002982808"
      ]
     },
     "metadata": {},
     "output_type": "display_data"
    }
   ],
   "source": [
    "formula3 <- Y~T-1+Year+LoanDuration+Amount+VerificationType+IncomeTotal+LiabilitiesTotal+LiabilitiesToIncome+LiabilitiesToIncomeUnknown+LoansToIncome+PaymentToIncome+ExistingLiabilities#+LiabilitiesToIncomeUnknown\n",
    "fit <- bigglm(formula3, data=df, family=gaussian(link='identity'), chunksize=100000, maxint=1000)\n",
    "r <- as.vector(predict(fit, df, type=\"response\"))\n",
    "mean((df$Y - r)**2)"
   ]
  },
  {
   "cell_type": "markdown",
   "metadata": {},
   "source": [
    "The third model uses only the information of past lending history in the Bondora platform (so useless for new customers):\n"
   ]
  },
  {
   "cell_type": "code",
   "execution_count": 58,
   "metadata": {},
   "outputs": [
    {
     "data": {
      "text/html": [
       "0.00298969807342902"
      ],
      "text/latex": [
       "0.00298969807342902"
      ],
      "text/markdown": [
       "0.00298969807342902"
      ],
      "text/plain": [
       "[1] 0.002989698"
      ]
     },
     "metadata": {},
     "output_type": "display_data"
    }
   ],
   "source": [
    "formula4 <- Y~T-1+PreviousNumber_Intervals+NoHistory+PreviousNumber+PreviousNumber_Current+PreviousNumber_Default+PreviousNumber_Repaid+PreviousNumber_Rescheduled\n",
    "fit <- bigglm(formula4, data=df, family=gaussian(link='identity'), chunksize=100000, maxint=1000)\n",
    "r <- as.vector(predict(fit, df, type=\"response\"))\n",
    "mean((df$Y - r)**2)"
   ]
  },
  {
   "cell_type": "markdown",
   "metadata": {},
   "source": [
    "\n",
    "Lets put all three sources of information (borrower, loan, past loans) together and develop a full model:\n"
   ]
  },
  {
   "cell_type": "code",
   "execution_count": 59,
   "metadata": {},
   "outputs": [
    {
     "name": "stderr",
     "output_type": "stream",
     "text": [
      "Warning message in bigglm.function(formula = formula, data = datafun, ...):\n",
      "\"ran out of iterations and failed to converge\""
     ]
    },
    {
     "data": {
      "text/html": [
       "0.00297039269119635"
      ],
      "text/latex": [
       "0.00297039269119635"
      ],
      "text/markdown": [
       "0.00297039269119635"
      ],
      "text/plain": [
       "[1] 0.002970393"
      ]
     },
     "metadata": {},
     "output_type": "display_data"
    }
   ],
   "source": [
    "formula <- Y~T-1+Year+Rating+Rating2+Gender+Age+Education+HomeOwnershipType+ApplicationSignedHour+ApplicationSignedWeekday+EmploymentDurationCurrentEmployer+LoanDuration+Amount+VerificationType+IncomeTotal+LiabilitiesTotal+LiabilitiesToIncome+LiabilitiesToIncomeUnknown+LoansToIncome+PaymentToIncome+ExistingLiabilities+PreviousNumber_Intervals+NoHistory+PreviousNumber+PreviousNumber_Current+PreviousNumber_Default+PreviousNumber_Repaid+PreviousNumber_Rescheduled\n",
    "fit <- bigglm(formula, data=df, family=gaussian(link='log'), chunksize=100000, maxint=1000)\n",
    "r <- as.vector(predict(fit, df, type=\"response\"))\n",
    "mean((df$Y - r)**2)"
   ]
  },
  {
   "cell_type": "markdown",
   "metadata": {},
   "source": [
    "Again, not bad!\n",
    "\n",
    "Now that we have a model we can predict the recovery rates (and therefore loss given default). Since month is simply an intercept term (T-1), we can predict the log expected recovery in the first month to obtain the relative recovery rate in each loan:\n"
   ]
  },
  {
   "cell_type": "code",
   "execution_count": 60,
   "metadata": {},
   "outputs": [
    {
     "data": {
      "image/png": "[encoded data removed]",
      "text/plain": [
       "Plot with title \"Histogram of recovery_rate\""
      ]
     },
     "metadata": {},
     "output_type": "display_data"
    }
   ],
   "source": [
    "df_X <- df_loan[c('LoanId')]\n",
    "df_X$Y <- 0\n",
    "df_X$T <- factor(rep(1, nrow(df_X)), levels=levels(df_Y$T))\n",
    "df_test <- merge(df_X, df_loan)\n",
    "recovery_rate <- as.vector(predict(fit, df_test))\n",
    "hist(recovery_rate)"
   ]
  },
  {
   "cell_type": "markdown",
   "metadata": {},
   "source": [
    "The effect of different features can be interpreted from the coefficients:"
   ]
  },
  {
   "cell_type": "code",
   "execution_count": 61,
   "metadata": {},
   "outputs": [
    {
     "data": {
      "text/html": [
       "<table>\n",
       "<thead><tr><th></th><th scope=col>Coef</th><th scope=col>(95%</th><th scope=col>CI)</th><th scope=col>SE</th><th scope=col>p</th></tr></thead>\n",
       "<tbody>\n",
       "\t<tr><th scope=row>Year2010</th><td> 0.76760489  </td><td> 0.553537613 </td><td> 0.981672171 </td><td>0.10703364   </td><td> 7.411390e-13</td></tr>\n",
       "\t<tr><th scope=row>Year2011</th><td> 0.90241280  </td><td> 0.703324029 </td><td> 1.101501566 </td><td>0.09954438   </td><td> 1.241120e-19</td></tr>\n",
       "\t<tr><th scope=row>Year2012</th><td> 0.82186483  </td><td> 0.652212385 </td><td> 0.991517282 </td><td>0.08482622   </td><td> 3.364386e-22</td></tr>\n",
       "\t<tr><th scope=row>Year2013</th><td> 0.46596967  </td><td> 0.388504188 </td><td> 0.543435153 </td><td>0.03873274   </td><td> 2.460202e-33</td></tr>\n",
       "\t<tr><th scope=row>Year2014</th><td> 0.26913172  </td><td> 0.200533895 </td><td> 0.337729540 </td><td>0.03429891   </td><td> 4.272813e-15</td></tr>\n",
       "\t<tr><th scope=row>Year2015</th><td> 0.01068974  </td><td>-0.059292531 </td><td> 0.080672014 </td><td>0.03499114   </td><td> 7.599865e-01</td></tr>\n",
       "\t<tr><th scope=row>Year2016</th><td>-0.14377181  </td><td>-0.211582535 </td><td>-0.075961086 </td><td>0.03390536   </td><td> 2.231361e-05</td></tr>\n",
       "\t<tr><th scope=row>Year2017</th><td>-0.06170149  </td><td>-0.121237998 </td><td>-0.002164987 </td><td>0.02976825   </td><td> 3.819760e-02</td></tr>\n",
       "\t<tr><th scope=row>Year2018</th><td> 0.06516780  </td><td> 0.006046589 </td><td> 0.124289009 </td><td>0.02956060   </td><td> 2.748577e-02</td></tr>\n",
       "\t<tr><th scope=row>Year2020</th><td> 0.25430394  </td><td>-0.023265555 </td><td> 0.531873437 </td><td>0.13878475   </td><td> 6.689746e-02</td></tr>\n",
       "\t<tr><th scope=row>Rating-</th><td>-0.26726609  </td><td>-0.445939525 </td><td>-0.088592651 </td><td>0.08933672   </td><td> 2.774549e-03</td></tr>\n",
       "\t<tr><th scope=row>RatingA</th><td>-0.07574991  </td><td>-0.145700502 </td><td>-0.005799316 </td><td>0.03497530   </td><td> 3.032557e-02</td></tr>\n",
       "\t<tr><th scope=row>RatingB</th><td>-0.12413334  </td><td>-0.178411316 </td><td>-0.069855364 </td><td>0.02713899   </td><td> 4.785328e-06</td></tr>\n",
       "\t<tr><th scope=row>RatingC</th><td>-0.07234543  </td><td>-0.115249051 </td><td>-0.029441803 </td><td>0.02145181   </td><td> 7.449928e-04</td></tr>\n",
       "\t<tr><th scope=row>RatingD</th><td>-0.07679214  </td><td>-0.115828283 </td><td>-0.037756000 </td><td>0.01951807   </td><td> 8.340044e-05</td></tr>\n",
       "\t<tr><th scope=row>RatingF</th><td> 0.06466873  </td><td> 0.021215322 </td><td> 0.108122133 </td><td>0.02172670   </td><td> 2.915943e-03</td></tr>\n",
       "\t<tr><th scope=row>RatingHR</th><td>-0.07357539  </td><td>-0.119530520 </td><td>-0.027620252 </td><td>0.02297757   </td><td> 1.364519e-03</td></tr>\n",
       "\t<tr><th scope=row>Rating2EE:600.0</th><td> 0.19103762  </td><td> 0.138521241 </td><td> 0.243553999 </td><td>0.02625819   </td><td> 3.455135e-13</td></tr>\n",
       "\t<tr><th scope=row>Rating2EE:700.0</th><td> 0.07368137  </td><td> 0.011238150 </td><td> 0.136124586 </td><td>0.03122161   </td><td> 1.827751e-02</td></tr>\n",
       "\t<tr><th scope=row>Rating2EE:800.0</th><td> 0.06721281  </td><td> 0.018681731 </td><td> 0.115743890 </td><td>0.02426554   </td><td> 5.607569e-03</td></tr>\n",
       "\t<tr><th scope=row>Rating2EE:900.0</th><td> 0.04565763  </td><td>-0.010220698 </td><td> 0.101535962 </td><td>0.02793917   </td><td> 1.022210e-01</td></tr>\n",
       "\t<tr><th scope=row>Rating2ES:A</th><td>-0.76558421  </td><td>-0.841347721 </td><td>-0.689820699 </td><td>0.03788176   </td><td> 8.020794e-91</td></tr>\n",
       "\t<tr><th scope=row>Rating2ES:B</th><td>-0.85490166  </td><td>-0.922566489 </td><td>-0.787236824 </td><td>0.03383242   </td><td>7.054181e-141</td></tr>\n",
       "\t<tr><th scope=row>Rating2ES:C</th><td>-0.84911744  </td><td>-0.927435071 </td><td>-0.770799805 </td><td>0.03915882   </td><td>2.908792e-104</td></tr>\n",
       "\t<tr><th scope=row>Rating2ES:D</th><td>-1.15815987  </td><td>-1.418113934 </td><td>-0.898205808 </td><td>0.12997703   </td><td> 5.080458e-19</td></tr>\n",
       "\t<tr><th scope=row>Rating2FI:RL1</th><td>-0.40009355  </td><td>-0.485779912 </td><td>-0.314407178 </td><td>0.04284318   </td><td> 9.765518e-21</td></tr>\n",
       "\t<tr><th scope=row>Rating2FI:RL1x</th><td>-0.43962711  </td><td>-0.677816822 </td><td>-0.201437408 </td><td>0.11909485   </td><td> 2.230203e-04</td></tr>\n",
       "\t<tr><th scope=row>Rating2FI:RL2</th><td>-0.31913102  </td><td>-0.376082636 </td><td>-0.262179394 </td><td>0.02847581   </td><td> 3.763576e-29</td></tr>\n",
       "\t<tr><th scope=row>Rating2FI:RL2x</th><td>-0.77520622  </td><td>-0.914734790 </td><td>-0.635677657 </td><td>0.06976428   </td><td> 1.099306e-28</td></tr>\n",
       "\t<tr><th scope=row>Rating2FI:RL3</th><td>-0.36374619  </td><td>-0.485083011 </td><td>-0.242409359 </td><td>0.06066841   </td><td> 2.026810e-09</td></tr>\n",
       "\t<tr><th scope=row>...</th><td>...</td><td>...</td><td>...</td><td>...</td><td>...</td></tr>\n",
       "\t<tr><th scope=row>HomeOwnershipTypeLiving with parents</th><td>-0.11355747 </td><td>-0.14773040 </td><td>-0.079384552</td><td>0.01708646  </td><td>3.010631e-11</td></tr>\n",
       "\t<tr><th scope=row>HomeOwnershipTypeMortgage</th><td> 0.12978752 </td><td> 0.09315815 </td><td> 0.166416891</td><td>0.01831469  </td><td>1.375190e-12</td></tr>\n",
       "\t<tr><th scope=row>HomeOwnershipTypeOther</th><td>-0.28089498 </td><td>-0.36671757 </td><td>-0.195072392</td><td>0.04291130  </td><td>5.912030e-11</td></tr>\n",
       "\t<tr><th scope=row>HomeOwnershipTypeTenant</th><td>-0.23779139 </td><td>-0.26880771 </td><td>-0.206775062</td><td>0.01550816  </td><td>4.580751e-53</td></tr>\n",
       "\t<tr><th scope=row>ApplicationSignedHour</th><td> 0.01378141 </td><td>-0.02792348 </td><td> 0.055486310</td><td>0.02085245  </td><td>5.086755e-01</td></tr>\n",
       "\t<tr><th scope=row>ApplicationSignedWeekday</th><td> 0.02169768 </td><td>-0.01916516 </td><td> 0.062560522</td><td>0.02043142  </td><td>2.882466e-01</td></tr>\n",
       "\t<tr><th scope=row>EmploymentDurationCurrentEmployer-</th><td>-0.01731534 </td><td>-0.12217471 </td><td> 0.087544022</td><td>0.05242968  </td><td>7.412047e-01</td></tr>\n",
       "\t<tr><th scope=row>EmploymentDurationCurrentEmployer1-</th><td>-0.14604581 </td><td>-0.17988873 </td><td>-0.112202880</td><td>0.01692146  </td><td>6.092293e-18</td></tr>\n",
       "\t<tr><th scope=row>EmploymentDurationCurrentEmployer1-5,</th><td>-0.11687859 </td><td>-0.14417392 </td><td>-0.089583259</td><td>0.01364766  </td><td>1.090184e-17</td></tr>\n",
       "\t<tr><th scope=row>EmploymentDurationCurrentEmployerOther</th><td>-0.06392190 </td><td>-0.17352625 </td><td> 0.045682442</td><td>0.05480217  </td><td>2.434480e-01</td></tr>\n",
       "\t<tr><th scope=row>EmploymentDurationCurrentEmployerRetiree</th><td>-0.20097580 </td><td>-0.30642968 </td><td>-0.095521926</td><td>0.05272694  </td><td>1.380511e-04</td></tr>\n",
       "\t<tr><th scope=row>EmploymentDurationCurrentEmployerTrialPeriod</th><td>-0.03546492 </td><td>-0.13579219 </td><td> 0.064862354</td><td>0.05016363  </td><td>4.795761e-01</td></tr>\n",
       "\t<tr><th scope=row>LoanDuration</th><td>-0.35515795 </td><td>-0.41233898 </td><td>-0.297976916</td><td>0.02859052  </td><td>1.979660e-35</td></tr>\n",
       "\t<tr><th scope=row>Amount</th><td>-0.64270612 </td><td>-0.75147778 </td><td>-0.533934455</td><td>0.05438583  </td><td>3.168699e-32</td></tr>\n",
       "\t<tr><th scope=row>VerificationTypeIncome unverified</th><td>-0.14521995 </td><td>-0.17517487 </td><td>-0.115265034</td><td>0.01497746  </td><td>3.138553e-22</td></tr>\n",
       "\t<tr><th scope=row>VerificationTypeIncome verified</th><td>-0.08460346 </td><td>-0.12243407 </td><td>-0.046772852</td><td>0.01891530  </td><td>7.721938e-06</td></tr>\n",
       "\t<tr><th scope=row>IncomeTotal</th><td>-0.13625132 </td><td>-0.22532134 </td><td>-0.047181307</td><td>0.04453501  </td><td>2.217656e-03</td></tr>\n",
       "\t<tr><th scope=row>LiabilitiesTotal</th><td> 0.31602532 </td><td> 0.24441822 </td><td> 0.387632421</td><td>0.03580355  </td><td>1.078598e-18</td></tr>\n",
       "\t<tr><th scope=row>LiabilitiesToIncome</th><td> 0.01055264 </td><td>-0.05549908 </td><td> 0.076604372</td><td>0.03302586  </td><td>7.493272e-01</td></tr>\n",
       "\t<tr><th scope=row>LiabilitiesToIncomeUnknownTrue</th><td>-0.24764700 </td><td>-0.31553632 </td><td>-0.179757686</td><td>0.03394466  </td><td>2.973081e-13</td></tr>\n",
       "\t<tr><th scope=row>LoansToIncome</th><td>-1.38725426 </td><td>-1.57876837 </td><td>-1.195740142</td><td>0.09575706  </td><td>1.459152e-47</td></tr>\n",
       "\t<tr><th scope=row>PaymentToIncome</th><td>-0.14426118 </td><td>-0.25114152 </td><td>-0.037380848</td><td>0.05344017  </td><td>6.944590e-03</td></tr>\n",
       "\t<tr><th scope=row>ExistingLiabilities</th><td>-0.07828960 </td><td>-0.16169378 </td><td> 0.005114577</td><td>0.04170209  </td><td>6.046953e-02</td></tr>\n",
       "\t<tr><th scope=row>PreviousNumber_Intervals</th><td> 0.69971990 </td><td> 0.51160340 </td><td> 0.887836407</td><td>0.09405825  </td><td>1.012825e-13</td></tr>\n",
       "\t<tr><th scope=row>NoHistoryTrue</th><td>-0.45721730 </td><td>-0.54100798 </td><td>-0.373426629</td><td>0.04189534  </td><td>9.955053e-28</td></tr>\n",
       "\t<tr><th scope=row>PreviousNumber</th><td>-0.96790421 </td><td>-1.32605259 </td><td>-0.609755832</td><td>0.17907419  </td><td>6.479180e-08</td></tr>\n",
       "\t<tr><th scope=row>PreviousNumber_Current</th><td> 0.00537971 </td><td>-0.20707297 </td><td> 0.217832394</td><td>0.10622634  </td><td>9.596093e-01</td></tr>\n",
       "\t<tr><th scope=row>PreviousNumber_Default</th><td> 1.00701056 </td><td> 0.76798470 </td><td> 1.246036415</td><td>0.11951293  </td><td>3.578196e-17</td></tr>\n",
       "\t<tr><th scope=row>PreviousNumber_Repaid</th><td> 0.45337563 </td><td> 0.30530817 </td><td> 0.601443085</td><td>0.07403373  </td><td>9.130859e-10</td></tr>\n",
       "\t<tr><th scope=row>PreviousNumber_Rescheduled</th><td>-0.85748244 </td><td>-1.02382996 </td><td>-0.691134924</td><td>0.08317376  </td><td>6.381201e-25</td></tr>\n",
       "</tbody>\n",
       "</table>\n"
      ],
      "text/latex": [
       "\\begin{tabular}{r|lllll}\n",
       "  & Coef & (95\\% & CI) & SE & p\\\\\n",
       "\\hline\n",
       "\tYear2010 &  0.76760489   &  0.553537613  &  0.981672171  & 0.10703364    &  7.411390e-13\\\\\n",
       "\tYear2011 &  0.90241280   &  0.703324029  &  1.101501566  & 0.09954438    &  1.241120e-19\\\\\n",
       "\tYear2012 &  0.82186483   &  0.652212385  &  0.991517282  & 0.08482622    &  3.364386e-22\\\\\n",
       "\tYear2013 &  0.46596967   &  0.388504188  &  0.543435153  & 0.03873274    &  2.460202e-33\\\\\n",
       "\tYear2014 &  0.26913172   &  0.200533895  &  0.337729540  & 0.03429891    &  4.272813e-15\\\\\n",
       "\tYear2015 &  0.01068974   & -0.059292531  &  0.080672014  & 0.03499114    &  7.599865e-01\\\\\n",
       "\tYear2016 & -0.14377181   & -0.211582535  & -0.075961086  & 0.03390536    &  2.231361e-05\\\\\n",
       "\tYear2017 & -0.06170149   & -0.121237998  & -0.002164987  & 0.02976825    &  3.819760e-02\\\\\n",
       "\tYear2018 &  0.06516780   &  0.006046589  &  0.124289009  & 0.02956060    &  2.748577e-02\\\\\n",
       "\tYear2020 &  0.25430394   & -0.023265555  &  0.531873437  & 0.13878475    &  6.689746e-02\\\\\n",
       "\tRating- & -0.26726609   & -0.445939525  & -0.088592651  & 0.08933672    &  2.774549e-03\\\\\n",
       "\tRatingA & -0.07574991   & -0.145700502  & -0.005799316  & 0.03497530    &  3.032557e-02\\\\\n",
       "\tRatingB & -0.12413334   & -0.178411316  & -0.069855364  & 0.02713899    &  4.785328e-06\\\\\n",
       "\tRatingC & -0.07234543   & -0.115249051  & -0.029441803  & 0.02145181    &  7.449928e-04\\\\\n",
       "\tRatingD & -0.07679214   & -0.115828283  & -0.037756000  & 0.01951807    &  8.340044e-05\\\\\n",
       "\tRatingF &  0.06466873   &  0.021215322  &  0.108122133  & 0.02172670    &  2.915943e-03\\\\\n",
       "\tRatingHR & -0.07357539   & -0.119530520  & -0.027620252  & 0.02297757    &  1.364519e-03\\\\\n",
       "\tRating2EE:600.0 &  0.19103762   &  0.138521241  &  0.243553999  & 0.02625819    &  3.455135e-13\\\\\n",
       "\tRating2EE:700.0 &  0.07368137   &  0.011238150  &  0.136124586  & 0.03122161    &  1.827751e-02\\\\\n",
       "\tRating2EE:800.0 &  0.06721281   &  0.018681731  &  0.115743890  & 0.02426554    &  5.607569e-03\\\\\n",
       "\tRating2EE:900.0 &  0.04565763   & -0.010220698  &  0.101535962  & 0.02793917    &  1.022210e-01\\\\\n",
       "\tRating2ES:A & -0.76558421   & -0.841347721  & -0.689820699  & 0.03788176    &  8.020794e-91\\\\\n",
       "\tRating2ES:B & -0.85490166   & -0.922566489  & -0.787236824  & 0.03383242    & 7.054181e-141\\\\\n",
       "\tRating2ES:C & -0.84911744   & -0.927435071  & -0.770799805  & 0.03915882    & 2.908792e-104\\\\\n",
       "\tRating2ES:D & -1.15815987   & -1.418113934  & -0.898205808  & 0.12997703    &  5.080458e-19\\\\\n",
       "\tRating2FI:RL1 & -0.40009355   & -0.485779912  & -0.314407178  & 0.04284318    &  9.765518e-21\\\\\n",
       "\tRating2FI:RL1x & -0.43962711   & -0.677816822  & -0.201437408  & 0.11909485    &  2.230203e-04\\\\\n",
       "\tRating2FI:RL2 & -0.31913102   & -0.376082636  & -0.262179394  & 0.02847581    &  3.763576e-29\\\\\n",
       "\tRating2FI:RL2x & -0.77520622   & -0.914734790  & -0.635677657  & 0.06976428    &  1.099306e-28\\\\\n",
       "\tRating2FI:RL3 & -0.36374619   & -0.485083011  & -0.242409359  & 0.06066841    &  2.026810e-09\\\\\n",
       "\t... & ... & ... & ... & ... & ...\\\\\n",
       "\tHomeOwnershipTypeLiving with parents & -0.11355747  & -0.14773040  & -0.079384552 & 0.01708646   & 3.010631e-11\\\\\n",
       "\tHomeOwnershipTypeMortgage &  0.12978752  &  0.09315815  &  0.166416891 & 0.01831469   & 1.375190e-12\\\\\n",
       "\tHomeOwnershipTypeOther & -0.28089498  & -0.36671757  & -0.195072392 & 0.04291130   & 5.912030e-11\\\\\n",
       "\tHomeOwnershipTypeTenant & -0.23779139  & -0.26880771  & -0.206775062 & 0.01550816   & 4.580751e-53\\\\\n",
       "\tApplicationSignedHour &  0.01378141  & -0.02792348  &  0.055486310 & 0.02085245   & 5.086755e-01\\\\\n",
       "\tApplicationSignedWeekday &  0.02169768  & -0.01916516  &  0.062560522 & 0.02043142   & 2.882466e-01\\\\\n",
       "\tEmploymentDurationCurrentEmployer- & -0.01731534  & -0.12217471  &  0.087544022 & 0.05242968   & 7.412047e-01\\\\\n",
       "\tEmploymentDurationCurrentEmployer1- & -0.14604581  & -0.17988873  & -0.112202880 & 0.01692146   & 6.092293e-18\\\\\n",
       "\tEmploymentDurationCurrentEmployer1-5, & -0.11687859  & -0.14417392  & -0.089583259 & 0.01364766   & 1.090184e-17\\\\\n",
       "\tEmploymentDurationCurrentEmployerOther & -0.06392190  & -0.17352625  &  0.045682442 & 0.05480217   & 2.434480e-01\\\\\n",
       "\tEmploymentDurationCurrentEmployerRetiree & -0.20097580  & -0.30642968  & -0.095521926 & 0.05272694   & 1.380511e-04\\\\\n",
       "\tEmploymentDurationCurrentEmployerTrialPeriod & -0.03546492  & -0.13579219  &  0.064862354 & 0.05016363   & 4.795761e-01\\\\\n",
       "\tLoanDuration & -0.35515795  & -0.41233898  & -0.297976916 & 0.02859052   & 1.979660e-35\\\\\n",
       "\tAmount & -0.64270612  & -0.75147778  & -0.533934455 & 0.05438583   & 3.168699e-32\\\\\n",
       "\tVerificationTypeIncome unverified & -0.14521995  & -0.17517487  & -0.115265034 & 0.01497746   & 3.138553e-22\\\\\n",
       "\tVerificationTypeIncome verified & -0.08460346  & -0.12243407  & -0.046772852 & 0.01891530   & 7.721938e-06\\\\\n",
       "\tIncomeTotal & -0.13625132  & -0.22532134  & -0.047181307 & 0.04453501   & 2.217656e-03\\\\\n",
       "\tLiabilitiesTotal &  0.31602532  &  0.24441822  &  0.387632421 & 0.03580355   & 1.078598e-18\\\\\n",
       "\tLiabilitiesToIncome &  0.01055264  & -0.05549908  &  0.076604372 & 0.03302586   & 7.493272e-01\\\\\n",
       "\tLiabilitiesToIncomeUnknownTrue & -0.24764700  & -0.31553632  & -0.179757686 & 0.03394466   & 2.973081e-13\\\\\n",
       "\tLoansToIncome & -1.38725426  & -1.57876837  & -1.195740142 & 0.09575706   & 1.459152e-47\\\\\n",
       "\tPaymentToIncome & -0.14426118  & -0.25114152  & -0.037380848 & 0.05344017   & 6.944590e-03\\\\\n",
       "\tExistingLiabilities & -0.07828960  & -0.16169378  &  0.005114577 & 0.04170209   & 6.046953e-02\\\\\n",
       "\tPreviousNumber\\_Intervals &  0.69971990  &  0.51160340  &  0.887836407 & 0.09405825   & 1.012825e-13\\\\\n",
       "\tNoHistoryTrue & -0.45721730  & -0.54100798  & -0.373426629 & 0.04189534   & 9.955053e-28\\\\\n",
       "\tPreviousNumber & -0.96790421  & -1.32605259  & -0.609755832 & 0.17907419   & 6.479180e-08\\\\\n",
       "\tPreviousNumber\\_Current &  0.00537971  & -0.20707297  &  0.217832394 & 0.10622634   & 9.596093e-01\\\\\n",
       "\tPreviousNumber\\_Default &  1.00701056  &  0.76798470  &  1.246036415 & 0.11951293   & 3.578196e-17\\\\\n",
       "\tPreviousNumber\\_Repaid &  0.45337563  &  0.30530817  &  0.601443085 & 0.07403373   & 9.130859e-10\\\\\n",
       "\tPreviousNumber\\_Rescheduled & -0.85748244  & -1.02382996  & -0.691134924 & 0.08317376   & 6.381201e-25\\\\\n",
       "\\end{tabular}\n"
      ],
      "text/markdown": [
       "\n",
       "| <!--/--> | Coef | (95% | CI) | SE | p |\n",
       "|---|---|---|---|---|---|\n",
       "| Year2010 |  0.76760489   |  0.553537613  |  0.981672171  | 0.10703364    |  7.411390e-13 |\n",
       "| Year2011 |  0.90241280   |  0.703324029  |  1.101501566  | 0.09954438    |  1.241120e-19 |\n",
       "| Year2012 |  0.82186483   |  0.652212385  |  0.991517282  | 0.08482622    |  3.364386e-22 |\n",
       "| Year2013 |  0.46596967   |  0.388504188  |  0.543435153  | 0.03873274    |  2.460202e-33 |\n",
       "| Year2014 |  0.26913172   |  0.200533895  |  0.337729540  | 0.03429891    |  4.272813e-15 |\n",
       "| Year2015 |  0.01068974   | -0.059292531  |  0.080672014  | 0.03499114    |  7.599865e-01 |\n",
       "| Year2016 | -0.14377181   | -0.211582535  | -0.075961086  | 0.03390536    |  2.231361e-05 |\n",
       "| Year2017 | -0.06170149   | -0.121237998  | -0.002164987  | 0.02976825    |  3.819760e-02 |\n",
       "| Year2018 |  0.06516780   |  0.006046589  |  0.124289009  | 0.02956060    |  2.748577e-02 |\n",
       "| Year2020 |  0.25430394   | -0.023265555  |  0.531873437  | 0.13878475    |  6.689746e-02 |\n",
       "| Rating- | -0.26726609   | -0.445939525  | -0.088592651  | 0.08933672    |  2.774549e-03 |\n",
       "| RatingA | -0.07574991   | -0.145700502  | -0.005799316  | 0.03497530    |  3.032557e-02 |\n",
       "| RatingB | -0.12413334   | -0.178411316  | -0.069855364  | 0.02713899    |  4.785328e-06 |\n",
       "| RatingC | -0.07234543   | -0.115249051  | -0.029441803  | 0.02145181    |  7.449928e-04 |\n",
       "| RatingD | -0.07679214   | -0.115828283  | -0.037756000  | 0.01951807    |  8.340044e-05 |\n",
       "| RatingF |  0.06466873   |  0.021215322  |  0.108122133  | 0.02172670    |  2.915943e-03 |\n",
       "| RatingHR | -0.07357539   | -0.119530520  | -0.027620252  | 0.02297757    |  1.364519e-03 |\n",
       "| Rating2EE:600.0 |  0.19103762   |  0.138521241  |  0.243553999  | 0.02625819    |  3.455135e-13 |\n",
       "| Rating2EE:700.0 |  0.07368137   |  0.011238150  |  0.136124586  | 0.03122161    |  1.827751e-02 |\n",
       "| Rating2EE:800.0 |  0.06721281   |  0.018681731  |  0.115743890  | 0.02426554    |  5.607569e-03 |\n",
       "| Rating2EE:900.0 |  0.04565763   | -0.010220698  |  0.101535962  | 0.02793917    |  1.022210e-01 |\n",
       "| Rating2ES:A | -0.76558421   | -0.841347721  | -0.689820699  | 0.03788176    |  8.020794e-91 |\n",
       "| Rating2ES:B | -0.85490166   | -0.922566489  | -0.787236824  | 0.03383242    | 7.054181e-141 |\n",
       "| Rating2ES:C | -0.84911744   | -0.927435071  | -0.770799805  | 0.03915882    | 2.908792e-104 |\n",
       "| Rating2ES:D | -1.15815987   | -1.418113934  | -0.898205808  | 0.12997703    |  5.080458e-19 |\n",
       "| Rating2FI:RL1 | -0.40009355   | -0.485779912  | -0.314407178  | 0.04284318    |  9.765518e-21 |\n",
       "| Rating2FI:RL1x | -0.43962711   | -0.677816822  | -0.201437408  | 0.11909485    |  2.230203e-04 |\n",
       "| Rating2FI:RL2 | -0.31913102   | -0.376082636  | -0.262179394  | 0.02847581    |  3.763576e-29 |\n",
       "| Rating2FI:RL2x | -0.77520622   | -0.914734790  | -0.635677657  | 0.06976428    |  1.099306e-28 |\n",
       "| Rating2FI:RL3 | -0.36374619   | -0.485083011  | -0.242409359  | 0.06066841    |  2.026810e-09 |\n",
       "| ... | ... | ... | ... | ... | ... |\n",
       "| HomeOwnershipTypeLiving with parents | -0.11355747  | -0.14773040  | -0.079384552 | 0.01708646   | 3.010631e-11 |\n",
       "| HomeOwnershipTypeMortgage |  0.12978752  |  0.09315815  |  0.166416891 | 0.01831469   | 1.375190e-12 |\n",
       "| HomeOwnershipTypeOther | -0.28089498  | -0.36671757  | -0.195072392 | 0.04291130   | 5.912030e-11 |\n",
       "| HomeOwnershipTypeTenant | -0.23779139  | -0.26880771  | -0.206775062 | 0.01550816   | 4.580751e-53 |\n",
       "| ApplicationSignedHour |  0.01378141  | -0.02792348  |  0.055486310 | 0.02085245   | 5.086755e-01 |\n",
       "| ApplicationSignedWeekday |  0.02169768  | -0.01916516  |  0.062560522 | 0.02043142   | 2.882466e-01 |\n",
       "| EmploymentDurationCurrentEmployer- | -0.01731534  | -0.12217471  |  0.087544022 | 0.05242968   | 7.412047e-01 |\n",
       "| EmploymentDurationCurrentEmployer1- | -0.14604581  | -0.17988873  | -0.112202880 | 0.01692146   | 6.092293e-18 |\n",
       "| EmploymentDurationCurrentEmployer1-5, | -0.11687859  | -0.14417392  | -0.089583259 | 0.01364766   | 1.090184e-17 |\n",
       "| EmploymentDurationCurrentEmployerOther | -0.06392190  | -0.17352625  |  0.045682442 | 0.05480217   | 2.434480e-01 |\n",
       "| EmploymentDurationCurrentEmployerRetiree | -0.20097580  | -0.30642968  | -0.095521926 | 0.05272694   | 1.380511e-04 |\n",
       "| EmploymentDurationCurrentEmployerTrialPeriod | -0.03546492  | -0.13579219  |  0.064862354 | 0.05016363   | 4.795761e-01 |\n",
       "| LoanDuration | -0.35515795  | -0.41233898  | -0.297976916 | 0.02859052   | 1.979660e-35 |\n",
       "| Amount | -0.64270612  | -0.75147778  | -0.533934455 | 0.05438583   | 3.168699e-32 |\n",
       "| VerificationTypeIncome unverified | -0.14521995  | -0.17517487  | -0.115265034 | 0.01497746   | 3.138553e-22 |\n",
       "| VerificationTypeIncome verified | -0.08460346  | -0.12243407  | -0.046772852 | 0.01891530   | 7.721938e-06 |\n",
       "| IncomeTotal | -0.13625132  | -0.22532134  | -0.047181307 | 0.04453501   | 2.217656e-03 |\n",
       "| LiabilitiesTotal |  0.31602532  |  0.24441822  |  0.387632421 | 0.03580355   | 1.078598e-18 |\n",
       "| LiabilitiesToIncome |  0.01055264  | -0.05549908  |  0.076604372 | 0.03302586   | 7.493272e-01 |\n",
       "| LiabilitiesToIncomeUnknownTrue | -0.24764700  | -0.31553632  | -0.179757686 | 0.03394466   | 2.973081e-13 |\n",
       "| LoansToIncome | -1.38725426  | -1.57876837  | -1.195740142 | 0.09575706   | 1.459152e-47 |\n",
       "| PaymentToIncome | -0.14426118  | -0.25114152  | -0.037380848 | 0.05344017   | 6.944590e-03 |\n",
       "| ExistingLiabilities | -0.07828960  | -0.16169378  |  0.005114577 | 0.04170209   | 6.046953e-02 |\n",
       "| PreviousNumber_Intervals |  0.69971990  |  0.51160340  |  0.887836407 | 0.09405825   | 1.012825e-13 |\n",
       "| NoHistoryTrue | -0.45721730  | -0.54100798  | -0.373426629 | 0.04189534   | 9.955053e-28 |\n",
       "| PreviousNumber | -0.96790421  | -1.32605259  | -0.609755832 | 0.17907419   | 6.479180e-08 |\n",
       "| PreviousNumber_Current |  0.00537971  | -0.20707297  |  0.217832394 | 0.10622634   | 9.596093e-01 |\n",
       "| PreviousNumber_Default |  1.00701056  |  0.76798470  |  1.246036415 | 0.11951293   | 3.578196e-17 |\n",
       "| PreviousNumber_Repaid |  0.45337563  |  0.30530817  |  0.601443085 | 0.07403373   | 9.130859e-10 |\n",
       "| PreviousNumber_Rescheduled | -0.85748244  | -1.02382996  | -0.691134924 | 0.08317376   | 6.381201e-25 |\n",
       "\n"
      ],
      "text/plain": [
       "                                             Coef        (95%        \n",
       "Year2010                                      0.76760489  0.553537613\n",
       "Year2011                                      0.90241280  0.703324029\n",
       "Year2012                                      0.82186483  0.652212385\n",
       "Year2013                                      0.46596967  0.388504188\n",
       "Year2014                                      0.26913172  0.200533895\n",
       "Year2015                                      0.01068974 -0.059292531\n",
       "Year2016                                     -0.14377181 -0.211582535\n",
       "Year2017                                     -0.06170149 -0.121237998\n",
       "Year2018                                      0.06516780  0.006046589\n",
       "Year2020                                      0.25430394 -0.023265555\n",
       "Rating-                                      -0.26726609 -0.445939525\n",
       "RatingA                                      -0.07574991 -0.145700502\n",
       "RatingB                                      -0.12413334 -0.178411316\n",
       "RatingC                                      -0.07234543 -0.115249051\n",
       "RatingD                                      -0.07679214 -0.115828283\n",
       "RatingF                                       0.06466873  0.021215322\n",
       "RatingHR                                     -0.07357539 -0.119530520\n",
       "Rating2EE:600.0                               0.19103762  0.138521241\n",
       "Rating2EE:700.0                               0.07368137  0.011238150\n",
       "Rating2EE:800.0                               0.06721281  0.018681731\n",
       "Rating2EE:900.0                               0.04565763 -0.010220698\n",
       "Rating2ES:A                                  -0.76558421 -0.841347721\n",
       "Rating2ES:B                                  -0.85490166 -0.922566489\n",
       "Rating2ES:C                                  -0.84911744 -0.927435071\n",
       "Rating2ES:D                                  -1.15815987 -1.418113934\n",
       "Rating2FI:RL1                                -0.40009355 -0.485779912\n",
       "Rating2FI:RL1x                               -0.43962711 -0.677816822\n",
       "Rating2FI:RL2                                -0.31913102 -0.376082636\n",
       "Rating2FI:RL2x                               -0.77520622 -0.914734790\n",
       "Rating2FI:RL3                                -0.36374619 -0.485083011\n",
       "...                                          ...         ...         \n",
       "HomeOwnershipTypeLiving with parents         -0.11355747 -0.14773040 \n",
       "HomeOwnershipTypeMortgage                     0.12978752  0.09315815 \n",
       "HomeOwnershipTypeOther                       -0.28089498 -0.36671757 \n",
       "HomeOwnershipTypeTenant                      -0.23779139 -0.26880771 \n",
       "ApplicationSignedHour                         0.01378141 -0.02792348 \n",
       "ApplicationSignedWeekday                      0.02169768 -0.01916516 \n",
       "EmploymentDurationCurrentEmployer-           -0.01731534 -0.12217471 \n",
       "EmploymentDurationCurrentEmployer1-          -0.14604581 -0.17988873 \n",
       "EmploymentDurationCurrentEmployer1-5,        -0.11687859 -0.14417392 \n",
       "EmploymentDurationCurrentEmployerOther       -0.06392190 -0.17352625 \n",
       "EmploymentDurationCurrentEmployerRetiree     -0.20097580 -0.30642968 \n",
       "EmploymentDurationCurrentEmployerTrialPeriod -0.03546492 -0.13579219 \n",
       "LoanDuration                                 -0.35515795 -0.41233898 \n",
       "Amount                                       -0.64270612 -0.75147778 \n",
       "VerificationTypeIncome unverified            -0.14521995 -0.17517487 \n",
       "VerificationTypeIncome verified              -0.08460346 -0.12243407 \n",
       "IncomeTotal                                  -0.13625132 -0.22532134 \n",
       "LiabilitiesTotal                              0.31602532  0.24441822 \n",
       "LiabilitiesToIncome                           0.01055264 -0.05549908 \n",
       "LiabilitiesToIncomeUnknownTrue               -0.24764700 -0.31553632 \n",
       "LoansToIncome                                -1.38725426 -1.57876837 \n",
       "PaymentToIncome                              -0.14426118 -0.25114152 \n",
       "ExistingLiabilities                          -0.07828960 -0.16169378 \n",
       "PreviousNumber_Intervals                      0.69971990  0.51160340 \n",
       "NoHistoryTrue                                -0.45721730 -0.54100798 \n",
       "PreviousNumber                               -0.96790421 -1.32605259 \n",
       "PreviousNumber_Current                        0.00537971 -0.20707297 \n",
       "PreviousNumber_Default                        1.00701056  0.76798470 \n",
       "PreviousNumber_Repaid                         0.45337563  0.30530817 \n",
       "PreviousNumber_Rescheduled                   -0.85748244 -1.02382996 \n",
       "                                             CI)          SE        \n",
       "Year2010                                      0.981672171 0.10703364\n",
       "Year2011                                      1.101501566 0.09954438\n",
       "Year2012                                      0.991517282 0.08482622\n",
       "Year2013                                      0.543435153 0.03873274\n",
       "Year2014                                      0.337729540 0.03429891\n",
       "Year2015                                      0.080672014 0.03499114\n",
       "Year2016                                     -0.075961086 0.03390536\n",
       "Year2017                                     -0.002164987 0.02976825\n",
       "Year2018                                      0.124289009 0.02956060\n",
       "Year2020                                      0.531873437 0.13878475\n",
       "Rating-                                      -0.088592651 0.08933672\n",
       "RatingA                                      -0.005799316 0.03497530\n",
       "RatingB                                      -0.069855364 0.02713899\n",
       "RatingC                                      -0.029441803 0.02145181\n",
       "RatingD                                      -0.037756000 0.01951807\n",
       "RatingF                                       0.108122133 0.02172670\n",
       "RatingHR                                     -0.027620252 0.02297757\n",
       "Rating2EE:600.0                               0.243553999 0.02625819\n",
       "Rating2EE:700.0                               0.136124586 0.03122161\n",
       "Rating2EE:800.0                               0.115743890 0.02426554\n",
       "Rating2EE:900.0                               0.101535962 0.02793917\n",
       "Rating2ES:A                                  -0.689820699 0.03788176\n",
       "Rating2ES:B                                  -0.787236824 0.03383242\n",
       "Rating2ES:C                                  -0.770799805 0.03915882\n",
       "Rating2ES:D                                  -0.898205808 0.12997703\n",
       "Rating2FI:RL1                                -0.314407178 0.04284318\n",
       "Rating2FI:RL1x                               -0.201437408 0.11909485\n",
       "Rating2FI:RL2                                -0.262179394 0.02847581\n",
       "Rating2FI:RL2x                               -0.635677657 0.06976428\n",
       "Rating2FI:RL3                                -0.242409359 0.06066841\n",
       "...                                          ...          ...       \n",
       "HomeOwnershipTypeLiving with parents         -0.079384552 0.01708646\n",
       "HomeOwnershipTypeMortgage                     0.166416891 0.01831469\n",
       "HomeOwnershipTypeOther                       -0.195072392 0.04291130\n",
       "HomeOwnershipTypeTenant                      -0.206775062 0.01550816\n",
       "ApplicationSignedHour                         0.055486310 0.02085245\n",
       "ApplicationSignedWeekday                      0.062560522 0.02043142\n",
       "EmploymentDurationCurrentEmployer-            0.087544022 0.05242968\n",
       "EmploymentDurationCurrentEmployer1-          -0.112202880 0.01692146\n",
       "EmploymentDurationCurrentEmployer1-5,        -0.089583259 0.01364766\n",
       "EmploymentDurationCurrentEmployerOther        0.045682442 0.05480217\n",
       "EmploymentDurationCurrentEmployerRetiree     -0.095521926 0.05272694\n",
       "EmploymentDurationCurrentEmployerTrialPeriod  0.064862354 0.05016363\n",
       "LoanDuration                                 -0.297976916 0.02859052\n",
       "Amount                                       -0.533934455 0.05438583\n",
       "VerificationTypeIncome unverified            -0.115265034 0.01497746\n",
       "VerificationTypeIncome verified              -0.046772852 0.01891530\n",
       "IncomeTotal                                  -0.047181307 0.04453501\n",
       "LiabilitiesTotal                              0.387632421 0.03580355\n",
       "LiabilitiesToIncome                           0.076604372 0.03302586\n",
       "LiabilitiesToIncomeUnknownTrue               -0.179757686 0.03394466\n",
       "LoansToIncome                                -1.195740142 0.09575706\n",
       "PaymentToIncome                              -0.037380848 0.05344017\n",
       "ExistingLiabilities                           0.005114577 0.04170209\n",
       "PreviousNumber_Intervals                      0.887836407 0.09405825\n",
       "NoHistoryTrue                                -0.373426629 0.04189534\n",
       "PreviousNumber                               -0.609755832 0.17907419\n",
       "PreviousNumber_Current                        0.217832394 0.10622634\n",
       "PreviousNumber_Default                        1.246036415 0.11951293\n",
       "PreviousNumber_Repaid                         0.601443085 0.07403373\n",
       "PreviousNumber_Rescheduled                   -0.691134924 0.08317376\n",
       "                                             p            \n",
       "Year2010                                      7.411390e-13\n",
       "Year2011                                      1.241120e-19\n",
       "Year2012                                      3.364386e-22\n",
       "Year2013                                      2.460202e-33\n",
       "Year2014                                      4.272813e-15\n",
       "Year2015                                      7.599865e-01\n",
       "Year2016                                      2.231361e-05\n",
       "Year2017                                      3.819760e-02\n",
       "Year2018                                      2.748577e-02\n",
       "Year2020                                      6.689746e-02\n",
       "Rating-                                       2.774549e-03\n",
       "RatingA                                       3.032557e-02\n",
       "RatingB                                       4.785328e-06\n",
       "RatingC                                       7.449928e-04\n",
       "RatingD                                       8.340044e-05\n",
       "RatingF                                       2.915943e-03\n",
       "RatingHR                                      1.364519e-03\n",
       "Rating2EE:600.0                               3.455135e-13\n",
       "Rating2EE:700.0                               1.827751e-02\n",
       "Rating2EE:800.0                               5.607569e-03\n",
       "Rating2EE:900.0                               1.022210e-01\n",
       "Rating2ES:A                                   8.020794e-91\n",
       "Rating2ES:B                                  7.054181e-141\n",
       "Rating2ES:C                                  2.908792e-104\n",
       "Rating2ES:D                                   5.080458e-19\n",
       "Rating2FI:RL1                                 9.765518e-21\n",
       "Rating2FI:RL1x                                2.230203e-04\n",
       "Rating2FI:RL2                                 3.763576e-29\n",
       "Rating2FI:RL2x                                1.099306e-28\n",
       "Rating2FI:RL3                                 2.026810e-09\n",
       "...                                          ...          \n",
       "HomeOwnershipTypeLiving with parents         3.010631e-11 \n",
       "HomeOwnershipTypeMortgage                    1.375190e-12 \n",
       "HomeOwnershipTypeOther                       5.912030e-11 \n",
       "HomeOwnershipTypeTenant                      4.580751e-53 \n",
       "ApplicationSignedHour                        5.086755e-01 \n",
       "ApplicationSignedWeekday                     2.882466e-01 \n",
       "EmploymentDurationCurrentEmployer-           7.412047e-01 \n",
       "EmploymentDurationCurrentEmployer1-          6.092293e-18 \n",
       "EmploymentDurationCurrentEmployer1-5,        1.090184e-17 \n",
       "EmploymentDurationCurrentEmployerOther       2.434480e-01 \n",
       "EmploymentDurationCurrentEmployerRetiree     1.380511e-04 \n",
       "EmploymentDurationCurrentEmployerTrialPeriod 4.795761e-01 \n",
       "LoanDuration                                 1.979660e-35 \n",
       "Amount                                       3.168699e-32 \n",
       "VerificationTypeIncome unverified            3.138553e-22 \n",
       "VerificationTypeIncome verified              7.721938e-06 \n",
       "IncomeTotal                                  2.217656e-03 \n",
       "LiabilitiesTotal                             1.078598e-18 \n",
       "LiabilitiesToIncome                          7.493272e-01 \n",
       "LiabilitiesToIncomeUnknownTrue               2.973081e-13 \n",
       "LoansToIncome                                1.459152e-47 \n",
       "PaymentToIncome                              6.944590e-03 \n",
       "ExistingLiabilities                          6.046953e-02 \n",
       "PreviousNumber_Intervals                     1.012825e-13 \n",
       "NoHistoryTrue                                9.955053e-28 \n",
       "PreviousNumber                               6.479180e-08 \n",
       "PreviousNumber_Current                       9.596093e-01 \n",
       "PreviousNumber_Default                       3.578196e-17 \n",
       "PreviousNumber_Repaid                        9.130859e-10 \n",
       "PreviousNumber_Rescheduled                   6.381201e-25 "
      ]
     },
     "metadata": {},
     "output_type": "display_data"
    }
   ],
   "source": [
    "coefs = summary(fit)$mat\n",
    "coefs[61:nrow(coefs),]"
   ]
  },
  {
   "cell_type": "markdown",
   "metadata": {},
   "source": [
    "Lets again use the helper function to make some plots:"
   ]
  },
  {
   "cell_type": "code",
   "execution_count": 62,
   "metadata": {},
   "outputs": [],
   "source": [
    "coef <- add_label(fit)\n",
    "coef <- add_levels(df, coef)\n",
    "coef.list <- split(coef, coef$Term)"
   ]
  },
  {
   "cell_type": "markdown",
   "metadata": {},
   "source": [
    "It looks like 'Year' has a large effect on recoveries. The early loans have almost twice the recovery rate compared to loans in the past couple of years:"
   ]
  },
  {
   "cell_type": "code",
   "execution_count": 63,
   "metadata": {},
   "outputs": [
    {
     "name": "stderr",
     "output_type": "stream",
     "text": [
      "Warning message:\n",
      "\"Removed 1 rows containing missing values (geom_errorbar).\""
     ]
    },
    {
     "data": {
      "image/png": "[encoded data removed]",
      "text/plain": [
       "plot without title"
      ]
     },
     "metadata": {},
     "output_type": "display_data"
    }
   ],
   "source": [
    "plot_oddsratio(coef.list[['Year']])"
   ]
  },
  {
   "cell_type": "markdown",
   "metadata": {},
   "source": [
    "The 'Rating2' feature that combined 'Country':'Credit Rating' indicates that some countries (ES, FI, SK) have significantly lower recoveries, and there is a small effect of credit worthiness on the recoveries: "
   ]
  },
  {
   "cell_type": "code",
   "execution_count": 64,
   "metadata": {},
   "outputs": [
    {
     "name": "stderr",
     "output_type": "stream",
     "text": [
      "Warning message:\n",
      "\"Removed 1 rows containing missing values (geom_errorbar).\""
     ]
    },
    {
     "data": {
      "image/png": "[encoded data removed]",
      "text/plain": [
       "plot without title"
      ]
     },
     "metadata": {},
     "output_type": "display_data"
    }
   ],
   "source": [
    "plot_oddsratio(coef.list[['Rating2']])"
   ]
  },
  {
   "cell_type": "markdown",
   "metadata": {},
   "source": [
    "## Conclusion"
   ]
  },
  {
   "cell_type": "markdown",
   "metadata": {},
   "source": [
    "R is an alternative programming language to implement the models. It has two main benefits: the models can be implemented without regularization (unbiased interpretation of coefficients) and the least squares regression can use a log-link (recovery rates are always positive)."
   ]
  }
 ],
 "metadata": {
  "kernelspec": {
   "display_name": "R",
   "language": "R",
   "name": "ir"
  },
  "language_info": {
   "codemirror_mode": "r",
   "file_extension": ".r",
   "mimetype": "text/x-r-source",
   "name": "R",
   "pygments_lexer": "r",
   "version": "3.6.1"
  }
 },
 "nbformat": 4,
 "nbformat_minor": 2
}

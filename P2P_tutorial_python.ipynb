{
 "cells": [
  {
   "cell_type": "markdown",
   "metadata": {},
   "source": [
    "# P2P Lending Profit\n",
    "<i> Authors: Markus Viljanen </i>"
   ]
  },
  {
   "cell_type": "markdown",
   "metadata": {},
   "source": [
    "In this notebook, we explain how it is possible to predict the profits of censored peer-to-peer (P2P) loans. \n",
    "\n",
    "First, we illustrate the problem by visualizing monthly payments in loans. We use the standard approach in finance, known as the discounted cashflow (DCF) analysis, to calculate the profit from these payments. See for example https://en.wikipedia.org/wiki/Discounted_cash_flow. The problem therefore becomes to predict these payments.\n",
    "\n",
    "We then describe the following models for this purpose:\n",
    "1. Default model: predicts the monthly default rate of each loan.\n",
    "2. Loss Given Default model: predicts the monthly recoveries in each loan if a loan defaults.\n",
    "3. Profit model: uses the 'Default' and 'Loss Given Default' models to predict the monthly payments.\n",
    "\n",
    "Given monthly loan payments $P_1, P_2, P_3, ...$, the DCF analysis calculates the present value of these payments given a monthly discount rate $i$:\n",
    "\n",
    "$$ \\text{PV}(i) = \\sum_{t=1}^{\\infty} \\frac{P_t}{(1+i)^t}$$\n",
    "\n",
    "Now if the loan amount is $M$, the monthly profit is simply the discount rate that makes the present value of monthly payments equal to the loan amount:\n",
    "\n",
    "$$ M = \\text{arg}_i \\text{PV}(i)$$\n",
    "\n",
    "The following code returns the profit given a vector of monthly payments, for example:"
   ]
  },
  {
   "cell_type": "code",
   "execution_count": 4,
   "metadata": {},
   "outputs": [],
   "source": [
    "from scipy.optimize import bisect\n",
    "\n",
    "def calculate_profit(cashflow):\n",
    "    t = np.arange(len(cashflow)) + 1\n",
    "    dcf = lambda i: (cashflow / (1 + i) ** t).sum() - 1\n",
    "    profit_m = bisect(dcf, -0.999, 10.00, maxiter=3000) if dcf(-0.999) > 0 else -1.00\n",
    "    profit_y = (1 + profit_m) ** 12 - 1\n",
    "    return profit_y"
   ]
  },
  {
   "cell_type": "markdown",
   "metadata": {},
   "source": [
    "## Imports"
   ]
  },
  {
   "cell_type": "markdown",
   "metadata": {},
   "source": [
    "These are the standard imports, extra imports, and imports from our package:"
   ]
  },
  {
   "cell_type": "code",
   "execution_count": 3,
   "metadata": {},
   "outputs": [],
   "source": [
    "import numpy as np\n",
    "import pandas as pd\n",
    "import matplotlib.pyplot as plt"
   ]
  },
  {
   "cell_type": "code",
   "execution_count": 4,
   "metadata": {},
   "outputs": [],
   "source": [
    "from collections import OrderedDict\n",
    "from sklearn.model_selection import ShuffleSplit\n",
    "from ipywidgets import interact, interact_manual"
   ]
  },
  {
   "cell_type": "code",
   "execution_count": 18,
   "metadata": {},
   "outputs": [],
   "source": [
    "from models import DefaultModel, LGDModel, ProfitModel\n",
    "from visualizations import plot_payments, plot_models"
   ]
  },
  {
   "cell_type": "markdown",
   "metadata": {},
   "source": [
    "## Data set"
   ]
  },
  {
   "cell_type": "markdown",
   "metadata": {},
   "source": [
    "We use a publically available data set from Bondora (https://www.bondora.com/public-reports). \n",
    "\n",
    "The following code can be used to download and process the data (takes a while):"
   ]
  },
  {
   "cell_type": "code",
   "execution_count": null,
   "metadata": {},
   "outputs": [],
   "source": [
    "from process_userhistory import process_start as process_1\n",
    "from process_features import process_start as process_2\n",
    "from process_output import process_start as process_3\n",
    "\n",
    "print('Downloading...')\n",
    "opener = request.build_opener()\n",
    "opener.addheaders = [('User-agent', 'cashmoney')]\n",
    "request.install_opener(opener)\n",
    "request.urlretrieve('https://www.bondora.com/marketing/media/LoanData.zip', 'datas/LoanData.zip')\n",
    "request.urlretrieve('https://www.bondora.com/marketing/media/RepaymentsData.zip', 'datas/RepaymentsData.zip')\n",
    "\n",
    "print('Unzipping...')\n",
    "with zipfile.ZipFile(\"datas/LoanData.zip\", \"r\") as zip_ref: zip_ref.extractall(\"datas/\")\n",
    "with zipfile.ZipFile(\"datas/RepaymentsData.zip\", \"r\") as zip_ref: zip_ref.extractall(\"datas/\")\n",
    "\n",
    "print('Processing...')\n",
    "process_1(verbose=False) #LoanData.csv => UserHistories.csv\n",
    "process_2(verbose=False) #LoanData.csv, UserHistories.csv => LoanData2.csv\n",
    "process_3(verbose=False) #LoanData.csv, RepaymentsData.csv => df_Y.csv, df_R.csv, df_M.csv"
   ]
  },
  {
   "cell_type": "markdown",
   "metadata": {},
   "source": [
    "The data set is processed into the following files: \n",
    "* LoanData2.csv\n",
    "* df_Y.csv\n",
    "* df_R.csv\n",
    "* df_M.csv"
   ]
  },
  {
   "cell_type": "markdown",
   "metadata": {},
   "source": [
    "The 'LoanData2.csv' file describes the loans. Each loan is identified by a 'LoanId' and additional columns that describe the features of that loan:"
   ]
  },
  {
   "cell_type": "code",
   "execution_count": 5,
   "metadata": {},
   "outputs": [
    {
     "data": {
      "text/html": [
       "<div>\n",
       "<style scoped>\n",
       "    .dataframe tbody tr th:only-of-type {\n",
       "        vertical-align: middle;\n",
       "    }\n",
       "\n",
       "    .dataframe tbody tr th {\n",
       "        vertical-align: top;\n",
       "    }\n",
       "\n",
       "    .dataframe thead th {\n",
       "        text-align: right;\n",
       "    }\n",
       "</style>\n",
       "<table border=\"1\" class=\"dataframe\">\n",
       "  <thead>\n",
       "    <tr style=\"text-align: right;\">\n",
       "      <th></th>\n",
       "      <th>LoanId</th>\n",
       "      <th>Interest</th>\n",
       "      <th>Year</th>\n",
       "      <th>Rating</th>\n",
       "      <th>LoansToIncome</th>\n",
       "    </tr>\n",
       "  </thead>\n",
       "  <tbody>\n",
       "    <tr>\n",
       "      <th>0</th>\n",
       "      <td>66AE108B-532B-4BB3-BAB7-0019A46412C1</td>\n",
       "      <td>20.97</td>\n",
       "      <td>2016</td>\n",
       "      <td>C</td>\n",
       "      <td>1.412429</td>\n",
       "    </tr>\n",
       "    <tr>\n",
       "      <th>1</th>\n",
       "      <td>D152382E-A50D-46ED-8FF2-0053E0C86A70</td>\n",
       "      <td>17.12</td>\n",
       "      <td>2015</td>\n",
       "      <td>B</td>\n",
       "      <td>2.000000</td>\n",
       "    </tr>\n",
       "    <tr>\n",
       "      <th>2</th>\n",
       "      <td>87342E13-66CB-483F-833A-007953E50C78</td>\n",
       "      <td>13.67</td>\n",
       "      <td>2016</td>\n",
       "      <td>A</td>\n",
       "      <td>0.000000</td>\n",
       "    </tr>\n",
       "    <tr>\n",
       "      <th>3</th>\n",
       "      <td>87227056-6BF9-410C-98D1-008F788E122A</td>\n",
       "      <td>40.40</td>\n",
       "      <td>2015</td>\n",
       "      <td>F</td>\n",
       "      <td>0.000000</td>\n",
       "    </tr>\n",
       "    <tr>\n",
       "      <th>4</th>\n",
       "      <td>2DDE6336-E466-4624-A337-00A0ED1A1468</td>\n",
       "      <td>68.39</td>\n",
       "      <td>2015</td>\n",
       "      <td>HR</td>\n",
       "      <td>0.000000</td>\n",
       "    </tr>\n",
       "  </tbody>\n",
       "</table>\n",
       "</div>"
      ],
      "text/plain": [
       "                                 LoanId  Interest  Year Rating  LoansToIncome\n",
       "0  66AE108B-532B-4BB3-BAB7-0019A46412C1     20.97  2016      C       1.412429\n",
       "1  D152382E-A50D-46ED-8FF2-0053E0C86A70     17.12  2015      B       2.000000\n",
       "2  87342E13-66CB-483F-833A-007953E50C78     13.67  2016      A       0.000000\n",
       "3  87227056-6BF9-410C-98D1-008F788E122A     40.40  2015      F       0.000000\n",
       "4  2DDE6336-E466-4624-A337-00A0ED1A1468     68.39  2015     HR       0.000000"
      ]
     },
     "execution_count": 5,
     "metadata": {},
     "output_type": "execute_result"
    }
   ],
   "source": [
    "loans = pd.read_csv('datas/LoanData2.csv')\n",
    "loans[['LoanId', 'Interest', 'Year', 'Rating', 'LoansToIncome']].head()"
   ]
  },
  {
   "cell_type": "markdown",
   "metadata": {},
   "source": [
    "The 'df_M.csv' file describes the monthly payments. We analyze the problem as if 1€ is invested in each loan to make the loans comparable. Each row describes the loan 'LoanId', month 'T', and monthly payment 'Y':"
   ]
  },
  {
   "cell_type": "code",
   "execution_count": 6,
   "metadata": {},
   "outputs": [
    {
     "data": {
      "text/html": [
       "<div>\n",
       "<style scoped>\n",
       "    .dataframe tbody tr th:only-of-type {\n",
       "        vertical-align: middle;\n",
       "    }\n",
       "\n",
       "    .dataframe tbody tr th {\n",
       "        vertical-align: top;\n",
       "    }\n",
       "\n",
       "    .dataframe thead th {\n",
       "        text-align: right;\n",
       "    }\n",
       "</style>\n",
       "<table border=\"1\" class=\"dataframe\">\n",
       "  <thead>\n",
       "    <tr style=\"text-align: right;\">\n",
       "      <th></th>\n",
       "      <th>LoanId</th>\n",
       "      <th>T</th>\n",
       "      <th>Y</th>\n",
       "    </tr>\n",
       "  </thead>\n",
       "  <tbody>\n",
       "    <tr>\n",
       "      <th>0</th>\n",
       "      <td>66AE108B-532B-4BB3-BAB7-0019A46412C1</td>\n",
       "      <td>1</td>\n",
       "      <td>0.038696</td>\n",
       "    </tr>\n",
       "    <tr>\n",
       "      <th>1</th>\n",
       "      <td>66AE108B-532B-4BB3-BAB7-0019A46412C1</td>\n",
       "      <td>2</td>\n",
       "      <td>0.027012</td>\n",
       "    </tr>\n",
       "    <tr>\n",
       "      <th>2</th>\n",
       "      <td>66AE108B-532B-4BB3-BAB7-0019A46412C1</td>\n",
       "      <td>3</td>\n",
       "      <td>0.027045</td>\n",
       "    </tr>\n",
       "    <tr>\n",
       "      <th>3</th>\n",
       "      <td>66AE108B-532B-4BB3-BAB7-0019A46412C1</td>\n",
       "      <td>4</td>\n",
       "      <td>0.027049</td>\n",
       "    </tr>\n",
       "    <tr>\n",
       "      <th>4</th>\n",
       "      <td>66AE108B-532B-4BB3-BAB7-0019A46412C1</td>\n",
       "      <td>5</td>\n",
       "      <td>0.027002</td>\n",
       "    </tr>\n",
       "  </tbody>\n",
       "</table>\n",
       "</div>"
      ],
      "text/plain": [
       "                                 LoanId  T         Y\n",
       "0  66AE108B-532B-4BB3-BAB7-0019A46412C1  1  0.038696\n",
       "1  66AE108B-532B-4BB3-BAB7-0019A46412C1  2  0.027012\n",
       "2  66AE108B-532B-4BB3-BAB7-0019A46412C1  3  0.027045\n",
       "3  66AE108B-532B-4BB3-BAB7-0019A46412C1  4  0.027049\n",
       "4  66AE108B-532B-4BB3-BAB7-0019A46412C1  5  0.027002"
      ]
     },
     "execution_count": 6,
     "metadata": {},
     "output_type": "execute_result"
    }
   ],
   "source": [
    "payments = pd.read_csv('datas/df_M.csv')\n",
    "payments = loans[['LoanId', 'Amount']].merge(payments)\n",
    "payments['Y'] = payments['M'] / payments['Amount']\n",
    "payments[['LoanId', 'T', 'Y']].head()"
   ]
  },
  {
   "cell_type": "markdown",
   "metadata": {},
   "source": [
    "The 'df_Y.csv' file describes the monthly defaults. We denote 0: 'loan did not default' and 1: 'loan defaulted' in each monthly interval up to the default (1) / repaid (0) / followup (0) time. Each row describes the loan 'LoanId', month 'T', and default indicator 'Y':"
   ]
  },
  {
   "cell_type": "code",
   "execution_count": 7,
   "metadata": {},
   "outputs": [
    {
     "data": {
      "text/html": [
       "<div>\n",
       "<style scoped>\n",
       "    .dataframe tbody tr th:only-of-type {\n",
       "        vertical-align: middle;\n",
       "    }\n",
       "\n",
       "    .dataframe tbody tr th {\n",
       "        vertical-align: top;\n",
       "    }\n",
       "\n",
       "    .dataframe thead th {\n",
       "        text-align: right;\n",
       "    }\n",
       "</style>\n",
       "<table border=\"1\" class=\"dataframe\">\n",
       "  <thead>\n",
       "    <tr style=\"text-align: right;\">\n",
       "      <th></th>\n",
       "      <th>LoanId</th>\n",
       "      <th>T</th>\n",
       "      <th>Y</th>\n",
       "    </tr>\n",
       "  </thead>\n",
       "  <tbody>\n",
       "    <tr>\n",
       "      <th>0</th>\n",
       "      <td>66AE108B-532B-4BB3-BAB7-0019A46412C1</td>\n",
       "      <td>1</td>\n",
       "      <td>0</td>\n",
       "    </tr>\n",
       "    <tr>\n",
       "      <th>1</th>\n",
       "      <td>66AE108B-532B-4BB3-BAB7-0019A46412C1</td>\n",
       "      <td>2</td>\n",
       "      <td>0</td>\n",
       "    </tr>\n",
       "    <tr>\n",
       "      <th>2</th>\n",
       "      <td>66AE108B-532B-4BB3-BAB7-0019A46412C1</td>\n",
       "      <td>3</td>\n",
       "      <td>0</td>\n",
       "    </tr>\n",
       "    <tr>\n",
       "      <th>3</th>\n",
       "      <td>66AE108B-532B-4BB3-BAB7-0019A46412C1</td>\n",
       "      <td>4</td>\n",
       "      <td>0</td>\n",
       "    </tr>\n",
       "    <tr>\n",
       "      <th>4</th>\n",
       "      <td>66AE108B-532B-4BB3-BAB7-0019A46412C1</td>\n",
       "      <td>5</td>\n",
       "      <td>0</td>\n",
       "    </tr>\n",
       "  </tbody>\n",
       "</table>\n",
       "</div>"
      ],
      "text/plain": [
       "                                 LoanId  T  Y\n",
       "0  66AE108B-532B-4BB3-BAB7-0019A46412C1  1  0\n",
       "1  66AE108B-532B-4BB3-BAB7-0019A46412C1  2  0\n",
       "2  66AE108B-532B-4BB3-BAB7-0019A46412C1  3  0\n",
       "3  66AE108B-532B-4BB3-BAB7-0019A46412C1  4  0\n",
       "4  66AE108B-532B-4BB3-BAB7-0019A46412C1  5  0"
      ]
     },
     "execution_count": 7,
     "metadata": {},
     "output_type": "execute_result"
    }
   ],
   "source": [
    "intervals = pd.read_csv('datas/df_Y.csv')\n",
    "intervals[['LoanId', 'T', 'Y']].head()"
   ]
  },
  {
   "cell_type": "markdown",
   "metadata": {},
   "source": [
    "The 'df_R.csv' file describes the monthly recoveries in defaulted loans. We calculate the recoveries as percentage of remaining principal (Exposure at Default or EAD) recovered in each subsequent month after a default. Each row describes the loan 'LoanId', month 'T', and recovery percentage 'Y':"
   ]
  },
  {
   "cell_type": "code",
   "execution_count": 8,
   "metadata": {},
   "outputs": [
    {
     "data": {
      "text/html": [
       "<div>\n",
       "<style scoped>\n",
       "    .dataframe tbody tr th:only-of-type {\n",
       "        vertical-align: middle;\n",
       "    }\n",
       "\n",
       "    .dataframe tbody tr th {\n",
       "        vertical-align: top;\n",
       "    }\n",
       "\n",
       "    .dataframe thead th {\n",
       "        text-align: right;\n",
       "    }\n",
       "</style>\n",
       "<table border=\"1\" class=\"dataframe\">\n",
       "  <thead>\n",
       "    <tr style=\"text-align: right;\">\n",
       "      <th></th>\n",
       "      <th>LoanId</th>\n",
       "      <th>T</th>\n",
       "      <th>Y</th>\n",
       "    </tr>\n",
       "  </thead>\n",
       "  <tbody>\n",
       "    <tr>\n",
       "      <th>0</th>\n",
       "      <td>66AE108B-532B-4BB3-BAB7-0019A46412C1</td>\n",
       "      <td>1</td>\n",
       "      <td>0.000000</td>\n",
       "    </tr>\n",
       "    <tr>\n",
       "      <th>1</th>\n",
       "      <td>66AE108B-532B-4BB3-BAB7-0019A46412C1</td>\n",
       "      <td>2</td>\n",
       "      <td>0.000000</td>\n",
       "    </tr>\n",
       "    <tr>\n",
       "      <th>2</th>\n",
       "      <td>66AE108B-532B-4BB3-BAB7-0019A46412C1</td>\n",
       "      <td>3</td>\n",
       "      <td>0.000000</td>\n",
       "    </tr>\n",
       "    <tr>\n",
       "      <th>3</th>\n",
       "      <td>66AE108B-532B-4BB3-BAB7-0019A46412C1</td>\n",
       "      <td>4</td>\n",
       "      <td>0.046606</td>\n",
       "    </tr>\n",
       "    <tr>\n",
       "      <th>4</th>\n",
       "      <td>66AE108B-532B-4BB3-BAB7-0019A46412C1</td>\n",
       "      <td>5</td>\n",
       "      <td>0.000000</td>\n",
       "    </tr>\n",
       "  </tbody>\n",
       "</table>\n",
       "</div>"
      ],
      "text/plain": [
       "                                 LoanId  T         Y\n",
       "0  66AE108B-532B-4BB3-BAB7-0019A46412C1  1  0.000000\n",
       "1  66AE108B-532B-4BB3-BAB7-0019A46412C1  2  0.000000\n",
       "2  66AE108B-532B-4BB3-BAB7-0019A46412C1  3  0.000000\n",
       "3  66AE108B-532B-4BB3-BAB7-0019A46412C1  4  0.046606\n",
       "4  66AE108B-532B-4BB3-BAB7-0019A46412C1  5  0.000000"
      ]
     },
     "execution_count": 8,
     "metadata": {},
     "output_type": "execute_result"
    }
   ],
   "source": [
    "residuals = pd.read_csv('datas/df_R.csv')\n",
    "residuals[['LoanId', 'T', 'Y']].head()"
   ]
  },
  {
   "cell_type": "markdown",
   "metadata": {},
   "source": [
    "## Why is censoring a big problem?"
   ]
  },
  {
   "cell_type": "markdown",
   "metadata": {},
   "source": [
    "### Example 1: Payments in non-censored loans"
   ]
  },
  {
   "cell_type": "markdown",
   "metadata": {},
   "source": [
    "First, lets go way back and look at 100 random loans of 2 years duration that were made 10 years ago:"
   ]
  },
  {
   "cell_type": "code",
   "execution_count": 9,
   "metadata": {},
   "outputs": [],
   "source": [
    "subset = loans.loc[(loans['LoanDuration'] == 24) & (loans['Year'] == 2010), 'LoanId']\n",
    "subset = np.random.choice(subset, 100, replace=False)"
   ]
  },
  {
   "cell_type": "markdown",
   "metadata": {},
   "source": [
    "We then visualize the data. It can be seen that many loans are repaid within the 2 years, but if a loan defaults and we extract recovery payments they can happen many years after. However, waiting for 10 years to gather a complete data set of payment histories seems probably sufficient in practise:"
   ]
  },
  {
   "cell_type": "code",
   "execution_count": 10,
   "metadata": {},
   "outputs": [
    {
     "data": {
      "image/png": "[encoded data removed]",
      "text/plain": [
       "<Figure size 432x288 with 2 Axes>"
      ]
     },
     "metadata": {
      "needs_background": "light"
     },
     "output_type": "display_data"
    }
   ],
   "source": [
    "plot_payments(payments[payments['LoanId'].isin(subset)], followup=False)"
   ]
  },
  {
   "cell_type": "markdown",
   "metadata": {},
   "source": [
    "The payments in each loan look like this:"
   ]
  },
  {
   "cell_type": "code",
   "execution_count": 11,
   "metadata": {},
   "outputs": [
    {
     "data": {
      "text/html": [
       "<div>\n",
       "<style scoped>\n",
       "    .dataframe tbody tr th:only-of-type {\n",
       "        vertical-align: middle;\n",
       "    }\n",
       "\n",
       "    .dataframe tbody tr th {\n",
       "        vertical-align: top;\n",
       "    }\n",
       "\n",
       "    .dataframe thead th {\n",
       "        text-align: right;\n",
       "    }\n",
       "</style>\n",
       "<table border=\"1\" class=\"dataframe\">\n",
       "  <thead>\n",
       "    <tr style=\"text-align: right;\">\n",
       "      <th>T</th>\n",
       "      <th>1</th>\n",
       "      <th>2</th>\n",
       "      <th>3</th>\n",
       "      <th>4</th>\n",
       "      <th>5</th>\n",
       "      <th>6</th>\n",
       "      <th>7</th>\n",
       "      <th>8</th>\n",
       "      <th>9</th>\n",
       "      <th>10</th>\n",
       "      <th>...</th>\n",
       "      <th>111</th>\n",
       "      <th>112</th>\n",
       "      <th>113</th>\n",
       "      <th>114</th>\n",
       "      <th>115</th>\n",
       "      <th>116</th>\n",
       "      <th>117</th>\n",
       "      <th>118</th>\n",
       "      <th>119</th>\n",
       "      <th>120</th>\n",
       "    </tr>\n",
       "    <tr>\n",
       "      <th>LoanId</th>\n",
       "      <th></th>\n",
       "      <th></th>\n",
       "      <th></th>\n",
       "      <th></th>\n",
       "      <th></th>\n",
       "      <th></th>\n",
       "      <th></th>\n",
       "      <th></th>\n",
       "      <th></th>\n",
       "      <th></th>\n",
       "      <th></th>\n",
       "      <th></th>\n",
       "      <th></th>\n",
       "      <th></th>\n",
       "      <th></th>\n",
       "      <th></th>\n",
       "      <th></th>\n",
       "      <th></th>\n",
       "      <th></th>\n",
       "      <th></th>\n",
       "      <th></th>\n",
       "    </tr>\n",
       "  </thead>\n",
       "  <tbody>\n",
       "    <tr>\n",
       "      <th>0E63D66C-0963-485B-9C15-9E02009AB2C1</th>\n",
       "      <td>0.07</td>\n",
       "      <td>0.06</td>\n",
       "      <td>0.00</td>\n",
       "      <td>0.12</td>\n",
       "      <td>0.00</td>\n",
       "      <td>0.12</td>\n",
       "      <td>0.06</td>\n",
       "      <td>0.06</td>\n",
       "      <td>0.06</td>\n",
       "      <td>0.06</td>\n",
       "      <td>...</td>\n",
       "      <td>0.0</td>\n",
       "      <td>0.0</td>\n",
       "      <td>0.0</td>\n",
       "      <td>0.0</td>\n",
       "      <td>0.0</td>\n",
       "      <td>0.0</td>\n",
       "      <td>0.0</td>\n",
       "      <td>0.0</td>\n",
       "      <td>NaN</td>\n",
       "      <td>NaN</td>\n",
       "    </tr>\n",
       "    <tr>\n",
       "      <th>11134018-F3B9-465A-8737-9D590135DF0F</th>\n",
       "      <td>0.01</td>\n",
       "      <td>0.05</td>\n",
       "      <td>0.05</td>\n",
       "      <td>0.00</td>\n",
       "      <td>0.12</td>\n",
       "      <td>0.05</td>\n",
       "      <td>0.05</td>\n",
       "      <td>0.05</td>\n",
       "      <td>0.06</td>\n",
       "      <td>0.05</td>\n",
       "      <td>...</td>\n",
       "      <td>0.0</td>\n",
       "      <td>0.0</td>\n",
       "      <td>0.0</td>\n",
       "      <td>0.0</td>\n",
       "      <td>0.0</td>\n",
       "      <td>0.0</td>\n",
       "      <td>0.0</td>\n",
       "      <td>0.0</td>\n",
       "      <td>0.0</td>\n",
       "      <td>0.0</td>\n",
       "    </tr>\n",
       "    <tr>\n",
       "      <th>11AE9FBA-DA99-430C-A96D-9D460158C71B</th>\n",
       "      <td>0.06</td>\n",
       "      <td>0.05</td>\n",
       "      <td>0.05</td>\n",
       "      <td>0.05</td>\n",
       "      <td>0.05</td>\n",
       "      <td>0.05</td>\n",
       "      <td>0.80</td>\n",
       "      <td>0.00</td>\n",
       "      <td>0.00</td>\n",
       "      <td>0.00</td>\n",
       "      <td>...</td>\n",
       "      <td>0.0</td>\n",
       "      <td>0.0</td>\n",
       "      <td>0.0</td>\n",
       "      <td>0.0</td>\n",
       "      <td>0.0</td>\n",
       "      <td>0.0</td>\n",
       "      <td>0.0</td>\n",
       "      <td>0.0</td>\n",
       "      <td>0.0</td>\n",
       "      <td>0.0</td>\n",
       "    </tr>\n",
       "    <tr>\n",
       "      <th>12E90CB0-B420-4C65-B8C6-9D1D01103508</th>\n",
       "      <td>0.06</td>\n",
       "      <td>0.10</td>\n",
       "      <td>0.05</td>\n",
       "      <td>0.01</td>\n",
       "      <td>0.05</td>\n",
       "      <td>0.05</td>\n",
       "      <td>0.05</td>\n",
       "      <td>0.05</td>\n",
       "      <td>0.06</td>\n",
       "      <td>0.10</td>\n",
       "      <td>...</td>\n",
       "      <td>0.0</td>\n",
       "      <td>0.0</td>\n",
       "      <td>0.0</td>\n",
       "      <td>0.0</td>\n",
       "      <td>0.0</td>\n",
       "      <td>0.0</td>\n",
       "      <td>0.0</td>\n",
       "      <td>0.0</td>\n",
       "      <td>0.0</td>\n",
       "      <td>0.0</td>\n",
       "    </tr>\n",
       "    <tr>\n",
       "      <th>17053D5D-02E4-48F8-A416-9D2200F79DF3</th>\n",
       "      <td>0.06</td>\n",
       "      <td>0.05</td>\n",
       "      <td>0.05</td>\n",
       "      <td>0.05</td>\n",
       "      <td>0.05</td>\n",
       "      <td>0.05</td>\n",
       "      <td>0.05</td>\n",
       "      <td>0.05</td>\n",
       "      <td>0.05</td>\n",
       "      <td>0.05</td>\n",
       "      <td>...</td>\n",
       "      <td>0.0</td>\n",
       "      <td>0.0</td>\n",
       "      <td>0.0</td>\n",
       "      <td>0.0</td>\n",
       "      <td>0.0</td>\n",
       "      <td>0.0</td>\n",
       "      <td>0.0</td>\n",
       "      <td>0.0</td>\n",
       "      <td>0.0</td>\n",
       "      <td>0.0</td>\n",
       "    </tr>\n",
       "    <tr>\n",
       "      <th>1B34092E-1C67-42A4-AC72-9E5101806A08</th>\n",
       "      <td>0.09</td>\n",
       "      <td>0.06</td>\n",
       "      <td>0.00</td>\n",
       "      <td>0.12</td>\n",
       "      <td>0.00</td>\n",
       "      <td>0.12</td>\n",
       "      <td>0.06</td>\n",
       "      <td>0.00</td>\n",
       "      <td>0.12</td>\n",
       "      <td>0.06</td>\n",
       "      <td>...</td>\n",
       "      <td>0.0</td>\n",
       "      <td>0.0</td>\n",
       "      <td>0.0</td>\n",
       "      <td>0.0</td>\n",
       "      <td>NaN</td>\n",
       "      <td>NaN</td>\n",
       "      <td>NaN</td>\n",
       "      <td>NaN</td>\n",
       "      <td>NaN</td>\n",
       "      <td>NaN</td>\n",
       "    </tr>\n",
       "    <tr>\n",
       "      <th>1B3FCB72-2D67-4B43-92E3-9DE3015ADFFA</th>\n",
       "      <td>0.00</td>\n",
       "      <td>0.11</td>\n",
       "      <td>0.05</td>\n",
       "      <td>0.05</td>\n",
       "      <td>0.04</td>\n",
       "      <td>0.02</td>\n",
       "      <td>0.00</td>\n",
       "      <td>0.01</td>\n",
       "      <td>0.00</td>\n",
       "      <td>0.00</td>\n",
       "      <td>...</td>\n",
       "      <td>0.0</td>\n",
       "      <td>0.0</td>\n",
       "      <td>0.0</td>\n",
       "      <td>0.0</td>\n",
       "      <td>0.0</td>\n",
       "      <td>0.0</td>\n",
       "      <td>0.0</td>\n",
       "      <td>0.0</td>\n",
       "      <td>0.0</td>\n",
       "      <td>NaN</td>\n",
       "    </tr>\n",
       "    <tr>\n",
       "      <th>1B6F9FA2-D6D8-46B1-B3D4-9D5F00BB005F</th>\n",
       "      <td>0.07</td>\n",
       "      <td>0.06</td>\n",
       "      <td>0.06</td>\n",
       "      <td>0.06</td>\n",
       "      <td>0.06</td>\n",
       "      <td>0.06</td>\n",
       "      <td>0.01</td>\n",
       "      <td>0.11</td>\n",
       "      <td>0.00</td>\n",
       "      <td>0.06</td>\n",
       "      <td>...</td>\n",
       "      <td>0.0</td>\n",
       "      <td>0.0</td>\n",
       "      <td>0.0</td>\n",
       "      <td>0.0</td>\n",
       "      <td>0.0</td>\n",
       "      <td>0.0</td>\n",
       "      <td>0.0</td>\n",
       "      <td>0.0</td>\n",
       "      <td>0.0</td>\n",
       "      <td>0.0</td>\n",
       "    </tr>\n",
       "    <tr>\n",
       "      <th>1C9F4008-8AFA-4343-B4AA-9D1E00FAC8D0</th>\n",
       "      <td>0.03</td>\n",
       "      <td>0.09</td>\n",
       "      <td>0.05</td>\n",
       "      <td>0.05</td>\n",
       "      <td>0.05</td>\n",
       "      <td>0.05</td>\n",
       "      <td>0.05</td>\n",
       "      <td>0.05</td>\n",
       "      <td>0.05</td>\n",
       "      <td>0.05</td>\n",
       "      <td>...</td>\n",
       "      <td>0.0</td>\n",
       "      <td>0.0</td>\n",
       "      <td>0.0</td>\n",
       "      <td>0.0</td>\n",
       "      <td>0.0</td>\n",
       "      <td>0.0</td>\n",
       "      <td>0.0</td>\n",
       "      <td>0.0</td>\n",
       "      <td>0.0</td>\n",
       "      <td>0.0</td>\n",
       "    </tr>\n",
       "  </tbody>\n",
       "</table>\n",
       "<p>9 rows × 120 columns</p>\n",
       "</div>"
      ],
      "text/plain": [
       "T                                      1     2     3     4     5     6    \\\n",
       "LoanId                                                                     \n",
       "0E63D66C-0963-485B-9C15-9E02009AB2C1  0.07  0.06  0.00  0.12  0.00  0.12   \n",
       "11134018-F3B9-465A-8737-9D590135DF0F  0.01  0.05  0.05  0.00  0.12  0.05   \n",
       "11AE9FBA-DA99-430C-A96D-9D460158C71B  0.06  0.05  0.05  0.05  0.05  0.05   \n",
       "12E90CB0-B420-4C65-B8C6-9D1D01103508  0.06  0.10  0.05  0.01  0.05  0.05   \n",
       "17053D5D-02E4-48F8-A416-9D2200F79DF3  0.06  0.05  0.05  0.05  0.05  0.05   \n",
       "1B34092E-1C67-42A4-AC72-9E5101806A08  0.09  0.06  0.00  0.12  0.00  0.12   \n",
       "1B3FCB72-2D67-4B43-92E3-9DE3015ADFFA  0.00  0.11  0.05  0.05  0.04  0.02   \n",
       "1B6F9FA2-D6D8-46B1-B3D4-9D5F00BB005F  0.07  0.06  0.06  0.06  0.06  0.06   \n",
       "1C9F4008-8AFA-4343-B4AA-9D1E00FAC8D0  0.03  0.09  0.05  0.05  0.05  0.05   \n",
       "\n",
       "T                                      7     8     9     10   ...  111  112  \\\n",
       "LoanId                                                        ...             \n",
       "0E63D66C-0963-485B-9C15-9E02009AB2C1  0.06  0.06  0.06  0.06  ...  0.0  0.0   \n",
       "11134018-F3B9-465A-8737-9D590135DF0F  0.05  0.05  0.06  0.05  ...  0.0  0.0   \n",
       "11AE9FBA-DA99-430C-A96D-9D460158C71B  0.80  0.00  0.00  0.00  ...  0.0  0.0   \n",
       "12E90CB0-B420-4C65-B8C6-9D1D01103508  0.05  0.05  0.06  0.10  ...  0.0  0.0   \n",
       "17053D5D-02E4-48F8-A416-9D2200F79DF3  0.05  0.05  0.05  0.05  ...  0.0  0.0   \n",
       "1B34092E-1C67-42A4-AC72-9E5101806A08  0.06  0.00  0.12  0.06  ...  0.0  0.0   \n",
       "1B3FCB72-2D67-4B43-92E3-9DE3015ADFFA  0.00  0.01  0.00  0.00  ...  0.0  0.0   \n",
       "1B6F9FA2-D6D8-46B1-B3D4-9D5F00BB005F  0.01  0.11  0.00  0.06  ...  0.0  0.0   \n",
       "1C9F4008-8AFA-4343-B4AA-9D1E00FAC8D0  0.05  0.05  0.05  0.05  ...  0.0  0.0   \n",
       "\n",
       "T                                     113  114  115  116  117  118  119  120  \n",
       "LoanId                                                                        \n",
       "0E63D66C-0963-485B-9C15-9E02009AB2C1  0.0  0.0  0.0  0.0  0.0  0.0  NaN  NaN  \n",
       "11134018-F3B9-465A-8737-9D590135DF0F  0.0  0.0  0.0  0.0  0.0  0.0  0.0  0.0  \n",
       "11AE9FBA-DA99-430C-A96D-9D460158C71B  0.0  0.0  0.0  0.0  0.0  0.0  0.0  0.0  \n",
       "12E90CB0-B420-4C65-B8C6-9D1D01103508  0.0  0.0  0.0  0.0  0.0  0.0  0.0  0.0  \n",
       "17053D5D-02E4-48F8-A416-9D2200F79DF3  0.0  0.0  0.0  0.0  0.0  0.0  0.0  0.0  \n",
       "1B34092E-1C67-42A4-AC72-9E5101806A08  0.0  0.0  NaN  NaN  NaN  NaN  NaN  NaN  \n",
       "1B3FCB72-2D67-4B43-92E3-9DE3015ADFFA  0.0  0.0  0.0  0.0  0.0  0.0  0.0  NaN  \n",
       "1B6F9FA2-D6D8-46B1-B3D4-9D5F00BB005F  0.0  0.0  0.0  0.0  0.0  0.0  0.0  0.0  \n",
       "1C9F4008-8AFA-4343-B4AA-9D1E00FAC8D0  0.0  0.0  0.0  0.0  0.0  0.0  0.0  0.0  \n",
       "\n",
       "[9 rows x 120 columns]"
      ]
     },
     "execution_count": 11,
     "metadata": {},
     "output_type": "execute_result"
    }
   ],
   "source": [
    "cashflows = payments[payments['LoanId'].isin(subset)].pivot(index='LoanId', columns='T', values='Y')\n",
    "cashflows.round(2).iloc[1:10,0:120]"
   ]
  },
  {
   "cell_type": "markdown",
   "metadata": {},
   "source": [
    "If we invested in a portfolio of these loans, we get the mean payment:"
   ]
  },
  {
   "cell_type": "code",
   "execution_count": 12,
   "metadata": {},
   "outputs": [
    {
     "data": {
      "text/html": [
       "<div>\n",
       "<style scoped>\n",
       "    .dataframe tbody tr th:only-of-type {\n",
       "        vertical-align: middle;\n",
       "    }\n",
       "\n",
       "    .dataframe tbody tr th {\n",
       "        vertical-align: top;\n",
       "    }\n",
       "\n",
       "    .dataframe thead th {\n",
       "        text-align: right;\n",
       "    }\n",
       "</style>\n",
       "<table border=\"1\" class=\"dataframe\">\n",
       "  <thead>\n",
       "    <tr style=\"text-align: right;\">\n",
       "      <th>T</th>\n",
       "      <th>1</th>\n",
       "      <th>2</th>\n",
       "      <th>3</th>\n",
       "      <th>4</th>\n",
       "      <th>5</th>\n",
       "      <th>6</th>\n",
       "      <th>7</th>\n",
       "      <th>8</th>\n",
       "      <th>9</th>\n",
       "      <th>10</th>\n",
       "      <th>...</th>\n",
       "      <th>111</th>\n",
       "      <th>112</th>\n",
       "      <th>113</th>\n",
       "      <th>114</th>\n",
       "      <th>115</th>\n",
       "      <th>116</th>\n",
       "      <th>117</th>\n",
       "      <th>118</th>\n",
       "      <th>119</th>\n",
       "      <th>120</th>\n",
       "    </tr>\n",
       "  </thead>\n",
       "  <tbody>\n",
       "    <tr>\n",
       "      <th>0</th>\n",
       "      <td>0.06</td>\n",
       "      <td>0.06</td>\n",
       "      <td>0.05</td>\n",
       "      <td>0.05</td>\n",
       "      <td>0.04</td>\n",
       "      <td>0.06</td>\n",
       "      <td>0.05</td>\n",
       "      <td>0.04</td>\n",
       "      <td>0.04</td>\n",
       "      <td>0.04</td>\n",
       "      <td>...</td>\n",
       "      <td>0.0</td>\n",
       "      <td>0.0</td>\n",
       "      <td>0.0</td>\n",
       "      <td>0.0</td>\n",
       "      <td>0.0</td>\n",
       "      <td>0.0</td>\n",
       "      <td>0.0</td>\n",
       "      <td>0.03</td>\n",
       "      <td>0.0</td>\n",
       "      <td>0.01</td>\n",
       "    </tr>\n",
       "  </tbody>\n",
       "</table>\n",
       "<p>1 rows × 120 columns</p>\n",
       "</div>"
      ],
      "text/plain": [
       "T   1     2     3     4     5     6     7     8     9     10   ...  111  112  \\\n",
       "0  0.06  0.06  0.05  0.05  0.04  0.06  0.05  0.04  0.04  0.04  ...  0.0  0.0   \n",
       "\n",
       "T  113  114  115  116  117   118  119   120  \n",
       "0  0.0  0.0  0.0  0.0  0.0  0.03  0.0  0.01  \n",
       "\n",
       "[1 rows x 120 columns]"
      ]
     },
     "execution_count": 12,
     "metadata": {},
     "output_type": "execute_result"
    }
   ],
   "source": [
    "mean_cashflow = cashflows.mean(axis=0)#payments_subset.groupby('T')['Y'].agg('mean')\n",
    "pd.DataFrame(mean_cashflow).round(2).transpose().iloc[:,0:120]"
   ]
  },
  {
   "cell_type": "markdown",
   "metadata": {},
   "source": [
    "Lets calculate the profit of each loan and the portfolio of such loans:"
   ]
  },
  {
   "cell_type": "code",
   "execution_count": 13,
   "metadata": {},
   "outputs": [],
   "source": [
    "profits = pd.Series({loanid: calculate_profit(cashflow) for loanid, cashflow in cashflows.iterrows()})\n",
    "mean_profit = calculate_profit(mean_cashflow)"
   ]
  },
  {
   "cell_type": "markdown",
   "metadata": {},
   "source": [
    "We see that these loans had different profits and the overall profit is quite respectable 26% (in few loans made 10 years ago):"
   ]
  },
  {
   "cell_type": "code",
   "execution_count": 14,
   "metadata": {},
   "outputs": [
    {
     "data": {
      "text/plain": [
       "<matplotlib.legend.Legend at 0x19a84261320>"
      ]
     },
     "execution_count": 14,
     "metadata": {},
     "output_type": "execute_result"
    },
    {
     "data": {
      "image/png": "[encoded data removed]",
      "text/plain": [
       "<Figure size 432x288 with 1 Axes>"
      ]
     },
     "metadata": {
      "needs_background": "light"
     },
     "output_type": "display_data"
    }
   ],
   "source": [
    "plt.figure()\n",
    "plt.hist(profits, bins=np.arange(-1,1+0.025,0.025), density=True)\n",
    "plt.axvline(mean_profit, color='black', linewidth=3, label='Mean Profit')\n",
    "plt.title('Probability Density of Profits')\n",
    "plt.xlabel('Profit')\n",
    "plt.legend()"
   ]
  },
  {
   "cell_type": "markdown",
   "metadata": {},
   "source": [
    "### Example 2"
   ]
  },
  {
   "cell_type": "markdown",
   "metadata": {},
   "source": [
    "Second, lets look at 100 loans sampled randomly from the entire Bondora data set:"
   ]
  },
  {
   "cell_type": "code",
   "execution_count": 15,
   "metadata": {},
   "outputs": [],
   "source": [
    "subset = np.random.choice(loans['LoanId'], 100, replace=False)"
   ]
  },
  {
   "cell_type": "markdown",
   "metadata": {},
   "source": [
    "We visualize the data and also illustrate the follow-up of each loan. For example, if a loan was made 2019-01-01 and the data was gathered 2020-06-30, the loan should have 18 months of follow-up. We see that there is a serious problem: many loans have not been followed for long enough for their paymments to be observable, and the situation is worse the more recent or more longer duration the loans are: "
   ]
  },
  {
   "cell_type": "code",
   "execution_count": 16,
   "metadata": {},
   "outputs": [
    {
     "data": {
      "image/png": "[encoded data removed]",
      "text/plain": [
       "<Figure size 432x288 with 2 Axes>"
      ]
     },
     "metadata": {
      "needs_background": "light"
     },
     "output_type": "display_data"
    }
   ],
   "source": [
    "plot_payments(payments[payments['LoanId'].isin(subset)], followup=True)"
   ]
  },
  {
   "cell_type": "markdown",
   "metadata": {},
   "source": [
    "These are the payments in individual loans, with the problem that many of them are now unknown:"
   ]
  },
  {
   "cell_type": "code",
   "execution_count": 17,
   "metadata": {},
   "outputs": [
    {
     "data": {
      "text/html": [
       "<div>\n",
       "<style scoped>\n",
       "    .dataframe tbody tr th:only-of-type {\n",
       "        vertical-align: middle;\n",
       "    }\n",
       "\n",
       "    .dataframe tbody tr th {\n",
       "        vertical-align: top;\n",
       "    }\n",
       "\n",
       "    .dataframe thead th {\n",
       "        text-align: right;\n",
       "    }\n",
       "</style>\n",
       "<table border=\"1\" class=\"dataframe\">\n",
       "  <thead>\n",
       "    <tr style=\"text-align: right;\">\n",
       "      <th>T</th>\n",
       "      <th>1</th>\n",
       "      <th>2</th>\n",
       "      <th>3</th>\n",
       "      <th>4</th>\n",
       "      <th>5</th>\n",
       "      <th>6</th>\n",
       "      <th>7</th>\n",
       "      <th>8</th>\n",
       "      <th>9</th>\n",
       "      <th>10</th>\n",
       "      <th>...</th>\n",
       "      <th>110</th>\n",
       "      <th>111</th>\n",
       "      <th>112</th>\n",
       "      <th>113</th>\n",
       "      <th>114</th>\n",
       "      <th>115</th>\n",
       "      <th>116</th>\n",
       "      <th>117</th>\n",
       "      <th>118</th>\n",
       "      <th>119</th>\n",
       "    </tr>\n",
       "    <tr>\n",
       "      <th>LoanId</th>\n",
       "      <th></th>\n",
       "      <th></th>\n",
       "      <th></th>\n",
       "      <th></th>\n",
       "      <th></th>\n",
       "      <th></th>\n",
       "      <th></th>\n",
       "      <th></th>\n",
       "      <th></th>\n",
       "      <th></th>\n",
       "      <th></th>\n",
       "      <th></th>\n",
       "      <th></th>\n",
       "      <th></th>\n",
       "      <th></th>\n",
       "      <th></th>\n",
       "      <th></th>\n",
       "      <th></th>\n",
       "      <th></th>\n",
       "      <th></th>\n",
       "      <th></th>\n",
       "    </tr>\n",
       "  </thead>\n",
       "  <tbody>\n",
       "    <tr>\n",
       "      <th>01DABE36-564F-4402-A542-A704012B060C</th>\n",
       "      <td>0.00</td>\n",
       "      <td>0.04</td>\n",
       "      <td>0.00</td>\n",
       "      <td>0.00</td>\n",
       "      <td>0.00</td>\n",
       "      <td>0.00</td>\n",
       "      <td>0.00</td>\n",
       "      <td>0.00</td>\n",
       "      <td>0.00</td>\n",
       "      <td>0.00</td>\n",
       "      <td>...</td>\n",
       "      <td>NaN</td>\n",
       "      <td>NaN</td>\n",
       "      <td>NaN</td>\n",
       "      <td>NaN</td>\n",
       "      <td>NaN</td>\n",
       "      <td>NaN</td>\n",
       "      <td>NaN</td>\n",
       "      <td>NaN</td>\n",
       "      <td>NaN</td>\n",
       "      <td>NaN</td>\n",
       "    </tr>\n",
       "    <tr>\n",
       "      <th>02E8A15F-5C6B-4C99-80F2-AA4C00A6DFC3</th>\n",
       "      <td>0.03</td>\n",
       "      <td>0.02</td>\n",
       "      <td>0.02</td>\n",
       "      <td>0.02</td>\n",
       "      <td>0.02</td>\n",
       "      <td>0.02</td>\n",
       "      <td>0.01</td>\n",
       "      <td>0.01</td>\n",
       "      <td>0.01</td>\n",
       "      <td>0.00</td>\n",
       "      <td>...</td>\n",
       "      <td>NaN</td>\n",
       "      <td>NaN</td>\n",
       "      <td>NaN</td>\n",
       "      <td>NaN</td>\n",
       "      <td>NaN</td>\n",
       "      <td>NaN</td>\n",
       "      <td>NaN</td>\n",
       "      <td>NaN</td>\n",
       "      <td>NaN</td>\n",
       "      <td>NaN</td>\n",
       "    </tr>\n",
       "    <tr>\n",
       "      <th>0302908D-3EAA-4769-ADC4-9DC800F85FDA</th>\n",
       "      <td>0.01</td>\n",
       "      <td>0.21</td>\n",
       "      <td>0.10</td>\n",
       "      <td>0.10</td>\n",
       "      <td>0.10</td>\n",
       "      <td>0.10</td>\n",
       "      <td>0.08</td>\n",
       "      <td>0.03</td>\n",
       "      <td>0.00</td>\n",
       "      <td>0.29</td>\n",
       "      <td>...</td>\n",
       "      <td>0.0</td>\n",
       "      <td>0.0</td>\n",
       "      <td>0.0</td>\n",
       "      <td>0.0</td>\n",
       "      <td>0.0</td>\n",
       "      <td>0.0</td>\n",
       "      <td>0.0</td>\n",
       "      <td>0.0</td>\n",
       "      <td>0.0</td>\n",
       "      <td>0.0</td>\n",
       "    </tr>\n",
       "    <tr>\n",
       "      <th>0934CD95-C832-4209-97FF-AB02012E4762</th>\n",
       "      <td>0.03</td>\n",
       "      <td>0.03</td>\n",
       "      <td>0.03</td>\n",
       "      <td>0.03</td>\n",
       "      <td>0.03</td>\n",
       "      <td>0.03</td>\n",
       "      <td>0.03</td>\n",
       "      <td>0.03</td>\n",
       "      <td>0.03</td>\n",
       "      <td>NaN</td>\n",
       "      <td>...</td>\n",
       "      <td>NaN</td>\n",
       "      <td>NaN</td>\n",
       "      <td>NaN</td>\n",
       "      <td>NaN</td>\n",
       "      <td>NaN</td>\n",
       "      <td>NaN</td>\n",
       "      <td>NaN</td>\n",
       "      <td>NaN</td>\n",
       "      <td>NaN</td>\n",
       "      <td>NaN</td>\n",
       "    </tr>\n",
       "    <tr>\n",
       "      <th>100915B6-B974-4CD0-ADDF-A81E00DBE0EB</th>\n",
       "      <td>0.03</td>\n",
       "      <td>0.00</td>\n",
       "      <td>0.06</td>\n",
       "      <td>0.03</td>\n",
       "      <td>0.00</td>\n",
       "      <td>0.03</td>\n",
       "      <td>0.03</td>\n",
       "      <td>0.03</td>\n",
       "      <td>0.03</td>\n",
       "      <td>0.06</td>\n",
       "      <td>...</td>\n",
       "      <td>NaN</td>\n",
       "      <td>NaN</td>\n",
       "      <td>NaN</td>\n",
       "      <td>NaN</td>\n",
       "      <td>NaN</td>\n",
       "      <td>NaN</td>\n",
       "      <td>NaN</td>\n",
       "      <td>NaN</td>\n",
       "      <td>NaN</td>\n",
       "      <td>NaN</td>\n",
       "    </tr>\n",
       "    <tr>\n",
       "      <th>1015709E-A155-48D9-A1AB-A37D00A2799F</th>\n",
       "      <td>0.04</td>\n",
       "      <td>0.04</td>\n",
       "      <td>0.03</td>\n",
       "      <td>0.00</td>\n",
       "      <td>0.00</td>\n",
       "      <td>0.00</td>\n",
       "      <td>0.00</td>\n",
       "      <td>0.00</td>\n",
       "      <td>0.00</td>\n",
       "      <td>0.03</td>\n",
       "      <td>...</td>\n",
       "      <td>NaN</td>\n",
       "      <td>NaN</td>\n",
       "      <td>NaN</td>\n",
       "      <td>NaN</td>\n",
       "      <td>NaN</td>\n",
       "      <td>NaN</td>\n",
       "      <td>NaN</td>\n",
       "      <td>NaN</td>\n",
       "      <td>NaN</td>\n",
       "      <td>NaN</td>\n",
       "    </tr>\n",
       "    <tr>\n",
       "      <th>11E6EFAD-89C9-41CD-9F36-A14300FE4868</th>\n",
       "      <td>0.03</td>\n",
       "      <td>0.00</td>\n",
       "      <td>0.04</td>\n",
       "      <td>0.04</td>\n",
       "      <td>0.04</td>\n",
       "      <td>0.08</td>\n",
       "      <td>0.00</td>\n",
       "      <td>0.06</td>\n",
       "      <td>0.02</td>\n",
       "      <td>0.02</td>\n",
       "      <td>...</td>\n",
       "      <td>NaN</td>\n",
       "      <td>NaN</td>\n",
       "      <td>NaN</td>\n",
       "      <td>NaN</td>\n",
       "      <td>NaN</td>\n",
       "      <td>NaN</td>\n",
       "      <td>NaN</td>\n",
       "      <td>NaN</td>\n",
       "      <td>NaN</td>\n",
       "      <td>NaN</td>\n",
       "    </tr>\n",
       "    <tr>\n",
       "      <th>129DAF74-3E39-4BB2-8048-A46E0092A607</th>\n",
       "      <td>0.00</td>\n",
       "      <td>0.10</td>\n",
       "      <td>0.00</td>\n",
       "      <td>0.00</td>\n",
       "      <td>0.00</td>\n",
       "      <td>0.00</td>\n",
       "      <td>0.03</td>\n",
       "      <td>0.07</td>\n",
       "      <td>0.07</td>\n",
       "      <td>0.00</td>\n",
       "      <td>...</td>\n",
       "      <td>NaN</td>\n",
       "      <td>NaN</td>\n",
       "      <td>NaN</td>\n",
       "      <td>NaN</td>\n",
       "      <td>NaN</td>\n",
       "      <td>NaN</td>\n",
       "      <td>NaN</td>\n",
       "      <td>NaN</td>\n",
       "      <td>NaN</td>\n",
       "      <td>NaN</td>\n",
       "    </tr>\n",
       "    <tr>\n",
       "      <th>14AA50C5-2B9E-46CF-8692-A674010B4C0A</th>\n",
       "      <td>0.11</td>\n",
       "      <td>0.00</td>\n",
       "      <td>0.11</td>\n",
       "      <td>0.11</td>\n",
       "      <td>0.11</td>\n",
       "      <td>0.11</td>\n",
       "      <td>0.03</td>\n",
       "      <td>0.00</td>\n",
       "      <td>0.30</td>\n",
       "      <td>0.11</td>\n",
       "      <td>...</td>\n",
       "      <td>NaN</td>\n",
       "      <td>NaN</td>\n",
       "      <td>NaN</td>\n",
       "      <td>NaN</td>\n",
       "      <td>NaN</td>\n",
       "      <td>NaN</td>\n",
       "      <td>NaN</td>\n",
       "      <td>NaN</td>\n",
       "      <td>NaN</td>\n",
       "      <td>NaN</td>\n",
       "    </tr>\n",
       "  </tbody>\n",
       "</table>\n",
       "<p>9 rows × 119 columns</p>\n",
       "</div>"
      ],
      "text/plain": [
       "T                                      1     2     3     4     5     6    \\\n",
       "LoanId                                                                     \n",
       "01DABE36-564F-4402-A542-A704012B060C  0.00  0.04  0.00  0.00  0.00  0.00   \n",
       "02E8A15F-5C6B-4C99-80F2-AA4C00A6DFC3  0.03  0.02  0.02  0.02  0.02  0.02   \n",
       "0302908D-3EAA-4769-ADC4-9DC800F85FDA  0.01  0.21  0.10  0.10  0.10  0.10   \n",
       "0934CD95-C832-4209-97FF-AB02012E4762  0.03  0.03  0.03  0.03  0.03  0.03   \n",
       "100915B6-B974-4CD0-ADDF-A81E00DBE0EB  0.03  0.00  0.06  0.03  0.00  0.03   \n",
       "1015709E-A155-48D9-A1AB-A37D00A2799F  0.04  0.04  0.03  0.00  0.00  0.00   \n",
       "11E6EFAD-89C9-41CD-9F36-A14300FE4868  0.03  0.00  0.04  0.04  0.04  0.08   \n",
       "129DAF74-3E39-4BB2-8048-A46E0092A607  0.00  0.10  0.00  0.00  0.00  0.00   \n",
       "14AA50C5-2B9E-46CF-8692-A674010B4C0A  0.11  0.00  0.11  0.11  0.11  0.11   \n",
       "\n",
       "T                                      7     8     9     10   ...  110  111  \\\n",
       "LoanId                                                        ...             \n",
       "01DABE36-564F-4402-A542-A704012B060C  0.00  0.00  0.00  0.00  ...  NaN  NaN   \n",
       "02E8A15F-5C6B-4C99-80F2-AA4C00A6DFC3  0.01  0.01  0.01  0.00  ...  NaN  NaN   \n",
       "0302908D-3EAA-4769-ADC4-9DC800F85FDA  0.08  0.03  0.00  0.29  ...  0.0  0.0   \n",
       "0934CD95-C832-4209-97FF-AB02012E4762  0.03  0.03  0.03   NaN  ...  NaN  NaN   \n",
       "100915B6-B974-4CD0-ADDF-A81E00DBE0EB  0.03  0.03  0.03  0.06  ...  NaN  NaN   \n",
       "1015709E-A155-48D9-A1AB-A37D00A2799F  0.00  0.00  0.00  0.03  ...  NaN  NaN   \n",
       "11E6EFAD-89C9-41CD-9F36-A14300FE4868  0.00  0.06  0.02  0.02  ...  NaN  NaN   \n",
       "129DAF74-3E39-4BB2-8048-A46E0092A607  0.03  0.07  0.07  0.00  ...  NaN  NaN   \n",
       "14AA50C5-2B9E-46CF-8692-A674010B4C0A  0.03  0.00  0.30  0.11  ...  NaN  NaN   \n",
       "\n",
       "T                                     112  113  114  115  116  117  118  119  \n",
       "LoanId                                                                        \n",
       "01DABE36-564F-4402-A542-A704012B060C  NaN  NaN  NaN  NaN  NaN  NaN  NaN  NaN  \n",
       "02E8A15F-5C6B-4C99-80F2-AA4C00A6DFC3  NaN  NaN  NaN  NaN  NaN  NaN  NaN  NaN  \n",
       "0302908D-3EAA-4769-ADC4-9DC800F85FDA  0.0  0.0  0.0  0.0  0.0  0.0  0.0  0.0  \n",
       "0934CD95-C832-4209-97FF-AB02012E4762  NaN  NaN  NaN  NaN  NaN  NaN  NaN  NaN  \n",
       "100915B6-B974-4CD0-ADDF-A81E00DBE0EB  NaN  NaN  NaN  NaN  NaN  NaN  NaN  NaN  \n",
       "1015709E-A155-48D9-A1AB-A37D00A2799F  NaN  NaN  NaN  NaN  NaN  NaN  NaN  NaN  \n",
       "11E6EFAD-89C9-41CD-9F36-A14300FE4868  NaN  NaN  NaN  NaN  NaN  NaN  NaN  NaN  \n",
       "129DAF74-3E39-4BB2-8048-A46E0092A607  NaN  NaN  NaN  NaN  NaN  NaN  NaN  NaN  \n",
       "14AA50C5-2B9E-46CF-8692-A674010B4C0A  NaN  NaN  NaN  NaN  NaN  NaN  NaN  NaN  \n",
       "\n",
       "[9 rows x 119 columns]"
      ]
     },
     "execution_count": 17,
     "metadata": {},
     "output_type": "execute_result"
    }
   ],
   "source": [
    "cashflows = payments[payments['LoanId'].isin(subset)].pivot(index='LoanId', columns='T', values='Y')\n",
    "cashflows.round(2).iloc[1:10,0:120]"
   ]
  },
  {
   "cell_type": "markdown",
   "metadata": {},
   "source": [
    "However, calculating the mean payment still works, as long as the payments are calculated over the observable loans (NaNs ignored):"
   ]
  },
  {
   "cell_type": "code",
   "execution_count": 18,
   "metadata": {},
   "outputs": [
    {
     "data": {
      "text/html": [
       "<div>\n",
       "<style scoped>\n",
       "    .dataframe tbody tr th:only-of-type {\n",
       "        vertical-align: middle;\n",
       "    }\n",
       "\n",
       "    .dataframe tbody tr th {\n",
       "        vertical-align: top;\n",
       "    }\n",
       "\n",
       "    .dataframe thead th {\n",
       "        text-align: right;\n",
       "    }\n",
       "</style>\n",
       "<table border=\"1\" class=\"dataframe\">\n",
       "  <thead>\n",
       "    <tr style=\"text-align: right;\">\n",
       "      <th>T</th>\n",
       "      <th>1</th>\n",
       "      <th>2</th>\n",
       "      <th>3</th>\n",
       "      <th>4</th>\n",
       "      <th>5</th>\n",
       "      <th>6</th>\n",
       "      <th>7</th>\n",
       "      <th>8</th>\n",
       "      <th>9</th>\n",
       "      <th>10</th>\n",
       "      <th>...</th>\n",
       "      <th>110</th>\n",
       "      <th>111</th>\n",
       "      <th>112</th>\n",
       "      <th>113</th>\n",
       "      <th>114</th>\n",
       "      <th>115</th>\n",
       "      <th>116</th>\n",
       "      <th>117</th>\n",
       "      <th>118</th>\n",
       "      <th>119</th>\n",
       "    </tr>\n",
       "  </thead>\n",
       "  <tbody>\n",
       "    <tr>\n",
       "      <th>0</th>\n",
       "      <td>0.04</td>\n",
       "      <td>0.05</td>\n",
       "      <td>0.04</td>\n",
       "      <td>0.04</td>\n",
       "      <td>0.04</td>\n",
       "      <td>0.04</td>\n",
       "      <td>0.02</td>\n",
       "      <td>0.05</td>\n",
       "      <td>0.03</td>\n",
       "      <td>0.03</td>\n",
       "      <td>...</td>\n",
       "      <td>0.0</td>\n",
       "      <td>0.0</td>\n",
       "      <td>0.0</td>\n",
       "      <td>0.0</td>\n",
       "      <td>0.0</td>\n",
       "      <td>0.0</td>\n",
       "      <td>0.0</td>\n",
       "      <td>0.0</td>\n",
       "      <td>0.0</td>\n",
       "      <td>0.0</td>\n",
       "    </tr>\n",
       "  </tbody>\n",
       "</table>\n",
       "<p>1 rows × 119 columns</p>\n",
       "</div>"
      ],
      "text/plain": [
       "T   1     2     3     4     5     6     7     8     9     10   ...  110  111  \\\n",
       "0  0.04  0.05  0.04  0.04  0.04  0.04  0.02  0.05  0.03  0.03  ...  0.0  0.0   \n",
       "\n",
       "T  112  113  114  115  116  117  118  119  \n",
       "0  0.0  0.0  0.0  0.0  0.0  0.0  0.0  0.0  \n",
       "\n",
       "[1 rows x 119 columns]"
      ]
     },
     "execution_count": 18,
     "metadata": {},
     "output_type": "execute_result"
    }
   ],
   "source": [
    "mean_cashflow = cashflows.mean(axis=0)#payments_subset.groupby('T')['Y'].agg('mean')\n",
    "pd.DataFrame(mean_cashflow).round(2).transpose().iloc[:,0:120]"
   ]
  },
  {
   "cell_type": "markdown",
   "metadata": {},
   "source": [
    "Lets again try to calculate the profits. Now there is a serious problem: the DCF calculation assumes that unobserved payments are never made, so the profits are severely underestimated. If one assumes they will be made on schedule (so the loans never default), the profits would be severely overestimated. At least the 'mean profit' still works:"
   ]
  },
  {
   "cell_type": "code",
   "execution_count": 19,
   "metadata": {},
   "outputs": [],
   "source": [
    "profits = pd.Series({loanid: calculate_profit(cashflow) for loanid, cashflow in cashflows.iterrows()})\n",
    "mean_profit = calculate_profit(mean_cashflow)"
   ]
  },
  {
   "cell_type": "code",
   "execution_count": 20,
   "metadata": {},
   "outputs": [
    {
     "data": {
      "text/plain": [
       "<matplotlib.legend.Legend at 0x19a842a7d68>"
      ]
     },
     "execution_count": 20,
     "metadata": {},
     "output_type": "execute_result"
    },
    {
     "data": {
      "image/png": "[encoded data removed]",
      "text/plain": [
       "<Figure size 432x288 with 1 Axes>"
      ]
     },
     "metadata": {
      "needs_background": "light"
     },
     "output_type": "display_data"
    }
   ],
   "source": [
    "plt.figure()\n",
    "plt.hist(profits, bins=np.arange(-1,1+0.025,0.025), density=True, color='grey')\n",
    "plt.axvline(mean_profit, color='black', linewidth=3, label='Mean Profit')\n",
    "plt.title('Probability Density of Profits')\n",
    "plt.xlabel('Profit')\n",
    "plt.legend()"
   ]
  },
  {
   "cell_type": "markdown",
   "metadata": {},
   "source": [
    "Many loans now seem less profitable because they are missing payments. However, the profit calculation of a portfolio based on the mean payments was supposed to be accurate, but the profit seems to be around zero! (in a representative sample of all loans)"
   ]
  },
  {
   "cell_type": "markdown",
   "metadata": {},
   "source": [
    "### Example 3"
   ]
  },
  {
   "cell_type": "markdown",
   "metadata": {},
   "source": [
    "Could we somehow predict the mean payment in each loan? In a way that accounts for censoring?\n",
    "\n",
    "The answer is yes, but we need to take into account the loan schedule. It was seen in the previous examples that the loan schedule has a huge effect on the obtained payments because most payments are made on schedule. However, loans default and we do not obtain the scheduled payments in full. We also obtain recovery payments after the loan duration is already over from the defaulted loans. \n",
    "\n",
    "To predict the payments, we cannot simply mathematically calculate the loan schedule and assume we get these payments. It is not smart to directly model the loan payments either, because the loan schedule is completely deterministic and significantly affects how the payments are going to look like. We therefore need a model between these two extremes: one that incorporates the loan schedule but also how defaults and recoveries affect it."
   ]
  },
  {
   "cell_type": "markdown",
   "metadata": {},
   "source": [
    "The following widget can be used to play around with the loan schedule. Each loan is defined by three variables:\n",
    "1. Loan duration $n$ (months)\n",
    "2. Loan amount $M$ (euros)\n",
    "3. Interest rate $I$ (monthly) \n",
    "\n",
    "The scheduled monthly payments can then be calculated from the annuity formula $P = M I \\frac{(1+I)^n}{(1+I)^n - 1} $. "
   ]
  },
  {
   "cell_type": "code",
   "execution_count": 33,
   "metadata": {},
   "outputs": [
    {
     "data": {
      "application/vnd.jupyter.widget-view+json": {
       "model_id": "7573d1c74f4941459c6c10eff6700b23",
       "version_major": 2,
       "version_minor": 0
      },
      "text/plain": [
       "interactive(children=(IntSlider(value=24, description='loan_duration', max=60, min=12, step=12), IntSlider(val…"
      ]
     },
     "metadata": {},
     "output_type": "display_data"
    }
   ],
   "source": [
    "def calculate_payments(loan_duration=24, loan_amount=1000, interest_rate=12):\n",
    "    interest_month = interest_rate/12/100\n",
    "    payment = loan_amount * interest_month * (1 + interest_month)**loan_duration / ((1 + interest_month)**loan_duration - 1)\n",
    "    payments = pd.Series(np.array([payment]*loan_duration + [0.0]*(80 - loan_duration)), index=np.arange(80) + 1)\n",
    "    fig, ax = plt.subplots(1, 1)\n",
    "    payments.plot(ax=ax, drawstyle='steps-post')\n",
    "    ax.set_title('Loan Payments')\n",
    "    ax.set_ylabel('Payment')\n",
    "    ax.set_xlabel('Month')\n",
    "\n",
    "_ = interact(calculate_payments, loan_duration=(12,60,12), loan_amount=(1000,10000,1000), interest_rate=(5,50,5))"
   ]
  },
  {
   "cell_type": "markdown",
   "metadata": {},
   "source": [
    "Again, lets take 100 random loans for illustration:"
   ]
  },
  {
   "cell_type": "code",
   "execution_count": 21,
   "metadata": {},
   "outputs": [],
   "source": [
    "ids = np.random.choice(loans['LoanId'], 100, replace=False)"
   ]
  },
  {
   "cell_type": "markdown",
   "metadata": {},
   "source": [
    "We need to model how defaults and recoveries affect the loan schedule. The following visualization shows how the data set of payments can be split into two complementary data sets: one for defaults and another for recoveries:"
   ]
  },
  {
   "cell_type": "code",
   "execution_count": 22,
   "metadata": {},
   "outputs": [
    {
     "data": {
      "image/png": "[encoded data removed]",
      "text/plain": [
       "<Figure size 1008x288 with 6 Axes>"
      ]
     },
     "metadata": {
      "needs_background": "light"
     },
     "output_type": "display_data"
    }
   ],
   "source": [
    "plot_models(payments[payments['LoanId'].isin(ids)],\n",
    "            intervals[intervals['LoanId'].isin(ids)],\n",
    "            residuals[residuals['LoanId'].isin(ids)])"
   ]
  },
  {
   "cell_type": "markdown",
   "metadata": {},
   "source": [
    "While the loan has not defaulted we obtained a scheduled payment or an early repayment. After the loan defaults we obtain the recovery payments. For this reason, we are going to develop two models based on these data sets:\n",
    "1. Default model: predicts the default (% probability) in each monthly interval\n",
    "2. Loss Given Default model: predicts the recovery (% of EAD) in each monthly interval after a default"
   ]
  },
  {
   "cell_type": "markdown",
   "metadata": {},
   "source": [
    "When we have models for the defaults and recoveries, we can calculate the monthly payments. Define the following quantities:\n",
    "1. Payment rate: mean payment per month.\n",
    "2. Default rate: mean number of defaults per month.\n",
    "3. Recovery rate: mean recovery after a default per month.\n",
    "\n",
    "The predicted default rate (Default model) and recovery rate (Loss Given Default model) imply the monthly payments (Profit model):\n",
    "\n",
    "    'Default rate' + 'Recovery rate' = 'Payment rate'"
   ]
  },
  {
   "cell_type": "markdown",
   "metadata": {},
   "source": [
    "We can actually calculate these rates in the data set without any model:"
   ]
  },
  {
   "cell_type": "code",
   "execution_count": 23,
   "metadata": {},
   "outputs": [],
   "source": [
    "payment_rate = payments.groupby('T')['Y'].agg('mean')\n",
    "default_rate = intervals.groupby('T')['Y'].agg('mean')\n",
    "recovery_rate = residuals.groupby('T')['Y'].agg('mean')"
   ]
  },
  {
   "cell_type": "code",
   "execution_count": 24,
   "metadata": {},
   "outputs": [
    {
     "data": {
      "text/plain": [
       "(0, 80)"
      ]
     },
     "execution_count": 24,
     "metadata": {},
     "output_type": "execute_result"
    },
    {
     "data": {
      "image/png": "[encoded data removed]",
      "text/plain": [
       "<Figure size 1008x216 with 3 Axes>"
      ]
     },
     "metadata": {
      "needs_background": "light"
     },
     "output_type": "display_data"
    }
   ],
   "source": [
    "fig, ((ax1, ax2, ax3)) = plt.subplots(1, 3, sharex=True, figsize=(14,3))\n",
    "payment_rate.plot(ax=ax1, drawstyle='steps-post', color='tab:blue').set_title('Payment Rate')\n",
    "default_rate.plot(ax=ax2, drawstyle='steps-post', color='tab:red').set_title('Default Rate')\n",
    "recovery_rate.plot(ax=ax3, drawstyle='steps-post', color='tab:orange').set_title('Recovery Rate')\n",
    "ax1.set_xlim(0,80)"
   ]
  },
  {
   "cell_type": "markdown",
   "metadata": {},
   "source": [
    "The payment rate is explained by the default rate and recovery rate. Many defaults occur immediately as around 8% of loans default the first month, 4% the second month, etc. until over time a default becomes less and less likely as the loan has survived and made more scheduled payments. It can be seen that if a loan defaults around 1% or principal is recovered the first month, and this looks like tends to 0% recovery linearly over about 100 months. This implies that around $1\\%*100/2 = 50\\%$ of principal is recovered over time, on average. \n",
    "\n",
    "If one invested 1€ in all historical Bondora loans equally, on average one would obtain about 0.058€ back the first month,  0.055€ the second month, etc. until at 80 months practically 0.000€ is obtained. It is possible to calculate the profit of this portfolio from the payments, and see that it is indeed a lot lower than the historical loans or statistics suggest:"
   ]
  },
  {
   "cell_type": "code",
   "execution_count": 25,
   "metadata": {},
   "outputs": [
    {
     "name": "stdout",
     "output_type": "stream",
     "text": [
      "Profit of all Bondora loans: 0.75 %\n"
     ]
    }
   ],
   "source": [
    "print(\"Profit of all Bondora loans: %.2f %%\" % (calculate_profit(payment_rate) * 100))"
   ]
  },
  {
   "cell_type": "markdown",
   "metadata": {},
   "source": [
    "### Default Model"
   ]
  },
  {
   "cell_type": "markdown",
   "metadata": {},
   "source": [
    "The first model is the default model. The model describes the default event $Y_{i,t}$ of loan $i$ at time $t$ as a logistic regression model, which is a discrete time analogue of the popular Cox proportional hazards model. Given time indicator vector $e_t$ and loan feature vector $x_i$, we seek model parameter vectors $\\alpha, \\beta$ such that:\n",
    "\n",
    "$$ \\frac{P(Y_{i,t} = 1)}{1 - P(Y_{i,t} = 1)} = \\text{exp}(\\alpha^T e_t + \\beta^T x_i) $$ \n",
    "\n",
    "In the Python implmentation, we use scikit-learn that penalizes the parameter vectors by Tikhonov regularization.\n",
    "\n",
    "For this model, we load the loan features and default events:"
   ]
  },
  {
   "cell_type": "code",
   "execution_count": 26,
   "metadata": {},
   "outputs": [],
   "source": [
    "loans = pd.read_csv('datas/LoanData2.csv')\n",
    "intervals = pd.read_csv('datas/df_Y.csv')"
   ]
  },
  {
   "cell_type": "markdown",
   "metadata": {},
   "source": [
    "In this example we fit the model to 10 000 random loans and analyze the default rate up to 80 months:"
   ]
  },
  {
   "cell_type": "code",
   "execution_count": 27,
   "metadata": {},
   "outputs": [],
   "source": [
    "loanids = np.random.choice(loans['LoanId'], 10000, replace=False)\n",
    "loans = loans[loans['LoanId'].isin(loanids)]\n",
    "intervals = intervals[(intervals['T'] <= 80) & (intervals['LoanId'].isin(loanids))]"
   ]
  },
  {
   "cell_type": "markdown",
   "metadata": {},
   "source": [
    "The following constructs the model. We define which columns should be numeric and which categorical (one-hot encoded). The time variable can be either numeric or categorical (T_classes=...), which correspond to a type parametric or non-parametric method:"
   ]
  },
  {
   "cell_type": "code",
   "execution_count": 28,
   "metadata": {},
   "outputs": [],
   "source": [
    "col_numeric = ['Interest', 'Age', 'ApplicationSignedHour', 'ApplicationSignedWeekday', 'LoanDuration', 'Amount',\n",
    "                  'IncomeTotal', 'LiabilitiesTotal', 'LiabilitiesToIncome', 'LoansToIncome', 'PaymentToIncome',\n",
    "                  'ExistingLiabilities', 'PreviousNumber_Intervals', 'PreviousNumber', 'PreviousNumber_Current',\n",
    "                  'PreviousNumber_Default', 'PreviousNumber_Repaid', 'PreviousNumber_Rescheduled']\n",
    "col_classes = ['Year', 'Rating', 'Rating2', 'Gender', 'Education', 'HomeOwnershipType',\n",
    "                  'EmploymentDurationCurrentEmployer', 'VerificationType', 'LiabilitiesToIncomeUnknown', 'NoHistory']\n",
    "all_classes = OrderedDict([(col, np.sort(loans[col].unique())) for col in col_classes])\n",
    "#T_classes = np.sort(intervals['T'].unique())\n",
    "\n",
    "model = DefaultModel(col_numeric, col_classes, all_classes)#, T_classes=T_classes)\n"
   ]
  },
  {
   "cell_type": "markdown",
   "metadata": {},
   "source": [
    "Lets fit the model and calculate the AUC. The stratified AUC takes into account that different samples may come from the same loan:"
   ]
  },
  {
   "cell_type": "code",
   "execution_count": 29,
   "metadata": {},
   "outputs": [
    {
     "name": "stdout",
     "output_type": "stream",
     "text": [
      "0.7311076332271493 0.7384438925097107\n"
     ]
    }
   ],
   "source": [
    "model.fit(loans, intervals)\n",
    "P = model.predict(loans, intervals)\n",
    "Y = intervals['Y']\n",
    "T = intervals['T']\n",
    "print(model.auc(Y, P), model.auc_stratified(Y, P, T))"
   ]
  },
  {
   "cell_type": "markdown",
   "metadata": {},
   "source": [
    "We can also plot the AUC by each month, meaning how well the model predicts defaults that month:"
   ]
  },
  {
   "cell_type": "code",
   "execution_count": 30,
   "metadata": {},
   "outputs": [
    {
     "data": {
      "text/plain": [
       "Text(0.5, 1.0, 'AUC Time-Varying')"
      ]
     },
     "execution_count": 30,
     "metadata": {},
     "output_type": "execute_result"
    },
    {
     "data": {
      "image/png": "[encoded data removed]",
      "text/plain": [
       "<Figure size 432x288 with 1 Axes>"
      ]
     },
     "metadata": {
      "needs_background": "light"
     },
     "output_type": "display_data"
    }
   ],
   "source": [
    "aucs = model.auc_t(Y, P, T)\n",
    "pd.Series(aucs).plot(drawstyle='steps-post').set_title('AUC Time-Varying')"
   ]
  },
  {
   "cell_type": "markdown",
   "metadata": {},
   "source": [
    "We can also interpret the coefficients of the model, which are quite intuitive. Higher default rate is predicted by higher interest rate, lower age, higher debt load, lower credit rating, less past payments, etc:"
   ]
  },
  {
   "cell_type": "code",
   "execution_count": 31,
   "metadata": {},
   "outputs": [
    {
     "data": {
      "image/png": "[encoded data removed]",
      "text/plain": [
       "<Figure size 1008x504 with 1 Axes>"
      ]
     },
     "metadata": {
      "needs_background": "light"
     },
     "output_type": "display_data"
    }
   ],
   "source": [
    "coefs = model.coefs()\n",
    "coefs.plot(kind='bar').set_title('Model Coefficients')\n",
    "plt.gcf().set_size_inches(14, 7)\n",
    "plt.tight_layout()"
   ]
  },
  {
   "cell_type": "markdown",
   "metadata": {},
   "source": [
    "Finally, we split the data into training and test sets. The linear model is not very prone to overfitting and almost equal AUC is obtained:"
   ]
  },
  {
   "cell_type": "code",
   "execution_count": 32,
   "metadata": {},
   "outputs": [
    {
     "name": "stdout",
     "output_type": "stream",
     "text": [
      "0.7360142919198037\n"
     ]
    }
   ],
   "source": [
    "gkf = ShuffleSplit(n_splits=1, test_size=0.2)\n",
    "train, test = next(gkf.split(loans))\n",
    "train_loans, test_loans = loans.iloc[train,], loans.iloc[test,]\n",
    "train_intervals, test_intervals = train_loans[['LoanId']].merge(intervals), test_loans[['LoanId']].merge(intervals)\n",
    "model.fit(train_loans, train_intervals)\n",
    "P = model.predict(test_loans, test_intervals)\n",
    "Y = test_intervals['Y']\n",
    "T = test_intervals['T']\n",
    "auc = model.auc_stratified(Y, P, T)\n",
    "aucs = model.auc_t(Y, P, T)\n",
    "print(auc)"
   ]
  },
  {
   "cell_type": "code",
   "execution_count": 33,
   "metadata": {},
   "outputs": [
    {
     "data": {
      "text/plain": [
       "Text(0.5, 1.0, 'AUC Time-Varying')"
      ]
     },
     "execution_count": 33,
     "metadata": {},
     "output_type": "execute_result"
    },
    {
     "data": {
      "image/png": "[encoded data removed]",
      "text/plain": [
       "<Figure size 432x288 with 1 Axes>"
      ]
     },
     "metadata": {
      "needs_background": "light"
     },
     "output_type": "display_data"
    }
   ],
   "source": [
    "pd.Series(aucs).plot(drawstyle='steps-post').set_title('AUC Time-Varying')"
   ]
  },
  {
   "cell_type": "markdown",
   "metadata": {},
   "source": [
    "This model can be used not only to predict the default probability each month, but also give a 'credit rating' to each borrower. Consider the odds ratio predicted by $ \\frac{P(Y_{i,t} = 1)}{1 - P(Y_{i,t} = 1)} = \\text{exp}(\\alpha^T e_t + \\beta^T x_i)$. In this expression, the term $\\alpha^T e_t$ is an intercept that specifies the baseline default rate at month $t$, and the term $\\beta^T x_i$ is the relative risk that specifies how loan $i$ affects the baseline default rate. \n",
    "\n",
    "We can therefore use therelative risk $\\beta^T x_i$ term as the 'credit rating':"
   ]
  },
  {
   "cell_type": "code",
   "execution_count": 34,
   "metadata": {},
   "outputs": [
    {
     "data": {
      "text/plain": [
       "Text(0.5, 1.0, 'Relative Credit Risk score')"
      ]
     },
     "execution_count": 34,
     "metadata": {},
     "output_type": "execute_result"
    },
    {
     "data": {
      "image/png": "[encoded data removed]",
      "text/plain": [
       "<Figure size 432x288 with 1 Axes>"
      ]
     },
     "metadata": {
      "needs_background": "light"
     },
     "output_type": "display_data"
    }
   ],
   "source": [
    "risk = model.risk(test_loans)\n",
    "risk.hist().set_title('Relative Credit Risk score')"
   ]
  },
  {
   "cell_type": "markdown",
   "metadata": {},
   "source": [
    "The relative risk is nicely normally distributed, and we could define high or low risk categories based on this."
   ]
  },
  {
   "cell_type": "markdown",
   "metadata": {},
   "source": [
    "## Loss Given Default Model"
   ]
  },
  {
   "cell_type": "markdown",
   "metadata": {},
   "source": [
    "The second model is the loss given default model. The model describes the recovery $Y_{i,t}$ of loan $i$ at time $t$ as a least squares regression model. Given time indicator vector $e_t$ and loan feature vector $x_i$, we seek model parameter vectors $\\alpha, \\beta$ such that the expected recovery is described by:\n",
    "\n",
    "$$ E[Y_{i,t}] = \\text{exp}(\\alpha^T e_t + \\beta^T x_i) $$ \n",
    "\n",
    "In the Python implmentation, the 'log-link' is not available and we use scikit-learn that uses the following formulation and penalizes the parameter vectors by Tikhonov regularization:\n",
    "\n",
    "$$ E[Y_{i,t}] = \\alpha^T e_t + \\beta^T x_i $$ \n",
    "\n",
    "For this model, we load the loan features and monthly recoveries:"
   ]
  },
  {
   "cell_type": "code",
   "execution_count": 35,
   "metadata": {},
   "outputs": [],
   "source": [
    "loans = pd.read_csv('datas/LoanData2.csv')\n",
    "residuals = pd.read_csv('datas/df_R.csv')"
   ]
  },
  {
   "cell_type": "markdown",
   "metadata": {},
   "source": [
    "In this example we again fit the model to 10 000 random loans and analyze the recovery rate up to 80 months:"
   ]
  },
  {
   "cell_type": "code",
   "execution_count": 36,
   "metadata": {},
   "outputs": [],
   "source": [
    "loanids = np.random.choice(loans['LoanId'], 10000, replace=False)\n",
    "loans = loans[loans['LoanId'].isin(loanids)]\n",
    "residuals = residuals[(residuals['T'] <= 80) & residuals['LoanId'].isin(loanids)]"
   ]
  },
  {
   "cell_type": "markdown",
   "metadata": {},
   "source": [
    "The following constructs the model. We define which columns should be numeric and which categorical (one-hot encoded). The time variable can be either numeric or categorical (T_classes=...), which correspond to a type parametric or non-parametric method:\n"
   ]
  },
  {
   "cell_type": "code",
   "execution_count": 37,
   "metadata": {},
   "outputs": [],
   "source": [
    "col_numeric = ['Interest', 'Age', 'ApplicationSignedHour', 'ApplicationSignedWeekday', 'LoanDuration', 'Amount',\n",
    "                  'IncomeTotal', 'LiabilitiesTotal', 'LiabilitiesToIncome', 'LoansToIncome', 'PaymentToIncome',\n",
    "                  'ExistingLiabilities', 'PreviousNumber_Intervals', 'PreviousNumber', 'PreviousNumber_Current',\n",
    "                  'PreviousNumber_Default', 'PreviousNumber_Repaid', 'PreviousNumber_Rescheduled']\n",
    "col_classes = ['Year', 'Rating', 'Rating2', 'Gender', 'Education', 'HomeOwnershipType',\n",
    "                  'EmploymentDurationCurrentEmployer', 'VerificationType', 'LiabilitiesToIncomeUnknown', 'NoHistory']\n",
    "all_classes = OrderedDict([(col, np.sort(loans[col].unique())) for col in col_classes])\n",
    "#T_classes = np.sort(residuals['T'].unique())\n",
    "\n",
    "model = LGDModel(col_numeric, col_classes, all_classes)#, T_classes=T_classes)"
   ]
  },
  {
   "cell_type": "markdown",
   "metadata": {},
   "source": [
    "Lets fit the model and calculate the MSE. The MSE is very small because the absolute quantities (recoveries) are very small:"
   ]
  },
  {
   "cell_type": "code",
   "execution_count": 38,
   "metadata": {},
   "outputs": [
    {
     "name": "stdout",
     "output_type": "stream",
     "text": [
      "0.0026983950267068712\n"
     ]
    }
   ],
   "source": [
    "model.fit(loans, residuals)\n",
    "P = model.predict(loans, residuals)\n",
    "Y = residuals['Y']\n",
    "T = residuals['T']\n",
    "print(model.mse(Y, P))"
   ]
  },
  {
   "cell_type": "markdown",
   "metadata": {},
   "source": [
    "We can also plot the MSE by each month, meaning how well the model predicts defaults that month. The task is easier when there are few recoveries:"
   ]
  },
  {
   "cell_type": "code",
   "execution_count": 39,
   "metadata": {},
   "outputs": [
    {
     "data": {
      "text/plain": [
       "Text(0.5, 1.0, 'MSE Time-Varying')"
      ]
     },
     "execution_count": 39,
     "metadata": {},
     "output_type": "execute_result"
    },
    {
     "data": {
      "image/png": "[encoded data removed]",
      "text/plain": [
       "<Figure size 432x288 with 1 Axes>"
      ]
     },
     "metadata": {
      "needs_background": "light"
     },
     "output_type": "display_data"
    }
   ],
   "source": [
    "mses = model.mse_t(Y, P, T)\n",
    "pd.Series(mses).plot(drawstyle='steps-post').set_title('MSE Time-Varying')"
   ]
  },
  {
   "cell_type": "markdown",
   "metadata": {},
   "source": [
    "We can also interpret the coefficients of the model, which are again quite intuitive but different from the loss given default model. Note that whereas higher coefficients implied higher default probability, here higher coefficients imply higher recoveries. Lower recovery rate is predicted by higher age, higher loan amounts, higher debt load, more recent loan year, etc:\n"
   ]
  },
  {
   "cell_type": "code",
   "execution_count": 40,
   "metadata": {},
   "outputs": [
    {
     "data": {
      "image/png": "[encoded data removed]",
      "text/plain": [
       "<Figure size 1008x504 with 1 Axes>"
      ]
     },
     "metadata": {
      "needs_background": "light"
     },
     "output_type": "display_data"
    }
   ],
   "source": [
    "coefs = model.coefs()\n",
    "coefs.plot(kind='bar').set_title('Model Coefficients')\n",
    "plt.gcf().set_size_inches(14, 7)\n",
    "plt.tight_layout()"
   ]
  },
  {
   "cell_type": "markdown",
   "metadata": {},
   "source": [
    "Finally, we split the data into training and test sets. Somewhat larger MSE is obtained in the test set:"
   ]
  },
  {
   "cell_type": "code",
   "execution_count": 41,
   "metadata": {},
   "outputs": [
    {
     "name": "stdout",
     "output_type": "stream",
     "text": [
      "0.0030392788540646648\n"
     ]
    }
   ],
   "source": [
    "gkf = ShuffleSplit(n_splits=1, test_size=0.2)\n",
    "train, test = next(gkf.split(loans))\n",
    "train_loans, test_loans = loans.iloc[train,], loans.iloc[test,]\n",
    "train_residuals, test_residuals = train_loans[['LoanId']].merge(residuals), test_loans[['LoanId']].merge(residuals)\n",
    "model.fit(train_loans, train_residuals, C=1)\n",
    "P = model.predict(test_loans, test_residuals)\n",
    "Y = test_residuals['Y']\n",
    "T = test_residuals['T']\n",
    "mse = model.mse(Y, P)\n",
    "mses = model.mse_t(Y, P, T)\n",
    "print(mse)"
   ]
  },
  {
   "cell_type": "code",
   "execution_count": 42,
   "metadata": {},
   "outputs": [
    {
     "data": {
      "text/plain": [
       "Text(0.5, 1.0, 'MSE Time-Varying')"
      ]
     },
     "execution_count": 42,
     "metadata": {},
     "output_type": "execute_result"
    },
    {
     "data": {
      "image/png": "[encoded data removed]",
      "text/plain": [
       "<Figure size 432x288 with 1 Axes>"
      ]
     },
     "metadata": {
      "needs_background": "light"
     },
     "output_type": "display_data"
    }
   ],
   "source": [
    "pd.Series(mses).plot(drawstyle='steps-post').set_title('MSE Time-Varying')"
   ]
  },
  {
   "cell_type": "markdown",
   "metadata": {},
   "source": [
    "This model can be used not only to predict the recovery rate each month, but also calculate the Loss Given Default (LGD) of each loan. For this, we predict the monthly recoveries and calculate the present value of the payments using a discount rate of 10%, for example. This gives the following results:"
   ]
  },
  {
   "cell_type": "code",
   "execution_count": 43,
   "metadata": {},
   "outputs": [
    {
     "data": {
      "text/plain": [
       "Text(0.5, 1.0, 'Loss Given Default')"
      ]
     },
     "execution_count": 43,
     "metadata": {},
     "output_type": "execute_result"
    },
    {
     "data": {
      "image/png": "[encoded data removed]",
      "text/plain": [
       "<Figure size 432x288 with 1 Axes>"
      ]
     },
     "metadata": {
      "needs_background": "light"
     },
     "output_type": "display_data"
    }
   ],
   "source": [
    "lgds = model.lgd(test_loans)\n",
    "lgds.hist().set_title('Loss Given Default')"
   ]
  },
  {
   "cell_type": "markdown",
   "metadata": {},
   "source": [
    "It seems like very high predicted losses are common if we take into account the 'time value of money'. In few cases, the predicted loss can be positive if all principal is recovered with interest."
   ]
  },
  {
   "cell_type": "markdown",
   "metadata": {},
   "source": [
    "## Profit Model"
   ]
  },
  {
   "cell_type": "markdown",
   "metadata": {},
   "source": [
    "Finally, the above models are combined in the profit model. We first predict the default rate and recovery rate of each loan, then calculate the monthly payments that are implied by these rates. Then we calculate the profit from these monthly payments.\n",
    "\n",
    "This model requires the loan features, default events, and recoveries:"
   ]
  },
  {
   "cell_type": "code",
   "execution_count": 44,
   "metadata": {},
   "outputs": [],
   "source": [
    "loans = pd.read_csv('datas/LoanData2.csv')\n",
    "intervals = pd.read_csv('datas/df_Y.csv')\n",
    "residuals = pd.read_csv('datas/df_R.csv')"
   ]
  },
  {
   "cell_type": "markdown",
   "metadata": {},
   "source": [
    "In the last example, we use a random set of 20 000 loans up to 80 monthly intervals:"
   ]
  },
  {
   "cell_type": "code",
   "execution_count": 45,
   "metadata": {},
   "outputs": [],
   "source": [
    "loanids = np.random.choice(loans['LoanId'], 20000, replace=False)\n",
    "loans = loans[loans['LoanId'].isin(loanids)]\n",
    "intervals = intervals[(intervals['T'] <= 80) & (intervals['LoanId'].isin(loanids))]\n",
    "residuals = residuals[(residuals['T'] <= 80) & (residuals['LoanId'].isin(loanids))]"
   ]
  },
  {
   "cell_type": "markdown",
   "metadata": {},
   "source": [
    "The following constructs the model, which is basically the 'Default' model and 'Loss Given Default' model wrapped inside a class with special mathematical calculations for the payments:"
   ]
  },
  {
   "cell_type": "code",
   "execution_count": 46,
   "metadata": {},
   "outputs": [],
   "source": [
    "col_numeric = ['Interest', 'Age', 'ApplicationSignedHour', 'ApplicationSignedWeekday', 'LoanDuration', 'Amount',\n",
    "                  'IncomeTotal', 'LiabilitiesTotal', 'LiabilitiesToIncome', 'LoansToIncome', 'PaymentToIncome',\n",
    "                  'ExistingLiabilities', 'PreviousNumber_Intervals', 'PreviousNumber', 'PreviousNumber_Current',\n",
    "                  'PreviousNumber_Default', 'PreviousNumber_Repaid', 'PreviousNumber_Rescheduled']\n",
    "col_classes = ['Year', 'Rating', 'Rating2', 'Gender', 'Education', 'HomeOwnershipType',\n",
    "                  'EmploymentDurationCurrentEmployer', 'VerificationType', 'LiabilitiesToIncomeUnknown', 'NoHistory']\n",
    "all_classes = OrderedDict([(col, np.sort(loans[col].unique())) for col in col_classes])\n",
    "T_classes = np.sort(intervals['T'].unique())\n",
    "\n",
    "model = ProfitModel(col_numeric, col_classes, all_classes, T_classes)\n"
   ]
  },
  {
   "cell_type": "markdown",
   "metadata": {},
   "source": [
    "The model can be used to predict payments in on-going loans, so we need to define that these loans are just issued:"
   ]
  },
  {
   "cell_type": "code",
   "execution_count": 47,
   "metadata": {},
   "outputs": [],
   "source": [
    "loans['Interest'] = loans['Interest'] / 12.0 / 100\n",
    "loans['n_survived'] = 0\n",
    "loans['n_total'] = loans['LoanDuration']"
   ]
  },
  {
   "cell_type": "markdown",
   "metadata": {},
   "source": [
    "Lets divide the data into a training set and test set:"
   ]
  },
  {
   "cell_type": "code",
   "execution_count": 48,
   "metadata": {},
   "outputs": [],
   "source": [
    "gkf = ShuffleSplit(n_splits=1, test_size=0.2)\n",
    "train, test = next(gkf.split(loans))\n",
    "train_loans, test_loans = loans.iloc[train,], loans.iloc[test,]\n",
    "train_intervals = train_loans[['LoanId']].merge(intervals)\n",
    "test_intervals = test_loans[['LoanId']].merge(intervals)\n",
    "train_residuals = train_loans[['LoanId']].merge(residuals)\n",
    "test_residuals = test_loans[['LoanId']].merge(residuals)\n",
    "model.fit(train_loans, train_intervals, train_residuals, C1=1, C2=1)"
   ]
  },
  {
   "cell_type": "markdown",
   "metadata": {},
   "source": [
    "We can now predict the cashflows in each loan in the test set:"
   ]
  },
  {
   "cell_type": "code",
   "execution_count": 50,
   "metadata": {},
   "outputs": [
    {
     "data": {
      "text/html": [
       "<div>\n",
       "<style scoped>\n",
       "    .dataframe tbody tr th:only-of-type {\n",
       "        vertical-align: middle;\n",
       "    }\n",
       "\n",
       "    .dataframe tbody tr th {\n",
       "        vertical-align: top;\n",
       "    }\n",
       "\n",
       "    .dataframe thead th {\n",
       "        text-align: right;\n",
       "    }\n",
       "</style>\n",
       "<table border=\"1\" class=\"dataframe\">\n",
       "  <thead>\n",
       "    <tr style=\"text-align: right;\">\n",
       "      <th></th>\n",
       "      <th>1</th>\n",
       "      <th>2</th>\n",
       "      <th>3</th>\n",
       "      <th>4</th>\n",
       "      <th>5</th>\n",
       "      <th>6</th>\n",
       "      <th>7</th>\n",
       "      <th>8</th>\n",
       "      <th>9</th>\n",
       "      <th>10</th>\n",
       "      <th>...</th>\n",
       "      <th>71</th>\n",
       "      <th>72</th>\n",
       "      <th>73</th>\n",
       "      <th>74</th>\n",
       "      <th>75</th>\n",
       "      <th>76</th>\n",
       "      <th>77</th>\n",
       "      <th>78</th>\n",
       "      <th>79</th>\n",
       "      <th>80</th>\n",
       "    </tr>\n",
       "  </thead>\n",
       "  <tbody>\n",
       "    <tr>\n",
       "      <th>BF068A6F-2A69-48EA-9567-A2B20171AA70</th>\n",
       "      <td>0.04</td>\n",
       "      <td>0.04</td>\n",
       "      <td>0.04</td>\n",
       "      <td>0.04</td>\n",
       "      <td>0.04</td>\n",
       "      <td>0.04</td>\n",
       "      <td>0.04</td>\n",
       "      <td>0.04</td>\n",
       "      <td>0.04</td>\n",
       "      <td>0.04</td>\n",
       "      <td>...</td>\n",
       "      <td>0.0</td>\n",
       "      <td>0.0</td>\n",
       "      <td>0.0</td>\n",
       "      <td>0.0</td>\n",
       "      <td>0.0</td>\n",
       "      <td>0.0</td>\n",
       "      <td>0.0</td>\n",
       "      <td>0.0</td>\n",
       "      <td>0.0</td>\n",
       "      <td>0.0</td>\n",
       "    </tr>\n",
       "    <tr>\n",
       "      <th>CFBF6988-78E3-4AAC-8F92-A9200103F08E</th>\n",
       "      <td>0.04</td>\n",
       "      <td>0.04</td>\n",
       "      <td>0.04</td>\n",
       "      <td>0.04</td>\n",
       "      <td>0.04</td>\n",
       "      <td>0.04</td>\n",
       "      <td>0.04</td>\n",
       "      <td>0.04</td>\n",
       "      <td>0.03</td>\n",
       "      <td>0.03</td>\n",
       "      <td>...</td>\n",
       "      <td>0.0</td>\n",
       "      <td>0.0</td>\n",
       "      <td>0.0</td>\n",
       "      <td>0.0</td>\n",
       "      <td>0.0</td>\n",
       "      <td>0.0</td>\n",
       "      <td>0.0</td>\n",
       "      <td>0.0</td>\n",
       "      <td>0.0</td>\n",
       "      <td>0.0</td>\n",
       "    </tr>\n",
       "    <tr>\n",
       "      <th>F1A598D2-24E7-451E-AD50-A5D80100AB67</th>\n",
       "      <td>0.03</td>\n",
       "      <td>0.03</td>\n",
       "      <td>0.03</td>\n",
       "      <td>0.03</td>\n",
       "      <td>0.02</td>\n",
       "      <td>0.02</td>\n",
       "      <td>0.02</td>\n",
       "      <td>0.02</td>\n",
       "      <td>0.02</td>\n",
       "      <td>0.02</td>\n",
       "      <td>...</td>\n",
       "      <td>0.0</td>\n",
       "      <td>0.0</td>\n",
       "      <td>0.0</td>\n",
       "      <td>0.0</td>\n",
       "      <td>0.0</td>\n",
       "      <td>0.0</td>\n",
       "      <td>0.0</td>\n",
       "      <td>0.0</td>\n",
       "      <td>0.0</td>\n",
       "      <td>0.0</td>\n",
       "    </tr>\n",
       "    <tr>\n",
       "      <th>C2625634-A362-4B35-84B1-A862009A13AB</th>\n",
       "      <td>0.03</td>\n",
       "      <td>0.03</td>\n",
       "      <td>0.03</td>\n",
       "      <td>0.03</td>\n",
       "      <td>0.03</td>\n",
       "      <td>0.03</td>\n",
       "      <td>0.03</td>\n",
       "      <td>0.03</td>\n",
       "      <td>0.03</td>\n",
       "      <td>0.03</td>\n",
       "      <td>...</td>\n",
       "      <td>0.0</td>\n",
       "      <td>0.0</td>\n",
       "      <td>0.0</td>\n",
       "      <td>0.0</td>\n",
       "      <td>0.0</td>\n",
       "      <td>0.0</td>\n",
       "      <td>0.0</td>\n",
       "      <td>0.0</td>\n",
       "      <td>0.0</td>\n",
       "      <td>0.0</td>\n",
       "    </tr>\n",
       "    <tr>\n",
       "      <th>299314EF-5E0D-46CB-BF41-AA9900803019</th>\n",
       "      <td>0.04</td>\n",
       "      <td>0.04</td>\n",
       "      <td>0.04</td>\n",
       "      <td>0.04</td>\n",
       "      <td>0.04</td>\n",
       "      <td>0.04</td>\n",
       "      <td>0.04</td>\n",
       "      <td>0.04</td>\n",
       "      <td>0.04</td>\n",
       "      <td>0.04</td>\n",
       "      <td>...</td>\n",
       "      <td>0.0</td>\n",
       "      <td>0.0</td>\n",
       "      <td>0.0</td>\n",
       "      <td>0.0</td>\n",
       "      <td>0.0</td>\n",
       "      <td>0.0</td>\n",
       "      <td>0.0</td>\n",
       "      <td>0.0</td>\n",
       "      <td>0.0</td>\n",
       "      <td>0.0</td>\n",
       "    </tr>\n",
       "    <tr>\n",
       "      <th>B37583E6-FCD4-4E6F-B370-AB0901610EC4</th>\n",
       "      <td>0.03</td>\n",
       "      <td>0.03</td>\n",
       "      <td>0.03</td>\n",
       "      <td>0.03</td>\n",
       "      <td>0.03</td>\n",
       "      <td>0.02</td>\n",
       "      <td>0.02</td>\n",
       "      <td>0.02</td>\n",
       "      <td>0.02</td>\n",
       "      <td>0.02</td>\n",
       "      <td>...</td>\n",
       "      <td>0.0</td>\n",
       "      <td>0.0</td>\n",
       "      <td>0.0</td>\n",
       "      <td>0.0</td>\n",
       "      <td>0.0</td>\n",
       "      <td>0.0</td>\n",
       "      <td>0.0</td>\n",
       "      <td>0.0</td>\n",
       "      <td>0.0</td>\n",
       "      <td>0.0</td>\n",
       "    </tr>\n",
       "    <tr>\n",
       "      <th>791868D9-E06C-4B66-B1F3-A6DE01302621</th>\n",
       "      <td>0.08</td>\n",
       "      <td>0.06</td>\n",
       "      <td>0.05</td>\n",
       "      <td>0.04</td>\n",
       "      <td>0.03</td>\n",
       "      <td>0.02</td>\n",
       "      <td>0.02</td>\n",
       "      <td>0.02</td>\n",
       "      <td>0.01</td>\n",
       "      <td>0.01</td>\n",
       "      <td>...</td>\n",
       "      <td>0.0</td>\n",
       "      <td>0.0</td>\n",
       "      <td>0.0</td>\n",
       "      <td>0.0</td>\n",
       "      <td>0.0</td>\n",
       "      <td>0.0</td>\n",
       "      <td>0.0</td>\n",
       "      <td>0.0</td>\n",
       "      <td>0.0</td>\n",
       "      <td>0.0</td>\n",
       "    </tr>\n",
       "    <tr>\n",
       "      <th>9642DCBB-D74F-4B25-A7A6-A9830067EAB1</th>\n",
       "      <td>0.04</td>\n",
       "      <td>0.04</td>\n",
       "      <td>0.04</td>\n",
       "      <td>0.04</td>\n",
       "      <td>0.04</td>\n",
       "      <td>0.04</td>\n",
       "      <td>0.04</td>\n",
       "      <td>0.04</td>\n",
       "      <td>0.04</td>\n",
       "      <td>0.04</td>\n",
       "      <td>...</td>\n",
       "      <td>0.0</td>\n",
       "      <td>0.0</td>\n",
       "      <td>0.0</td>\n",
       "      <td>0.0</td>\n",
       "      <td>0.0</td>\n",
       "      <td>0.0</td>\n",
       "      <td>0.0</td>\n",
       "      <td>0.0</td>\n",
       "      <td>0.0</td>\n",
       "      <td>0.0</td>\n",
       "    </tr>\n",
       "    <tr>\n",
       "      <th>AA5BECB3-305C-4B4A-8A23-A69E00E50C83</th>\n",
       "      <td>0.03</td>\n",
       "      <td>0.03</td>\n",
       "      <td>0.02</td>\n",
       "      <td>0.02</td>\n",
       "      <td>0.02</td>\n",
       "      <td>0.02</td>\n",
       "      <td>0.02</td>\n",
       "      <td>0.02</td>\n",
       "      <td>0.02</td>\n",
       "      <td>0.01</td>\n",
       "      <td>...</td>\n",
       "      <td>0.0</td>\n",
       "      <td>0.0</td>\n",
       "      <td>0.0</td>\n",
       "      <td>0.0</td>\n",
       "      <td>0.0</td>\n",
       "      <td>0.0</td>\n",
       "      <td>0.0</td>\n",
       "      <td>0.0</td>\n",
       "      <td>0.0</td>\n",
       "      <td>0.0</td>\n",
       "    </tr>\n",
       "  </tbody>\n",
       "</table>\n",
       "<p>9 rows × 80 columns</p>\n",
       "</div>"
      ],
      "text/plain": [
       "                                        1     2     3     4     5     6   \\\n",
       "BF068A6F-2A69-48EA-9567-A2B20171AA70  0.04  0.04  0.04  0.04  0.04  0.04   \n",
       "CFBF6988-78E3-4AAC-8F92-A9200103F08E  0.04  0.04  0.04  0.04  0.04  0.04   \n",
       "F1A598D2-24E7-451E-AD50-A5D80100AB67  0.03  0.03  0.03  0.03  0.02  0.02   \n",
       "C2625634-A362-4B35-84B1-A862009A13AB  0.03  0.03  0.03  0.03  0.03  0.03   \n",
       "299314EF-5E0D-46CB-BF41-AA9900803019  0.04  0.04  0.04  0.04  0.04  0.04   \n",
       "B37583E6-FCD4-4E6F-B370-AB0901610EC4  0.03  0.03  0.03  0.03  0.03  0.02   \n",
       "791868D9-E06C-4B66-B1F3-A6DE01302621  0.08  0.06  0.05  0.04  0.03  0.02   \n",
       "9642DCBB-D74F-4B25-A7A6-A9830067EAB1  0.04  0.04  0.04  0.04  0.04  0.04   \n",
       "AA5BECB3-305C-4B4A-8A23-A69E00E50C83  0.03  0.03  0.02  0.02  0.02  0.02   \n",
       "\n",
       "                                        7     8     9     10  ...   71   72  \\\n",
       "BF068A6F-2A69-48EA-9567-A2B20171AA70  0.04  0.04  0.04  0.04  ...  0.0  0.0   \n",
       "CFBF6988-78E3-4AAC-8F92-A9200103F08E  0.04  0.04  0.03  0.03  ...  0.0  0.0   \n",
       "F1A598D2-24E7-451E-AD50-A5D80100AB67  0.02  0.02  0.02  0.02  ...  0.0  0.0   \n",
       "C2625634-A362-4B35-84B1-A862009A13AB  0.03  0.03  0.03  0.03  ...  0.0  0.0   \n",
       "299314EF-5E0D-46CB-BF41-AA9900803019  0.04  0.04  0.04  0.04  ...  0.0  0.0   \n",
       "B37583E6-FCD4-4E6F-B370-AB0901610EC4  0.02  0.02  0.02  0.02  ...  0.0  0.0   \n",
       "791868D9-E06C-4B66-B1F3-A6DE01302621  0.02  0.02  0.01  0.01  ...  0.0  0.0   \n",
       "9642DCBB-D74F-4B25-A7A6-A9830067EAB1  0.04  0.04  0.04  0.04  ...  0.0  0.0   \n",
       "AA5BECB3-305C-4B4A-8A23-A69E00E50C83  0.02  0.02  0.02  0.01  ...  0.0  0.0   \n",
       "\n",
       "                                       73   74   75   76   77   78   79   80  \n",
       "BF068A6F-2A69-48EA-9567-A2B20171AA70  0.0  0.0  0.0  0.0  0.0  0.0  0.0  0.0  \n",
       "CFBF6988-78E3-4AAC-8F92-A9200103F08E  0.0  0.0  0.0  0.0  0.0  0.0  0.0  0.0  \n",
       "F1A598D2-24E7-451E-AD50-A5D80100AB67  0.0  0.0  0.0  0.0  0.0  0.0  0.0  0.0  \n",
       "C2625634-A362-4B35-84B1-A862009A13AB  0.0  0.0  0.0  0.0  0.0  0.0  0.0  0.0  \n",
       "299314EF-5E0D-46CB-BF41-AA9900803019  0.0  0.0  0.0  0.0  0.0  0.0  0.0  0.0  \n",
       "B37583E6-FCD4-4E6F-B370-AB0901610EC4  0.0  0.0  0.0  0.0  0.0  0.0  0.0  0.0  \n",
       "791868D9-E06C-4B66-B1F3-A6DE01302621  0.0  0.0  0.0  0.0  0.0  0.0  0.0  0.0  \n",
       "9642DCBB-D74F-4B25-A7A6-A9830067EAB1  0.0  0.0  0.0  0.0  0.0  0.0  0.0  0.0  \n",
       "AA5BECB3-305C-4B4A-8A23-A69E00E50C83  0.0  0.0  0.0  0.0  0.0  0.0  0.0  0.0  \n",
       "\n",
       "[9 rows x 80 columns]"
      ]
     },
     "execution_count": 50,
     "metadata": {},
     "output_type": "execute_result"
    }
   ],
   "source": [
    "cashflows = model.predict_cashflow(test_loans, t=80)\n",
    "cashflows.round(2).iloc[1:10,0:120]"
   ]
  },
  {
   "cell_type": "markdown",
   "metadata": {},
   "source": [
    "From these cashflows, it is straightforward to calculate the implied profit:"
   ]
  },
  {
   "cell_type": "code",
   "execution_count": 52,
   "metadata": {},
   "outputs": [
    {
     "data": {
      "text/plain": [
       "BF068A6F-2A69-48EA-9567-A2B20171AA70    21.368364\n",
       "CFBF6988-78E3-4AAC-8F92-A9200103F08E    16.021316\n",
       "F1A598D2-24E7-451E-AD50-A5D80100AB67     4.875499\n",
       "C2625634-A362-4B35-84B1-A862009A13AB    -6.721435\n",
       "299314EF-5E0D-46CB-BF41-AA9900803019    30.943259\n",
       "B37583E6-FCD4-4E6F-B370-AB0901610EC4   -23.903335\n",
       "791868D9-E06C-4B66-B1F3-A6DE01302621   -63.335821\n",
       "9642DCBB-D74F-4B25-A7A6-A9830067EAB1    23.543252\n",
       "AA5BECB3-305C-4B4A-8A23-A69E00E50C83   -21.996841\n",
       "dtype: float64"
      ]
     },
     "execution_count": 52,
     "metadata": {},
     "output_type": "execute_result"
    }
   ],
   "source": [
    "profits = model.predict_profit(cashflows)\n",
    "profits.iloc[1:10]"
   ]
  },
  {
   "cell_type": "markdown",
   "metadata": {},
   "source": [
    "the model predicts that some loans have very high losses and some appear to have quite large profits. The predicted profits appear reasonable with around 5% yearly profits being the most common:"
   ]
  },
  {
   "cell_type": "code",
   "execution_count": 53,
   "metadata": {},
   "outputs": [
    {
     "data": {
      "text/plain": [
       "<matplotlib.axes._subplots.AxesSubplot at 0x19a861b4080>"
      ]
     },
     "execution_count": 53,
     "metadata": {},
     "output_type": "execute_result"
    },
    {
     "data": {
      "image/png": "[encoded data removed]",
      "text/plain": [
       "<Figure size 432x288 with 1 Axes>"
      ]
     },
     "metadata": {
      "needs_background": "light"
     },
     "output_type": "display_data"
    }
   ],
   "source": [
    "profits.hist()"
   ]
  },
  {
   "cell_type": "markdown",
   "metadata": {},
   "source": [
    "To test the ability of the model to outperform the market, we divide each test set loan into ten quantiles (1,2, ..., 10) based on the predicted profit. Each quantile defines a portfolio of loans, and we calculate the actual mean payment and the resulting profit in each portfolio:"
   ]
  },
  {
   "cell_type": "code",
   "execution_count": 54,
   "metadata": {},
   "outputs": [],
   "source": [
    "quantiles = pd.Series(pd.qcut(profits, 10, labels=np.arange(10) + 1), index=profits.index)\n",
    "quantile_predicted = cashflows.groupby(quantiles).mean()"
   ]
  },
  {
   "cell_type": "code",
   "execution_count": 55,
   "metadata": {},
   "outputs": [
    {
     "name": "stderr",
     "output_type": "stream",
     "text": [
      "C:\\Users\\mvil4\\Anaconda3\\lib\\site-packages\\ipykernel_launcher.py:1: SettingWithCopyWarning: \n",
      "A value is trying to be set on a copy of a slice from a DataFrame.\n",
      "Try using .loc[row_indexer,col_indexer] = value instead\n",
      "\n",
      "See the caveats in the documentation: http://pandas.pydata.org/pandas-docs/stable/indexing.html#indexing-view-versus-copy\n",
      "  \"\"\"Entry point for launching an IPython kernel.\n"
     ]
    }
   ],
   "source": [
    "test_loans['Quantile'] = test_loans['LoanId'].map(quantiles)\n",
    "outcomes = pd.read_csv('datas/df_M.csv')\n",
    "outcomes = test_loans[['LoanId', 'Amount', 'Quantile']].merge(outcomes)\n",
    "outcomes['Y'] = outcomes['M'] / outcomes['Amount']\n",
    "quantile_actual = outcomes.groupby(['Quantile', 'T'])['Y'].mean().unstack(level=1, fill_value=0.0)"
   ]
  },
  {
   "cell_type": "markdown",
   "metadata": {},
   "source": [
    "The loans that are predicted to be the most profitable indeed had the highest profits in reality. However, the actual magnitude of profits is not as high as predicted by the model. It looks like picking the loans in the top 3 quantiles is the only way to make any profit at all:"
   ]
  },
  {
   "cell_type": "code",
   "execution_count": 56,
   "metadata": {},
   "outputs": [
    {
     "data": {
      "text/plain": [
       "<matplotlib.axes._subplots.AxesSubplot at 0x19a861bd160>"
      ]
     },
     "execution_count": 56,
     "metadata": {},
     "output_type": "execute_result"
    },
    {
     "data": {
      "image/png": "[encoded data removed]",
      "text/plain": [
       "<Figure size 432x288 with 1 Axes>"
      ]
     },
     "metadata": {
      "needs_background": "light"
     },
     "output_type": "display_data"
    }
   ],
   "source": [
    "quantile_profits = pd.DataFrame({'Predicted': model.predict_profit(quantile_predicted),\n",
    "                                 'Actual': model.predict_profit(quantile_actual)})\n",
    "quantile_profits.plot()"
   ]
  },
  {
   "cell_type": "markdown",
   "metadata": {},
   "source": [
    "We can also compare the actual cashflows predicted by the model and received from the test set loans. It looks like the real world does not operate as smoothly as the model assumes, but the relative order of the quantiles is quite nicely predicted:"
   ]
  },
  {
   "cell_type": "code",
   "execution_count": 57,
   "metadata": {},
   "outputs": [
    {
     "data": {
      "text/plain": [
       "(0, 80)"
      ]
     },
     "execution_count": 57,
     "metadata": {},
     "output_type": "execute_result"
    },
    {
     "data": {
      "image/png": "[encoded data removed]",
      "text/plain": [
       "<Figure size 864x288 with 2 Axes>"
      ]
     },
     "metadata": {
      "needs_background": "light"
     },
     "output_type": "display_data"
    }
   ],
   "source": [
    "fig, (ax1, ax2) = plt.subplots(1, 2, sharey=True, sharex=True, figsize=(12,4))\n",
    "quantile_predicted.transpose()[[1, 5, 10]].plot(ax=ax1).set_title('Predicted Cashflows')\n",
    "quantile_actual.transpose()[[1, 5, 10]].plot(ax=ax2).set_title('Actual Cashflows')\n",
    "ax1.set_xlim(0,80)"
   ]
  },
  {
   "cell_type": "markdown",
   "metadata": {},
   "source": [
    "Finally, the following widget can be used to visualize the predicted cashflow, default rate, and recovery rate:"
   ]
  },
  {
   "cell_type": "code",
   "execution_count": 59,
   "metadata": {},
   "outputs": [
    {
     "data": {
      "application/vnd.jupyter.widget-view+json": {
       "model_id": "f7769ab5742f4bfbab5c184aef611bc9",
       "version_major": 2,
       "version_minor": 0
      },
      "text/plain": [
       "interactive(children=(Dropdown(description='Year', options=(2009, 2010, 2011, 2012, 2013, 2014, 2015, 2016, 20…"
      ]
     },
     "metadata": {},
     "output_type": "display_data"
    },
    {
     "data": {
      "text/plain": [
       "<function __main__.create_loan(**args)>"
      ]
     },
     "execution_count": 59,
     "metadata": {},
     "output_type": "execute_result"
    }
   ],
   "source": [
    "features = OrderedDict()\n",
    "\n",
    "for col in train_loans.columns:\n",
    "    if col in col_classes:\n",
    "        features[col] = list(np.sort(train_loans[col].unique()))\n",
    "        \n",
    "for col in train_loans.columns:\n",
    "    if col in col_numeric:\n",
    "        low, high = train_loans[col].min(), train_loans[col].max()\n",
    "        step = (high - low) / 20\n",
    "        features[col] = (low, high, step)\n",
    "\n",
    "def create_loan(**args):\n",
    "    loan = pd.DataFrame(args, index=[0])\n",
    "    loan['LoanId'] = 'new'\n",
    "    loan['n_survived'] = 0\n",
    "    loan['n_total'] = loan['LoanDuration']\n",
    "    haz = model.predict(loan, t=80, classify=True)\n",
    "    lgd = model.predict(loan, t=80, classify=False)\n",
    "    cashflow = model.predict_cashflow(loan, t=80)\n",
    "    fig, (ax1, ax2, ax3) = plt.subplots(1, 3, figsize=(14,3))\n",
    "    cashflow.transpose().plot(ax=ax1, drawstyle='steps-post', color='tab:blue')\n",
    "    haz.transpose().plot(ax=ax2, drawstyle='steps-post', color='tab:red')\n",
    "    lgd.transpose().plot(ax=ax3, drawstyle='steps-post', color='tab:orange')\n",
    "    ax1.set_title('Profit %.1f %%' % model.predict_profit(cashflow))\n",
    "    ax2.set_title('Credit Risk Quantile %.1f %%' % (model.credit_risk(loan)*100))\n",
    "    ax3.set_title('Loss Given Default %.1f %%' % (model.loss_given_default(loan)*100))\n",
    "    ax1.set_ylabel('Payment Rate')\n",
    "    ax2.set_ylabel('Default Rate')\n",
    "    ax3.set_ylabel('Recovery Rate')\n",
    "    ax1.set_ylim(0.00, 0.20)\n",
    "    ax2.set_ylim(0.00, 0.16)\n",
    "    ax3.set_ylim(0.00, 0.04)\n",
    "    plt.tight_layout()\n",
    "    \n",
    "interact_manual(create_loan, **features)"
   ]
  },
  {
   "cell_type": "markdown",
   "metadata": {},
   "source": [
    "## Buy secondary loans "
   ]
  },
  {
   "cell_type": "markdown",
   "metadata": {},
   "source": [
    "We have a model that appears to outperform the market. Now what? Lets buy some loans!\n",
    "\n",
    "Bondora provides an API (https://api.bondora.com/) to buy loans from the primary market where loans are made and the secondary market where investors can sell and purchase their loans. The following helper functions can be used for this purpose:"
   ]
  },
  {
   "cell_type": "code",
   "execution_count": 77,
   "metadata": {},
   "outputs": [],
   "source": [
    "from market import train_model, get_data, get_primary, get_secondary, buy_secondary"
   ]
  },
  {
   "cell_type": "markdown",
   "metadata": {},
   "source": [
    "Lets train a model:"
   ]
  },
  {
   "cell_type": "code",
   "execution_count": 78,
   "metadata": {},
   "outputs": [
    {
     "name": "stdout",
     "output_type": "stream",
     "text": [
      "Reading...\n",
      "Filtering...\n",
      "Loans: 20000\n",
      "Intervals: 211976\n",
      "Residuals: 160893\n",
      "Training...\n"
     ]
    }
   ],
   "source": [
    "model = train_model()"
   ]
  },
  {
   "cell_type": "markdown",
   "metadata": {},
   "source": [
    "The data set needs to be updated to include the most recent loans:"
   ]
  },
  {
   "cell_type": "code",
   "execution_count": 79,
   "metadata": {},
   "outputs": [
    {
     "name": "stdout",
     "output_type": "stream",
     "text": [
      "Reading...\n"
     ]
    },
    {
     "name": "stderr",
     "output_type": "stream",
     "text": [
      "C:\\Users\\mvil4\\Anaconda3\\lib\\site-packages\\IPython\\core\\interactiveshell.py:3248: DtypeWarning: Columns (89,90) have mixed types. Specify dtype option on import or set low_memory=False.\n",
      "  if (await self.run_code(code, result,  async_=asy)):\n"
     ]
    },
    {
     "name": "stdout",
     "output_type": "stream",
     "text": [
      "149853\n",
      "Adding user histories...\n",
      "149839\n",
      "Processing...\n",
      "149839\n"
     ]
    }
   ],
   "source": [
    "loans = get_data(download=False)\n",
    "loans['LoanDate'] = pd.to_datetime(loans['LoanDate'])\n",
    "loans['Defaulted'] = ~loans['DefaultDate'].isnull()"
   ]
  },
  {
   "cell_type": "markdown",
   "metadata": {},
   "source": [
    "One needs to authenticate with their Bondora account to access the API (see for example https://apimeister.com/2016/03/08/authenticate-with-bondora-API-manually.html). Now the following code gets some loans from the secondary market:   "
   ]
  },
  {
   "cell_type": "code",
   "execution_count": 80,
   "metadata": {},
   "outputs": [
    {
     "name": "stdout",
     "output_type": "stream",
     "text": [
      "2020-08-17 2020-08-18\n",
      "Slices: 5000\n",
      "4850\n",
      "( 147283 ( 2556 ) 0 )\n"
     ]
    }
   ],
   "source": [
    "auth = '8242UDT4z9JXeVsdQwvck7mNEwB0WR8yU5lc72EMwqd2shZc'\n",
    "# Loan slices\n",
    "slices = get_secondary(authorization=auth, download=False) #listedon_from='2020-08-01', listedon_to='2020-08-14'\n",
    "print(\"Slices:\", len(slices))\n",
    "# Add LoanId and default status to slices\n",
    "slices = slices.merge(loans[['UserName', 'LoanDate', 'Amount', 'Interest', 'LoanId', 'Status', 'Defaulted']])\n",
    "print(len(slices))\n",
    "# LoanData <=> Secondary market id match\n",
    "ids1 = set(loans['LoanId'].unique())\n",
    "ids2 = set(slices['LoanId'].unique())\n",
    "print(\"(\", len(ids1.difference(ids2)), \"(\", len(ids1.intersection(ids2)), \")\", len(ids2.difference(ids1)), \")\")"
   ]
  },
  {
   "cell_type": "markdown",
   "metadata": {},
   "source": [
    "These loan slices in the secondary market belong to the following loans:"
   ]
  },
  {
   "cell_type": "code",
   "execution_count": 81,
   "metadata": {},
   "outputs": [
    {
     "name": "stdout",
     "output_type": "stream",
     "text": [
      "Predict loans: 2556\n"
     ]
    }
   ],
   "source": [
    "loans['Interest'] = loans['Interest'] / 12.0 / 100\n",
    "loans = loans.merge(slices[['LoanId', 'n_survived', 'n_total']].drop_duplicates())\n",
    "print(\"Predict loans:\", len(loans))"
   ]
  },
  {
   "cell_type": "markdown",
   "metadata": {},
   "source": [
    "We predict their cashflows:"
   ]
  },
  {
   "cell_type": "code",
   "execution_count": 82,
   "metadata": {},
   "outputs": [
    {
     "name": "stderr",
     "output_type": "stream",
     "text": [
      "C:\\Users\\mvil4\\Anaconda3\\lib\\site-packages\\pandas\\core\\dtypes\\dtypes.py:458: FutureWarning: elementwise comparison failed; returning scalar instead, but in the future will perform elementwise comparison\n",
      "  if string == 'category':\n"
     ]
    }
   ],
   "source": [
    "cashflow = model.predict_cashflow(loans)\n",
    "risk = model.credit_risk(loans)"
   ]
  },
  {
   "cell_type": "markdown",
   "metadata": {},
   "source": [
    "Then it is simple to calculate the profit of each slice, which also depends on the premium the slice is sold at:"
   ]
  },
  {
   "cell_type": "code",
   "execution_count": 97,
   "metadata": {},
   "outputs": [],
   "source": [
    "slices_cashflow = slices.set_index('LoanId')[[]].merge(cashflow, left_index=True, right_index=True)\n",
    "slices_cashflow.index = slices.index\n",
    "\n",
    "slices['Premium'] = (slices['Price'] / slices['PrincipalRemaining'])\n",
    "slices['Profit'] = model.predict_profit(slices_cashflow.div(slices['Premium'], axis=0))\n",
    "slices['Risk'] = slices['LoanId'].map(risk)"
   ]
  },
  {
   "cell_type": "markdown",
   "metadata": {},
   "source": [
    "Lets map the slices into 10 quantilies by the predicted profit and calculate the mean profit in each:"
   ]
  },
  {
   "cell_type": "code",
   "execution_count": 98,
   "metadata": {},
   "outputs": [
    {
     "name": "stdout",
     "output_type": "stream",
     "text": [
      "Quantile\n",
      "1    -12.444899\n",
      "2     -0.288888\n",
      "3      5.812622\n",
      "4      9.243138\n",
      "5     12.779887\n",
      "6     16.573398\n",
      "7     19.701682\n",
      "8     23.326877\n",
      "9     27.460353\n",
      "10    35.148980\n",
      "Name: Profit, dtype: float64\n"
     ]
    }
   ],
   "source": [
    "slices = slices[(slices['LateAmountTotal'] == 0) & (slices['Status'] == 'Current') & ~slices['Defaulted']]\n",
    "slices['Quantile'] = pd.qcut(slices['Profit'], 10, labels=np.arange(10) + 1, duplicates='raise')\n",
    "print(slices.groupby('Quantile')['Profit'].mean())\n"
   ]
  },
  {
   "cell_type": "markdown",
   "metadata": {},
   "source": [
    "We visualize the predicted profit, the premium to principal, and the credit risk quantile. It looks like the secondary market loans that have not defaulted are very profitable, but are always sold at a premium and typically have a very high credit risk:"
   ]
  },
  {
   "cell_type": "code",
   "execution_count": 99,
   "metadata": {},
   "outputs": [
    {
     "data": {
      "text/plain": [
       "Text(0.5, 1.0, 'Credit Risk Quantile')"
      ]
     },
     "execution_count": 99,
     "metadata": {},
     "output_type": "execute_result"
    },
    {
     "data": {
      "image/png": "[encoded data removed]",
      "text/plain": [
       "<Figure size 1008x288 with 3 Axes>"
      ]
     },
     "metadata": {
      "needs_background": "light"
     },
     "output_type": "display_data"
    }
   ],
   "source": [
    "fig, (ax1, ax2, ax3) = plt.subplots(1, 3, figsize=(14,4))\n",
    "slices['Profit'].hist(ax=ax1).set_title('Predicted Profit')\n",
    "slices['Premium'].hist(ax=ax2).set_title('Secondary Market Premium')\n",
    "slices['Risk'].hist(ax=ax3).set_title('Credit Risk Quantile')"
   ]
  },
  {
   "cell_type": "markdown",
   "metadata": {},
   "source": [
    "The most profitable slices look like this:"
   ]
  },
  {
   "cell_type": "code",
   "execution_count": 100,
   "metadata": {},
   "outputs": [
    {
     "data": {
      "text/html": [
       "<div>\n",
       "<style scoped>\n",
       "    .dataframe tbody tr th:only-of-type {\n",
       "        vertical-align: middle;\n",
       "    }\n",
       "\n",
       "    .dataframe tbody tr th {\n",
       "        vertical-align: top;\n",
       "    }\n",
       "\n",
       "    .dataframe thead th {\n",
       "        text-align: right;\n",
       "    }\n",
       "</style>\n",
       "<table border=\"1\" class=\"dataframe\">\n",
       "  <thead>\n",
       "    <tr style=\"text-align: right;\">\n",
       "      <th></th>\n",
       "      <th>Price</th>\n",
       "      <th>Risk</th>\n",
       "      <th>Premium</th>\n",
       "      <th>Profit</th>\n",
       "    </tr>\n",
       "  </thead>\n",
       "  <tbody>\n",
       "    <tr>\n",
       "      <th>2469</th>\n",
       "      <td>4.494573</td>\n",
       "      <td>0.163110</td>\n",
       "      <td>1.01</td>\n",
       "      <td>51.360436</td>\n",
       "    </tr>\n",
       "    <tr>\n",
       "      <th>2753</th>\n",
       "      <td>4.653048</td>\n",
       "      <td>0.096434</td>\n",
       "      <td>1.02</td>\n",
       "      <td>49.481092</td>\n",
       "    </tr>\n",
       "    <tr>\n",
       "      <th>3334</th>\n",
       "      <td>7.896716</td>\n",
       "      <td>0.080575</td>\n",
       "      <td>1.01</td>\n",
       "      <td>48.770125</td>\n",
       "    </tr>\n",
       "    <tr>\n",
       "      <th>2667</th>\n",
       "      <td>4.552955</td>\n",
       "      <td>0.132111</td>\n",
       "      <td>1.06</td>\n",
       "      <td>47.884419</td>\n",
       "    </tr>\n",
       "    <tr>\n",
       "      <th>2668</th>\n",
       "      <td>4.552955</td>\n",
       "      <td>0.132111</td>\n",
       "      <td>1.06</td>\n",
       "      <td>47.884419</td>\n",
       "    </tr>\n",
       "  </tbody>\n",
       "</table>\n",
       "</div>"
      ],
      "text/plain": [
       "         Price      Risk  Premium     Profit\n",
       "2469  4.494573  0.163110     1.01  51.360436\n",
       "2753  4.653048  0.096434     1.02  49.481092\n",
       "3334  7.896716  0.080575     1.01  48.770125\n",
       "2667  4.552955  0.132111     1.06  47.884419\n",
       "2668  4.552955  0.132111     1.06  47.884419"
      ]
     },
     "execution_count": 100,
     "metadata": {},
     "output_type": "execute_result"
    }
   ],
   "source": [
    "slices = slices.sort_values('Profit', ascending=False)\n",
    "slices[['Price', 'Risk', 'Premium', 'Profit']].head()"
   ]
  },
  {
   "cell_type": "markdown",
   "metadata": {},
   "source": [
    "Lets take the Ids of those slices with over 20% profit, which there are quite many"
   ]
  },
  {
   "cell_type": "code",
   "execution_count": 101,
   "metadata": {},
   "outputs": [
    {
     "name": "stdout",
     "output_type": "stream",
     "text": [
      "1593\n"
     ]
    }
   ],
   "source": [
    "ids = slices.loc[slices['Profit'] > 20, 'Id']\n",
    "print(len(ids))"
   ]
  },
  {
   "cell_type": "markdown",
   "metadata": {},
   "source": [
    "Now, it would be quite simple to buy these slices :-]"
   ]
  },
  {
   "cell_type": "code",
   "execution_count": 71,
   "metadata": {},
   "outputs": [],
   "source": [
    "#for id in ids:\n",
    "#    buy = {'ItemIds': [id]}\n",
    "#    buy_secondary(auth, json.dumps(buy))\n",
    "#    time.sleep(1.1)"
   ]
  },
  {
   "cell_type": "code",
   "execution_count": null,
   "metadata": {},
   "outputs": [],
   "source": []
  },
  {
   "cell_type": "code",
   "execution_count": null,
   "metadata": {},
   "outputs": [],
   "source": []
  }
 ],
 "metadata": {
  "kernelspec": {
   "display_name": "Python 2",
   "language": "python",
   "name": "python2"
  },
  "language_info": {
   "codemirror_mode": {
    "name": "ipython",
    "version": 2
   },
   "file_extension": ".py",
   "mimetype": "text/x-python",
   "name": "python",
   "nbconvert_exporter": "python",
   "pygments_lexer": "ipython2",
   "version": "2.7.16"
  }
 },
 "nbformat": 4,
 "nbformat_minor": 2
}
